{
  "nbformat": 4,
  "nbformat_minor": 0,
  "metadata": {
    "colab": {
      "name": "Netflix_Recommend.ipynb",
      "provenance": [],
      "collapsed_sections": [],
      "machine_shape": "hm"
    },
    "kernelspec": {
      "name": "python3",
      "display_name": "Python 3"
    },
    "accelerator": "GPU"
  },
  "cells": [
    {
      "cell_type": "code",
      "metadata": {
        "id": "X0lRVkfb6Cit",
        "colab_type": "code",
        "colab": {}
      },
      "source": [
        ""
      ],
      "execution_count": 0,
      "outputs": []
    },
    {
      "cell_type": "code",
      "metadata": {
        "id": "Ba6Q7gR3Uh_o",
        "colab_type": "code",
        "outputId": "311461cd-cc44-424e-a7b2-326920c52f6b",
        "colab": {
          "base_uri": "https://localhost:8080/",
          "height": 122
        }
      },
      "source": [
        "from google.colab import drive\n",
        "drive.mount('/content/gdrive') "
      ],
      "execution_count": 0,
      "outputs": [
        {
          "output_type": "stream",
          "text": [
            "Go to this URL in a browser: https://accounts.google.com/o/oauth2/auth?client_id=947318989803-6bn6qk8qdgf4n4g3pfee6491hc0brc4i.apps.googleusercontent.com&redirect_uri=urn%3aietf%3awg%3aoauth%3a2.0%3aoob&response_type=code&scope=email%20https%3a%2f%2fwww.googleapis.com%2fauth%2fdocs.test%20https%3a%2f%2fwww.googleapis.com%2fauth%2fdrive%20https%3a%2f%2fwww.googleapis.com%2fauth%2fdrive.photos.readonly%20https%3a%2f%2fwww.googleapis.com%2fauth%2fpeopleapi.readonly\n",
            "\n",
            "Enter your authorization code:\n",
            "··········\n",
            "Mounted at /content/gdrive\n"
          ],
          "name": "stdout"
        }
      ]
    },
    {
      "cell_type": "code",
      "metadata": {
        "id": "a4JuLDECcz7i",
        "colab_type": "code",
        "colab": {}
      },
      "source": [
        "import pandas as pd"
      ],
      "execution_count": 0,
      "outputs": []
    },
    {
      "cell_type": "code",
      "metadata": {
        "id": "HOhVBPQHf2jC",
        "colab_type": "code",
        "colab": {}
      },
      "source": [
        "s=df.isnull().any()"
      ],
      "execution_count": 0,
      "outputs": []
    },
    {
      "cell_type": "code",
      "metadata": {
        "id": "NSAYnzgZgP0x",
        "colab_type": "code",
        "outputId": "e0f9ce9d-495c-4a0a-e625-115d7bb44745",
        "colab": {
          "base_uri": "https://localhost:8080/",
          "height": 85
        }
      },
      "source": [
        "print(s)\n",
        "df1=df[df['Rating'].isnull()==True]"
      ],
      "execution_count": 0,
      "outputs": [
        {
          "output_type": "stream",
          "text": [
            "Cust_Id    False\n",
            "Rating      True\n",
            "Date        True\n",
            "dtype: bool\n"
          ],
          "name": "stdout"
        }
      ]
    },
    {
      "cell_type": "code",
      "metadata": {
        "id": "uxJoBmjUUgPp",
        "colab_type": "code",
        "outputId": "f561737c-609d-4065-eabc-10b3f05e2a82",
        "colab": {
          "base_uri": "https://localhost:8080/",
          "height": 34
        }
      },
      "source": [
        "df1.shape"
      ],
      "execution_count": 0,
      "outputs": [
        {
          "output_type": "execute_result",
          "data": {
            "text/plain": [
              "(4499, 3)"
            ]
          },
          "metadata": {
            "tags": []
          },
          "execution_count": 55
        }
      ]
    },
    {
      "cell_type": "code",
      "metadata": {
        "id": "583j4bTGoS8O",
        "colab_type": "code",
        "colab": {}
      },
      "source": [
        "def preprocess(path):\n",
        "  df=pd.read_csv(path,header=None,names = ['Cust_Id', 'Rating','Date'])\n",
        "  ls=[]\n",
        "  df1=df[df['Rating'].isnull()==True]\n",
        "  cols=list(df1.index)\n",
        "  m_id=list(df1['Cust_Id'].values)\n",
        "  for i in range(len(cols)-1):\n",
        "    c=m_id[i].strip(':')\n",
        "    c=int(c)\n",
        "    temp=[c]*(cols[i+1]-cols[i])\n",
        "    ls.extend(temp)\n",
        "  c=m_id[len(cols)-1].strip(':')\n",
        "  c=int(c)\n",
        "  temp=[c]*(df.shape[0]-cols[len(cols)-1])\n",
        "  ls.extend(temp)\n",
        "  df['movie_id']=ls\n",
        "  df_final=df.drop(cols,axis=0)\n",
        "  return df_final"
      ],
      "execution_count": 0,
      "outputs": []
    },
    {
      "cell_type": "code",
      "metadata": {
        "id": "FjeE61tl9xkv",
        "colab_type": "code",
        "colab": {}
      },
      "source": [
        "df_1=preprocess('/content/gdrive/My Drive/Reccommendation System/combined_data_1.txt.zip')\n"
      ],
      "execution_count": 0,
      "outputs": []
    },
    {
      "cell_type": "code",
      "metadata": {
        "id": "Lb6GcLQm-vzI",
        "colab_type": "code",
        "outputId": "e06a6900-069a-48d7-a333-6cd55b5c5bdc",
        "colab": {
          "base_uri": "https://localhost:8080/",
          "height": 204
        }
      },
      "source": [
        "df_1.head()"
      ],
      "execution_count": 0,
      "outputs": [
        {
          "output_type": "execute_result",
          "data": {
            "text/html": [
              "<div>\n",
              "<style scoped>\n",
              "    .dataframe tbody tr th:only-of-type {\n",
              "        vertical-align: middle;\n",
              "    }\n",
              "\n",
              "    .dataframe tbody tr th {\n",
              "        vertical-align: top;\n",
              "    }\n",
              "\n",
              "    .dataframe thead th {\n",
              "        text-align: right;\n",
              "    }\n",
              "</style>\n",
              "<table border=\"1\" class=\"dataframe\">\n",
              "  <thead>\n",
              "    <tr style=\"text-align: right;\">\n",
              "      <th></th>\n",
              "      <th>Cust_Id</th>\n",
              "      <th>Rating</th>\n",
              "      <th>Date</th>\n",
              "      <th>movie_id</th>\n",
              "    </tr>\n",
              "  </thead>\n",
              "  <tbody>\n",
              "    <tr>\n",
              "      <th>1</th>\n",
              "      <td>1488844</td>\n",
              "      <td>3.0</td>\n",
              "      <td>2005-09-06</td>\n",
              "      <td>1</td>\n",
              "    </tr>\n",
              "    <tr>\n",
              "      <th>2</th>\n",
              "      <td>822109</td>\n",
              "      <td>5.0</td>\n",
              "      <td>2005-05-13</td>\n",
              "      <td>1</td>\n",
              "    </tr>\n",
              "    <tr>\n",
              "      <th>3</th>\n",
              "      <td>885013</td>\n",
              "      <td>4.0</td>\n",
              "      <td>2005-10-19</td>\n",
              "      <td>1</td>\n",
              "    </tr>\n",
              "    <tr>\n",
              "      <th>4</th>\n",
              "      <td>30878</td>\n",
              "      <td>4.0</td>\n",
              "      <td>2005-12-26</td>\n",
              "      <td>1</td>\n",
              "    </tr>\n",
              "    <tr>\n",
              "      <th>5</th>\n",
              "      <td>823519</td>\n",
              "      <td>3.0</td>\n",
              "      <td>2004-05-03</td>\n",
              "      <td>1</td>\n",
              "    </tr>\n",
              "  </tbody>\n",
              "</table>\n",
              "</div>"
            ],
            "text/plain": [
              "   Cust_Id  Rating        Date  movie_id\n",
              "1  1488844     3.0  2005-09-06         1\n",
              "2   822109     5.0  2005-05-13         1\n",
              "3   885013     4.0  2005-10-19         1\n",
              "4    30878     4.0  2005-12-26         1\n",
              "5   823519     3.0  2004-05-03         1"
            ]
          },
          "metadata": {
            "tags": []
          },
          "execution_count": 6
        }
      ]
    },
    {
      "cell_type": "code",
      "metadata": {
        "id": "HKqDot5drVMf",
        "colab_type": "code",
        "colab": {}
      },
      "source": [
        "df_2=preprocess('/content/gdrive/My Drive/Reccommendation System/combined_data_2.txt.zip')"
      ],
      "execution_count": 0,
      "outputs": []
    },
    {
      "cell_type": "code",
      "metadata": {
        "id": "U0O6fK4DvomH",
        "colab_type": "code",
        "outputId": "e7682d5e-2501-400f-be10-0664432b632d",
        "colab": {
          "base_uri": "https://localhost:8080/",
          "height": 204
        }
      },
      "source": [
        "df_2.head()"
      ],
      "execution_count": 0,
      "outputs": [
        {
          "output_type": "execute_result",
          "data": {
            "text/html": [
              "<div>\n",
              "<style scoped>\n",
              "    .dataframe tbody tr th:only-of-type {\n",
              "        vertical-align: middle;\n",
              "    }\n",
              "\n",
              "    .dataframe tbody tr th {\n",
              "        vertical-align: top;\n",
              "    }\n",
              "\n",
              "    .dataframe thead th {\n",
              "        text-align: right;\n",
              "    }\n",
              "</style>\n",
              "<table border=\"1\" class=\"dataframe\">\n",
              "  <thead>\n",
              "    <tr style=\"text-align: right;\">\n",
              "      <th></th>\n",
              "      <th>Cust_Id</th>\n",
              "      <th>Rating</th>\n",
              "      <th>Date</th>\n",
              "      <th>movie_id</th>\n",
              "    </tr>\n",
              "  </thead>\n",
              "  <tbody>\n",
              "    <tr>\n",
              "      <th>1</th>\n",
              "      <td>2532865</td>\n",
              "      <td>4.0</td>\n",
              "      <td>2005-07-26</td>\n",
              "      <td>4500</td>\n",
              "    </tr>\n",
              "    <tr>\n",
              "      <th>2</th>\n",
              "      <td>573364</td>\n",
              "      <td>3.0</td>\n",
              "      <td>2005-06-20</td>\n",
              "      <td>4500</td>\n",
              "    </tr>\n",
              "    <tr>\n",
              "      <th>3</th>\n",
              "      <td>1696725</td>\n",
              "      <td>3.0</td>\n",
              "      <td>2004-02-27</td>\n",
              "      <td>4500</td>\n",
              "    </tr>\n",
              "    <tr>\n",
              "      <th>4</th>\n",
              "      <td>1253431</td>\n",
              "      <td>3.0</td>\n",
              "      <td>2004-03-31</td>\n",
              "      <td>4500</td>\n",
              "    </tr>\n",
              "    <tr>\n",
              "      <th>5</th>\n",
              "      <td>1265574</td>\n",
              "      <td>2.0</td>\n",
              "      <td>2003-09-01</td>\n",
              "      <td>4500</td>\n",
              "    </tr>\n",
              "  </tbody>\n",
              "</table>\n",
              "</div>"
            ],
            "text/plain": [
              "   Cust_Id  Rating        Date  movie_id\n",
              "1  2532865     4.0  2005-07-26      4500\n",
              "2   573364     3.0  2005-06-20      4500\n",
              "3  1696725     3.0  2004-02-27      4500\n",
              "4  1253431     3.0  2004-03-31      4500\n",
              "5  1265574     2.0  2003-09-01      4500"
            ]
          },
          "metadata": {
            "tags": []
          },
          "execution_count": 24
        }
      ]
    },
    {
      "cell_type": "code",
      "metadata": {
        "id": "UP-9xTGAYzbK",
        "colab_type": "code",
        "colab": {}
      },
      "source": [
        "df_3=preprocess('/content/gdrive/My Drive/Reccommendation System/combined_data_3.txt.zip')"
      ],
      "execution_count": 0,
      "outputs": []
    },
    {
      "cell_type": "code",
      "metadata": {
        "id": "XCDi85A3Z5I6",
        "colab_type": "code",
        "outputId": "3bb5d53e-5850-40b5-bc76-a4df31582b55",
        "colab": {
          "base_uri": "https://localhost:8080/",
          "height": 204
        }
      },
      "source": [
        "df_3.head()"
      ],
      "execution_count": 0,
      "outputs": [
        {
          "output_type": "execute_result",
          "data": {
            "text/html": [
              "<div>\n",
              "<style scoped>\n",
              "    .dataframe tbody tr th:only-of-type {\n",
              "        vertical-align: middle;\n",
              "    }\n",
              "\n",
              "    .dataframe tbody tr th {\n",
              "        vertical-align: top;\n",
              "    }\n",
              "\n",
              "    .dataframe thead th {\n",
              "        text-align: right;\n",
              "    }\n",
              "</style>\n",
              "<table border=\"1\" class=\"dataframe\">\n",
              "  <thead>\n",
              "    <tr style=\"text-align: right;\">\n",
              "      <th></th>\n",
              "      <th>Cust_Id</th>\n",
              "      <th>Rating</th>\n",
              "      <th>Date</th>\n",
              "      <th>movie_id</th>\n",
              "    </tr>\n",
              "  </thead>\n",
              "  <tbody>\n",
              "    <tr>\n",
              "      <th>1</th>\n",
              "      <td>1277134</td>\n",
              "      <td>1.0</td>\n",
              "      <td>2003-12-02</td>\n",
              "      <td>9211</td>\n",
              "    </tr>\n",
              "    <tr>\n",
              "      <th>2</th>\n",
              "      <td>2435457</td>\n",
              "      <td>2.0</td>\n",
              "      <td>2005-06-01</td>\n",
              "      <td>9211</td>\n",
              "    </tr>\n",
              "    <tr>\n",
              "      <th>3</th>\n",
              "      <td>2338545</td>\n",
              "      <td>3.0</td>\n",
              "      <td>2001-02-17</td>\n",
              "      <td>9211</td>\n",
              "    </tr>\n",
              "    <tr>\n",
              "      <th>4</th>\n",
              "      <td>2218269</td>\n",
              "      <td>1.0</td>\n",
              "      <td>2002-12-27</td>\n",
              "      <td>9211</td>\n",
              "    </tr>\n",
              "    <tr>\n",
              "      <th>5</th>\n",
              "      <td>441153</td>\n",
              "      <td>4.0</td>\n",
              "      <td>2002-10-11</td>\n",
              "      <td>9211</td>\n",
              "    </tr>\n",
              "  </tbody>\n",
              "</table>\n",
              "</div>"
            ],
            "text/plain": [
              "   Cust_Id  Rating        Date  movie_id\n",
              "1  1277134     1.0  2003-12-02      9211\n",
              "2  2435457     2.0  2005-06-01      9211\n",
              "3  2338545     3.0  2001-02-17      9211\n",
              "4  2218269     1.0  2002-12-27      9211\n",
              "5   441153     4.0  2002-10-11      9211"
            ]
          },
          "metadata": {
            "tags": []
          },
          "execution_count": 26
        }
      ]
    },
    {
      "cell_type": "code",
      "metadata": {
        "id": "fPJdYPhJv3ob",
        "colab_type": "code",
        "colab": {}
      },
      "source": [
        "df_4=preprocess('/content/gdrive/My Drive/Reccommendation System/combined_data_4.txt.zip')"
      ],
      "execution_count": 0,
      "outputs": []
    },
    {
      "cell_type": "code",
      "metadata": {
        "id": "rQqfLFOHBsbc",
        "colab_type": "code",
        "outputId": "ed17a19e-ab7e-4acd-b267-e4e0c67f5f5d",
        "colab": {
          "base_uri": "https://localhost:8080/",
          "height": 204
        }
      },
      "source": [
        "df_4.head()"
      ],
      "execution_count": 0,
      "outputs": [
        {
          "output_type": "execute_result",
          "data": {
            "text/html": [
              "<div>\n",
              "<style scoped>\n",
              "    .dataframe tbody tr th:only-of-type {\n",
              "        vertical-align: middle;\n",
              "    }\n",
              "\n",
              "    .dataframe tbody tr th {\n",
              "        vertical-align: top;\n",
              "    }\n",
              "\n",
              "    .dataframe thead th {\n",
              "        text-align: right;\n",
              "    }\n",
              "</style>\n",
              "<table border=\"1\" class=\"dataframe\">\n",
              "  <thead>\n",
              "    <tr style=\"text-align: right;\">\n",
              "      <th></th>\n",
              "      <th>Cust_Id</th>\n",
              "      <th>Rating</th>\n",
              "      <th>Date</th>\n",
              "      <th>movie_id</th>\n",
              "    </tr>\n",
              "  </thead>\n",
              "  <tbody>\n",
              "    <tr>\n",
              "      <th>1</th>\n",
              "      <td>2385003</td>\n",
              "      <td>4.0</td>\n",
              "      <td>2004-07-08</td>\n",
              "      <td>13368</td>\n",
              "    </tr>\n",
              "    <tr>\n",
              "      <th>2</th>\n",
              "      <td>659432</td>\n",
              "      <td>3.0</td>\n",
              "      <td>2005-03-16</td>\n",
              "      <td>13368</td>\n",
              "    </tr>\n",
              "    <tr>\n",
              "      <th>3</th>\n",
              "      <td>751812</td>\n",
              "      <td>2.0</td>\n",
              "      <td>2002-12-16</td>\n",
              "      <td>13368</td>\n",
              "    </tr>\n",
              "    <tr>\n",
              "      <th>4</th>\n",
              "      <td>2625420</td>\n",
              "      <td>2.0</td>\n",
              "      <td>2004-05-25</td>\n",
              "      <td>13368</td>\n",
              "    </tr>\n",
              "    <tr>\n",
              "      <th>5</th>\n",
              "      <td>1650301</td>\n",
              "      <td>1.0</td>\n",
              "      <td>2005-08-30</td>\n",
              "      <td>13368</td>\n",
              "    </tr>\n",
              "  </tbody>\n",
              "</table>\n",
              "</div>"
            ],
            "text/plain": [
              "   Cust_Id  Rating        Date  movie_id\n",
              "1  2385003     4.0  2004-07-08     13368\n",
              "2   659432     3.0  2005-03-16     13368\n",
              "3   751812     2.0  2002-12-16     13368\n",
              "4  2625420     2.0  2004-05-25     13368\n",
              "5  1650301     1.0  2005-08-30     13368"
            ]
          },
          "metadata": {
            "tags": []
          },
          "execution_count": 10
        }
      ]
    },
    {
      "cell_type": "code",
      "metadata": {
        "id": "J9XgbgQkCH4S",
        "colab_type": "code",
        "outputId": "ee9fabca-40cb-4b11-da99-8525c063e828",
        "colab": {
          "base_uri": "https://localhost:8080/",
          "height": 34
        }
      },
      "source": [
        "print(df_1.shape,df_2.shape,df_3.shape,df_4.shape)"
      ],
      "execution_count": 0,
      "outputs": [
        {
          "output_type": "stream",
          "text": [
            "(24053764, 4) (26977591, 4) (22601629, 4) (26847523, 4)\n"
          ],
          "name": "stdout"
        }
      ]
    },
    {
      "cell_type": "code",
      "metadata": {
        "id": "LrYSeKq2C0VJ",
        "colab_type": "code",
        "colab": {}
      },
      "source": [
        "d=df_1.sort_values(by=['Date'])"
      ],
      "execution_count": 0,
      "outputs": []
    },
    {
      "cell_type": "code",
      "metadata": {
        "id": "YLWL7PzoS7oq",
        "colab_type": "code",
        "outputId": "50042642-6ec0-470c-95ba-9e5f6abb2aa6",
        "colab": {
          "base_uri": "https://localhost:8080/",
          "height": 979
        }
      },
      "source": [
        "d.head(30)"
      ],
      "execution_count": 0,
      "outputs": [
        {
          "output_type": "execute_result",
          "data": {
            "text/html": [
              "<div>\n",
              "<style scoped>\n",
              "    .dataframe tbody tr th:only-of-type {\n",
              "        vertical-align: middle;\n",
              "    }\n",
              "\n",
              "    .dataframe tbody tr th {\n",
              "        vertical-align: top;\n",
              "    }\n",
              "\n",
              "    .dataframe thead th {\n",
              "        text-align: right;\n",
              "    }\n",
              "</style>\n",
              "<table border=\"1\" class=\"dataframe\">\n",
              "  <thead>\n",
              "    <tr style=\"text-align: right;\">\n",
              "      <th></th>\n",
              "      <th>Cust_Id</th>\n",
              "      <th>Rating</th>\n",
              "      <th>Date</th>\n",
              "      <th>movie_id</th>\n",
              "    </tr>\n",
              "  </thead>\n",
              "  <tbody>\n",
              "    <tr>\n",
              "      <th>9057969</th>\n",
              "      <td>510180</td>\n",
              "      <td>5.0</td>\n",
              "      <td>1999-11-11</td>\n",
              "      <td>1798</td>\n",
              "    </tr>\n",
              "    <tr>\n",
              "      <th>14895543</th>\n",
              "      <td>510180</td>\n",
              "      <td>3.0</td>\n",
              "      <td>1999-11-11</td>\n",
              "      <td>2866</td>\n",
              "    </tr>\n",
              "    <tr>\n",
              "      <th>19589582</th>\n",
              "      <td>510180</td>\n",
              "      <td>4.0</td>\n",
              "      <td>1999-11-11</td>\n",
              "      <td>3730</td>\n",
              "    </tr>\n",
              "    <tr>\n",
              "      <th>20397788</th>\n",
              "      <td>510180</td>\n",
              "      <td>2.0</td>\n",
              "      <td>1999-11-11</td>\n",
              "      <td>3870</td>\n",
              "    </tr>\n",
              "    <tr>\n",
              "      <th>6902840</th>\n",
              "      <td>510180</td>\n",
              "      <td>5.0</td>\n",
              "      <td>1999-11-11</td>\n",
              "      <td>1367</td>\n",
              "    </tr>\n",
              "    <tr>\n",
              "      <th>15347487</th>\n",
              "      <td>510180</td>\n",
              "      <td>3.0</td>\n",
              "      <td>1999-12-06</td>\n",
              "      <td>2948</td>\n",
              "    </tr>\n",
              "    <tr>\n",
              "      <th>17856999</th>\n",
              "      <td>510180</td>\n",
              "      <td>3.0</td>\n",
              "      <td>1999-12-06</td>\n",
              "      <td>3421</td>\n",
              "    </tr>\n",
              "    <tr>\n",
              "      <th>13153317</th>\n",
              "      <td>510180</td>\n",
              "      <td>3.0</td>\n",
              "      <td>1999-12-06</td>\n",
              "      <td>2478</td>\n",
              "    </tr>\n",
              "    <tr>\n",
              "      <th>8031305</th>\n",
              "      <td>122223</td>\n",
              "      <td>3.0</td>\n",
              "      <td>1999-12-08</td>\n",
              "      <td>1615</td>\n",
              "    </tr>\n",
              "    <tr>\n",
              "      <th>14347045</th>\n",
              "      <td>122223</td>\n",
              "      <td>3.0</td>\n",
              "      <td>1999-12-08</td>\n",
              "      <td>2780</td>\n",
              "    </tr>\n",
              "    <tr>\n",
              "      <th>6886297</th>\n",
              "      <td>122223</td>\n",
              "      <td>3.0</td>\n",
              "      <td>1999-12-08</td>\n",
              "      <td>1367</td>\n",
              "    </tr>\n",
              "    <tr>\n",
              "      <th>3235221</th>\n",
              "      <td>122223</td>\n",
              "      <td>4.0</td>\n",
              "      <td>1999-12-08</td>\n",
              "      <td>607</td>\n",
              "    </tr>\n",
              "    <tr>\n",
              "      <th>6124347</th>\n",
              "      <td>122223</td>\n",
              "      <td>4.0</td>\n",
              "      <td>1999-12-08</td>\n",
              "      <td>1202</td>\n",
              "    </tr>\n",
              "    <tr>\n",
              "      <th>20495135</th>\n",
              "      <td>122223</td>\n",
              "      <td>3.0</td>\n",
              "      <td>1999-12-08</td>\n",
              "      <td>3893</td>\n",
              "    </tr>\n",
              "    <tr>\n",
              "      <th>22137024</th>\n",
              "      <td>122223</td>\n",
              "      <td>3.0</td>\n",
              "      <td>1999-12-08</td>\n",
              "      <td>4171</td>\n",
              "    </tr>\n",
              "    <tr>\n",
              "      <th>20391312</th>\n",
              "      <td>204439</td>\n",
              "      <td>5.0</td>\n",
              "      <td>1999-12-09</td>\n",
              "      <td>3870</td>\n",
              "    </tr>\n",
              "    <tr>\n",
              "      <th>22286027</th>\n",
              "      <td>1972971</td>\n",
              "      <td>4.0</td>\n",
              "      <td>1999-12-09</td>\n",
              "      <td>4227</td>\n",
              "    </tr>\n",
              "    <tr>\n",
              "      <th>8882124</th>\n",
              "      <td>204439</td>\n",
              "      <td>4.0</td>\n",
              "      <td>1999-12-09</td>\n",
              "      <td>1770</td>\n",
              "    </tr>\n",
              "    <tr>\n",
              "      <th>6884528</th>\n",
              "      <td>204439</td>\n",
              "      <td>4.0</td>\n",
              "      <td>1999-12-09</td>\n",
              "      <td>1367</td>\n",
              "    </tr>\n",
              "    <tr>\n",
              "      <th>6753535</th>\n",
              "      <td>204439</td>\n",
              "      <td>3.0</td>\n",
              "      <td>1999-12-09</td>\n",
              "      <td>1309</td>\n",
              "    </tr>\n",
              "    <tr>\n",
              "      <th>18454227</th>\n",
              "      <td>204439</td>\n",
              "      <td>3.0</td>\n",
              "      <td>1999-12-09</td>\n",
              "      <td>3535</td>\n",
              "    </tr>\n",
              "    <tr>\n",
              "      <th>16178629</th>\n",
              "      <td>1972971</td>\n",
              "      <td>3.0</td>\n",
              "      <td>1999-12-09</td>\n",
              "      <td>3148</td>\n",
              "    </tr>\n",
              "    <tr>\n",
              "      <th>14345691</th>\n",
              "      <td>204439</td>\n",
              "      <td>1.0</td>\n",
              "      <td>1999-12-09</td>\n",
              "      <td>2780</td>\n",
              "    </tr>\n",
              "    <tr>\n",
              "      <th>1860034</th>\n",
              "      <td>204439</td>\n",
              "      <td>3.0</td>\n",
              "      <td>1999-12-09</td>\n",
              "      <td>344</td>\n",
              "    </tr>\n",
              "    <tr>\n",
              "      <th>15081044</th>\n",
              "      <td>204439</td>\n",
              "      <td>4.0</td>\n",
              "      <td>1999-12-09</td>\n",
              "      <td>2902</td>\n",
              "    </tr>\n",
              "    <tr>\n",
              "      <th>16177835</th>\n",
              "      <td>204439</td>\n",
              "      <td>5.0</td>\n",
              "      <td>1999-12-09</td>\n",
              "      <td>3148</td>\n",
              "    </tr>\n",
              "    <tr>\n",
              "      <th>11400821</th>\n",
              "      <td>1972971</td>\n",
              "      <td>2.0</td>\n",
              "      <td>1999-12-09</td>\n",
              "      <td>2178</td>\n",
              "    </tr>\n",
              "    <tr>\n",
              "      <th>254777</th>\n",
              "      <td>1972971</td>\n",
              "      <td>1.0</td>\n",
              "      <td>1999-12-09</td>\n",
              "      <td>55</td>\n",
              "    </tr>\n",
              "    <tr>\n",
              "      <th>11757117</th>\n",
              "      <td>204439</td>\n",
              "      <td>3.0</td>\n",
              "      <td>1999-12-09</td>\n",
              "      <td>2252</td>\n",
              "    </tr>\n",
              "    <tr>\n",
              "      <th>22595276</th>\n",
              "      <td>204439</td>\n",
              "      <td>3.0</td>\n",
              "      <td>1999-12-09</td>\n",
              "      <td>4271</td>\n",
              "    </tr>\n",
              "  </tbody>\n",
              "</table>\n",
              "</div>"
            ],
            "text/plain": [
              "          Cust_Id  Rating        Date  movie_id\n",
              "9057969    510180     5.0  1999-11-11      1798\n",
              "14895543   510180     3.0  1999-11-11      2866\n",
              "19589582   510180     4.0  1999-11-11      3730\n",
              "20397788   510180     2.0  1999-11-11      3870\n",
              "6902840    510180     5.0  1999-11-11      1367\n",
              "15347487   510180     3.0  1999-12-06      2948\n",
              "17856999   510180     3.0  1999-12-06      3421\n",
              "13153317   510180     3.0  1999-12-06      2478\n",
              "8031305    122223     3.0  1999-12-08      1615\n",
              "14347045   122223     3.0  1999-12-08      2780\n",
              "6886297    122223     3.0  1999-12-08      1367\n",
              "3235221    122223     4.0  1999-12-08       607\n",
              "6124347    122223     4.0  1999-12-08      1202\n",
              "20495135   122223     3.0  1999-12-08      3893\n",
              "22137024   122223     3.0  1999-12-08      4171\n",
              "20391312   204439     5.0  1999-12-09      3870\n",
              "22286027  1972971     4.0  1999-12-09      4227\n",
              "8882124    204439     4.0  1999-12-09      1770\n",
              "6884528    204439     4.0  1999-12-09      1367\n",
              "6753535    204439     3.0  1999-12-09      1309\n",
              "18454227   204439     3.0  1999-12-09      3535\n",
              "16178629  1972971     3.0  1999-12-09      3148\n",
              "14345691   204439     1.0  1999-12-09      2780\n",
              "1860034    204439     3.0  1999-12-09       344\n",
              "15081044   204439     4.0  1999-12-09      2902\n",
              "16177835   204439     5.0  1999-12-09      3148\n",
              "11400821  1972971     2.0  1999-12-09      2178\n",
              "254777    1972971     1.0  1999-12-09        55\n",
              "11757117   204439     3.0  1999-12-09      2252\n",
              "22595276   204439     3.0  1999-12-09      4271"
            ]
          },
          "metadata": {
            "tags": []
          },
          "execution_count": 14
        }
      ]
    },
    {
      "cell_type": "code",
      "metadata": {
        "id": "l8uPtBOiaHLc",
        "colab_type": "code",
        "colab": {}
      },
      "source": [
        "l2=list(((df_final['Rating'].value_counts().values)/df_final.shape[0])*100)"
      ],
      "execution_count": 0,
      "outputs": []
    },
    {
      "cell_type": "code",
      "metadata": {
        "id": "5vLFz7NuTlhb",
        "colab_type": "code",
        "colab": {}
      },
      "source": [
        "l=list(d['Date'].values)"
      ],
      "execution_count": 0,
      "outputs": []
    },
    {
      "cell_type": "code",
      "metadata": {
        "id": "x8MdvEm1T5-K",
        "colab_type": "code",
        "colab": {}
      },
      "source": [
        "g=[x[:4] for x in l]"
      ],
      "execution_count": 0,
      "outputs": []
    },
    {
      "cell_type": "code",
      "metadata": {
        "id": "VUunFf9NU6FY",
        "colab_type": "code",
        "outputId": "dd8f3c7c-4b9a-43d5-ab19-0fcf9a195a14",
        "colab": {
          "base_uri": "https://localhost:8080/",
          "height": 34
        }
      },
      "source": [
        "print(g[:4])\n",
        "from collections import Counter\n",
        "dct=Counter(g)"
      ],
      "execution_count": 0,
      "outputs": [
        {
          "output_type": "stream",
          "text": [
            "['1999', '1999', '1999', '1999']\n"
          ],
          "name": "stdout"
        }
      ]
    },
    {
      "cell_type": "code",
      "metadata": {
        "id": "0wBdfGZyVFg9",
        "colab_type": "code",
        "outputId": "7ecd6fa4-1fa1-4422-97b2-60c32702e235",
        "colab": {
          "base_uri": "https://localhost:8080/",
          "height": 34
        }
      },
      "source": [
        "dct['2001']"
      ],
      "execution_count": 0,
      "outputs": [
        {
          "output_type": "execute_result",
          "data": {
            "text/plain": [
              "370691"
            ]
          },
          "metadata": {
            "tags": []
          },
          "execution_count": 33
        }
      ]
    },
    {
      "cell_type": "code",
      "metadata": {
        "id": "kxIUcSukUX-6",
        "colab_type": "code",
        "outputId": "d21b3d4a-7afe-4f99-c646-2b1634f57d6c",
        "colab": {
          "base_uri": "https://localhost:8080/",
          "height": 54
        }
      },
      "source": [
        "print(templist)"
      ],
      "execution_count": 0,
      "outputs": [
        {
          "output_type": "stream",
          "text": [
            "['1999-11-11', '1999-11-11', '1999-11-11', '1999-11-11', '1999-11-11', '1999-12-06', '1999-12-06', '1999-12-06', '1999-12-08', '1999-12-08']\n"
          ],
          "name": "stdout"
        }
      ]
    },
    {
      "cell_type": "code",
      "metadata": {
        "id": "D_oiSLm_aTSn",
        "colab_type": "code",
        "colab": {}
      },
      "source": [
        "l1=list(df_final['Rating'].value_counts().index)"
      ],
      "execution_count": 0,
      "outputs": []
    },
    {
      "cell_type": "code",
      "metadata": {
        "id": "wwTH9k4-bmRw",
        "colab_type": "code",
        "outputId": "72b95796-d190-47d8-b900-813c3db5e8f2",
        "colab": {
          "base_uri": "https://localhost:8080/",
          "height": 34
        }
      },
      "source": [
        "d=dict(zip(l1,l2))\n",
        "df_final['Rating'].value_counts()\n",
        "print(l1,l2)"
      ],
      "execution_count": 0,
      "outputs": [
        {
          "output_type": "stream",
          "text": [
            "[4.0, 3.0, 5.0, 2.0, 1.0] [33.615283662049734, 28.70312105830921, 22.892812118718716, 10.140088678013138, 4.648694482909202]\n"
          ],
          "name": "stdout"
        }
      ]
    },
    {
      "cell_type": "code",
      "metadata": {
        "id": "Wt7sqC-ybyy4",
        "colab_type": "code",
        "outputId": "b72faa24-6d4b-4ccd-8950-009a534007af",
        "colab": {
          "base_uri": "https://localhost:8080/",
          "height": 34
        }
      },
      "source": [
        "d[4]"
      ],
      "execution_count": 0,
      "outputs": [
        {
          "output_type": "execute_result",
          "data": {
            "text/plain": [
              "33.615283662049734"
            ]
          },
          "metadata": {
            "tags": []
          },
          "execution_count": 43
        }
      ]
    },
    {
      "cell_type": "code",
      "metadata": {
        "id": "EPVy020wbfLn",
        "colab_type": "code",
        "colab": {}
      },
      "source": [
        "movie_names=pd.read_csv('/content/gdrive/My Drive/Reccommendation System/movie_titles.csv',header=None,usecols=[0,1,2,3])"
      ],
      "execution_count": 0,
      "outputs": []
    },
    {
      "cell_type": "code",
      "metadata": {
        "id": "DcMnE7qKq8nF",
        "colab_type": "code",
        "outputId": "3131dd44-ca22-4a2e-f0f2-fd0d421db7ef",
        "colab": {
          "base_uri": "https://localhost:8080/",
          "height": 204
        }
      },
      "source": [
        "movie_names.head()"
      ],
      "execution_count": 0,
      "outputs": [
        {
          "output_type": "execute_result",
          "data": {
            "text/html": [
              "<div>\n",
              "<style scoped>\n",
              "    .dataframe tbody tr th:only-of-type {\n",
              "        vertical-align: middle;\n",
              "    }\n",
              "\n",
              "    .dataframe tbody tr th {\n",
              "        vertical-align: top;\n",
              "    }\n",
              "\n",
              "    .dataframe thead th {\n",
              "        text-align: right;\n",
              "    }\n",
              "</style>\n",
              "<table border=\"1\" class=\"dataframe\">\n",
              "  <thead>\n",
              "    <tr style=\"text-align: right;\">\n",
              "      <th></th>\n",
              "      <th>0</th>\n",
              "      <th>1</th>\n",
              "      <th>2</th>\n",
              "      <th>3</th>\n",
              "    </tr>\n",
              "  </thead>\n",
              "  <tbody>\n",
              "    <tr>\n",
              "      <th>0</th>\n",
              "      <td>1</td>\n",
              "      <td>2003.0</td>\n",
              "      <td>Dinosaur Planet</td>\n",
              "      <td>1</td>\n",
              "    </tr>\n",
              "    <tr>\n",
              "      <th>1</th>\n",
              "      <td>2</td>\n",
              "      <td>2004.0</td>\n",
              "      <td>Isle of Man TT 2004 Review</td>\n",
              "      <td>NaN</td>\n",
              "    </tr>\n",
              "    <tr>\n",
              "      <th>2</th>\n",
              "      <td>3</td>\n",
              "      <td>1997.0</td>\n",
              "      <td>Character</td>\n",
              "      <td>NaN</td>\n",
              "    </tr>\n",
              "    <tr>\n",
              "      <th>3</th>\n",
              "      <td>4</td>\n",
              "      <td>1994.0</td>\n",
              "      <td>Paula Abdul's Get Up &amp; Dance</td>\n",
              "      <td>NaN</td>\n",
              "    </tr>\n",
              "    <tr>\n",
              "      <th>4</th>\n",
              "      <td>5</td>\n",
              "      <td>2004.0</td>\n",
              "      <td>The Rise and Fall of ECW</td>\n",
              "      <td>NaN</td>\n",
              "    </tr>\n",
              "  </tbody>\n",
              "</table>\n",
              "</div>"
            ],
            "text/plain": [
              "   0       1                             2    3\n",
              "0  1  2003.0               Dinosaur Planet    1\n",
              "1  2  2004.0    Isle of Man TT 2004 Review  NaN\n",
              "2  3  1997.0                     Character  NaN\n",
              "3  4  1994.0  Paula Abdul's Get Up & Dance  NaN\n",
              "4  5  2004.0      The Rise and Fall of ECW  NaN"
            ]
          },
          "metadata": {
            "tags": []
          },
          "execution_count": 52
        }
      ]
    },
    {
      "cell_type": "code",
      "metadata": {
        "id": "0jR4Ys2btQEb",
        "colab_type": "code",
        "colab": {}
      },
      "source": [
        "not_rows=movie_names[3][movie_names[3].isnull()==False]"
      ],
      "execution_count": 0,
      "outputs": []
    },
    {
      "cell_type": "code",
      "metadata": {
        "id": "8c5Po_C8uId9",
        "colab_type": "code",
        "colab": {}
      },
      "source": [
        "l=list(not_rows.index)"
      ],
      "execution_count": 0,
      "outputs": []
    },
    {
      "cell_type": "code",
      "metadata": {
        "id": "OfOEow9LuPNL",
        "colab_type": "code",
        "colab": {}
      },
      "source": [
        "l=l[1:]\n",
        "\n"
      ],
      "execution_count": 0,
      "outputs": []
    },
    {
      "cell_type": "code",
      "metadata": {
        "id": "0JTMv937vc7_",
        "colab_type": "code",
        "outputId": "11eaf93c-bbdb-4a16-a4f5-2ffb060d707e",
        "colab": {
          "base_uri": "https://localhost:8080/",
          "height": 34
        }
      },
      "source": [
        "l[0]"
      ],
      "execution_count": 0,
      "outputs": [
        {
          "output_type": "execute_result",
          "data": {
            "text/plain": [
              "71"
            ]
          },
          "metadata": {
            "tags": []
          },
          "execution_count": 56
        }
      ]
    },
    {
      "cell_type": "code",
      "metadata": {
        "id": "HkWC1mDXvVz1",
        "colab_type": "code",
        "colab": {}
      },
      "source": [
        "for x in l:\n",
        "  movie_names.iloc[x,2]=  movie_names.iloc[x,2]+ ','+ movie_names.iloc[x,3]"
      ],
      "execution_count": 0,
      "outputs": []
    },
    {
      "cell_type": "code",
      "metadata": {
        "id": "CyENsfsCv0L-",
        "colab_type": "code",
        "outputId": "e82f915d-1859-4cbd-e4be-a34439858b3d",
        "colab": {
          "base_uri": "https://localhost:8080/",
          "height": 1000
        }
      },
      "source": [
        "movie_names.iloc[l,2].values"
      ],
      "execution_count": 0,
      "outputs": [
        {
          "output_type": "execute_result",
          "data": {
            "text/plain": [
              "array(['At Home Among Strangers, A Stranger Among His Own',\n",
              "       'Angelina Ballerina: Lights, Camera',\n",
              "       'Dr. Quinn, Medicine Woman: Season 3',\n",
              "       'Still, We Believe: The Boston Red Sox Movie',\n",
              "       '20,000 Leagues Under the Sea', 'Doogie Howser, M.D.: Season 2',\n",
              "       'Jo Jo Dancer, Your Life is Calling', \"What's Up, Tiger Lily?\",\n",
              "       'He Loves Me, He Loves Me Not', 'He Said, She Said',\n",
              "       'Fast Food, Fast Women', \"Dr. Seuss's The 5,000 Fingers of Dr. T\",\n",
              "       \"C'est La Vie, Mon Cheri\",\n",
              "       'Niagara: Miracles, Myths & Magic: IMAX',\n",
              "       \"Zakk Wylde's Black Label Society: Boozed, Broozed & Broken-Boned\",\n",
              "       'Dead Kennedys: In God We Trust, Inc.',\n",
              "       'Brother, Can You Spare a Dime?',\n",
              "       'Dr. Martin Luther King, Jr.: A Historical Perspective',\n",
              "       'Sesame Street: Sing, Hoot & Howl',\n",
              "       'Dr. Quinn, Medicine Woman: Season 5', 'Play it Again, Sam',\n",
              "       'Vendetta: No Conscience, No Mercy', 'Truth or Consequences, N.M.',\n",
              "       'Zorro, The Gay Blade', 'Welcome Back, Mr. McDonald',\n",
              "       'Suze Orman: The Laws of Money, Lessons of Life',\n",
              "       \"AFI's 100 Years, 100 Movies\",\n",
              "       'Sesame Street: 1-2-3, Count with Me',\n",
              "       'Eric Clapton: One More Car, One More Rider',\n",
              "       'I Love You, I Love You Not',\n",
              "       'Yes, Prime Minister: The Complete Collection', 'Kiss Me, Kate',\n",
              "       'Love Me, Love My Money', \"It's Me, the Thief\",\n",
              "       'Earth, Wind & Fire in Concert',\n",
              "       'VeggieTales: Esther, the Girl Who Became Queen',\n",
              "       'Lock, Stock and Two Smoking Barrels', 'Sex, Secrets',\n",
              "       'Dancer, Texas', 'Shanghai, Shanghai',\n",
              "       'Harvey Birdman, Attorney at Law: Vol. 1',\n",
              "       'Planes, Trains and Automobiles',\n",
              "       'Baby Einstein: On the Go: Riding, Sailing and Soaring',\n",
              "       'Dragon Tales: Yes, We Can!',\n",
              "       'Now and Then, Here and There: Vol. 1: Discord and Doom',\n",
              "       'Empires: The Medici, Godfathers of the Renaissance',\n",
              "       'A Girl, 3 Guys and a Gun', 'Where Angels Go, Trouble Follows',\n",
              "       'Imitation of Life: Double Feature (1934, 1959)',\n",
              "       'Secrets of Angels, Demons & Masons', 'I, Madman',\n",
              "       'Now and Then, Here and There: Vol. 2: Flight and Fall',\n",
              "       'Fast, Cheap & Out of Control',\n",
              "       \"Rugrats All Grown Up: Dude, Where's My Horse?\",\n",
              "       'Upstairs, Downstairs: Season 3', 'Dirty Tiger, Crazy Frog',\n",
              "       'Fist of Fear, Touch of Death',\n",
              "       'Yes, Minister: Complete Collection', 'Enemies, A Love Story',\n",
              "       'Rage: 20 Years of Punk Rock, West Coast Style',\n",
              "       'The Godfather, Part II',\n",
              "       'Warren Miller: Bloopers, Blunders and Bailouts',\n",
              "       'Goodbye South, Goodbye', 'Hi, Mom!',\n",
              "       'U2: Go Home: Live From Slane Castle, Ireland',\n",
              "       'I Spit on Your Corpse, I Piss on Your Grave',\n",
              "       'Hush...Hush, Sweet Charlotte', 'Be Good, Smile Pretty',\n",
              "       'Elvira, Mistress of the Dark', 'Bright Lights, Big City',\n",
              "       'The Russians Are Coming, The Russians Are Coming',\n",
              "       'S.W.A.T.: L.A., Las Vegas', 'Dr. Quinn, Medicine Woman: Season 2',\n",
              "       'Come Back, Little Sheba', 'Ilsa, Harem Keeper of the Oil Sheiks',\n",
              "       'Ranma 1/2: Ranma Forever: Vol. 8: Someday, Somehow',\n",
              "       'Mary, Mother of Jesus', 'Tarzan, the Ape Man',\n",
              "       'VeggieTales Classics: Rack, Shack and Benny', 'Double, Double',\n",
              "       'John McLaughlin, Larry Coryell and Paco De Lucia: Meeting of the Spirits',\n",
              "       'Jimmy Timmy Power Hour: Jimmy Neutron, Boy Genius / The Fairly Oddparents',\n",
              "       'Drive Well, Sleep Carefully: On the Road with Death Cab for Cutie',\n",
              "       'Modern Warfare: The Six Day War, Yom Kippur War',\n",
              "       'Best of Travels in Europe with Rick Steves: Greece, Turkey',\n",
              "       'The Beatles: Washington D.C. Feb. 11th,1964',\n",
              "       'Walker, Texas Ranger: The Final Season',\n",
              "       'Clifford: Look Out, Clifford! / Big Fun in the Sun',\n",
              "       'Goodbye, Mr. Chips', 'Pretty Village, Pretty Flame',\n",
              "       'Skinny Tiger, Fatty Dragon',\n",
              "       'Chicago with Earth, Wind & Fire: Live at the Greek Theatre',\n",
              "       'Mystery, Alaska', 'Girl, Interrupted',\n",
              "       \"Elmo's World: Families, Mail & Bath Time\",\n",
              "       'Usher: Rhythm City: Vol. 1: Money, Power',\n",
              "       'Chuck Jones: Extremes and in Betweens, a Life in Animation',\n",
              "       'I, Robot', 'See No Evil, Hear No Evil',\n",
              "       'Best of Travels in Europe with Rick Steves: Germany, Austria & Switzerland',\n",
              "       'Earth, Wind & Fire: Live in Japan', 'Sexo, Pudor y Lagrimas',\n",
              "       \"Dude, Where's My Car?\", 'Upstairs, Downstairs: Season 4',\n",
              "       'The Godfather, Part III', 'I, the Worst of All', 'Tinker, Tailor',\n",
              "       'Other Voices, Other Rooms', 'Baby Songs: ABC,123',\n",
              "       \"It's a Mad, Mad\", \"Don't Raise the Bridge, Lower the River\",\n",
              "       'The Adventures of Priscilla, Queen of the Desert',\n",
              "       'South Park: Ghouls, Ghosts and Underpants Gnomes',\n",
              "       'I Spy: Vol. 20: So Long, Patrick Henry', 'Good Morning, Vietnam',\n",
              "       'Van Halen Live: Right Here, Right Now',\n",
              "       'Honey, We Shrunk Ourselves', 'Paris, France', 'Get Smart, Again!',\n",
              "       'Quincy, M.E.: Seasons 1 & 2', 'Ciao, Professore!',\n",
              "       'Sublime: Stories, Tales', \"It's the Pied Piper, Charlie Brown\",\n",
              "       'On Any Sunday: Motocross, Malcolm and More',\n",
              "       'ABC News Presents: Jesus, Mary and Da Vinci', 'I, Zombie',\n",
              "       'Jamie Foxx Unleashed: Lost, Stolen and Leaked!',\n",
              "       'South of Heaven, West of Hell', 'Good Times, Bed Times',\n",
              "       'CKY: Infiltrate, Destroy', 'O Brother, Where Art Thou?',\n",
              "       'Video Visits: Merida, Cancun and Belize',\n",
              "       'Hans Brinker, or the Silver Skates',\n",
              "       'Ladies and Gentlemen, Mr. Leonard Cohen', 'Easy Come, Easy Go',\n",
              "       'Monsters, Inc.: Bonus Material', 'A Man, a Plan',\n",
              "       \"He's a Woman, She's a Man\", 'Remember Me, My Love',\n",
              "       'Bill Hicks Live: Satirist, Social Critic',\n",
              "       \"Hallelujah, I'm a Bum\", 'Earth, Wind & Fire: Live by Request',\n",
              "       'The Long, Hot Summer',\n",
              "       'VeggieTales: Bible Heroes: Lions, Shepherds and Queens',\n",
              "       'Satyam, Shivam', 'Blood, Guts',\n",
              "       \"It's the Great Pumpkin, Charlie Brown\",\n",
              "       'Manon of the Spring (Jean de Florette, Part II)', 'Ashtanga, NY',\n",
              "       'Doogie Howser, M.D.: Season 1', 'The Good, the Bad and the Ugly',\n",
              "       'Murder, She Wrote: Season 1',\n",
              "       'Godzilla, Mothra and King Ghidorah: Giant Monsters All Out Attack',\n",
              "       'Johnny Cash: At Town Hall Party, 1958 & 1959',\n",
              "       \"God is Great, I'm Not\",\n",
              "       'Crosby, Stills & Nash: The Acoustic Concert',\n",
              "       'Mother, Jugs and Speed', 'Johnny Cash: The Man, His World',\n",
              "       'Hello, Dolly!', 'My Schoolmate, the Barbarian',\n",
              "       'Wake Up, Ron Burgundy',\n",
              "       'The Good, the Bad and the Beautiful / The Bikini Academy: Double Feature',\n",
              "       'Go, Go', 'Murder, My Sweet', 'Like Father, Like Son',\n",
              "       'Bobby Jones, Stroke of Genius',\n",
              "       'Bikini Bandits: Briefs, Shorts & Panties',\n",
              "       'Lucinda Williams: Live from Austin, TX',\n",
              "       'Dirty Mary, Crazy Larry', '20,000 Leagues Under the Sea',\n",
              "       'I, Claudius', 'My Father, My Mother', 'A Gun, a Car',\n",
              "       'A Cool, Dry Place', 'Blood In, Blood Out',\n",
              "       'Lucy Must Be Traded, Charlie Brown',\n",
              "       \"Caroline Myss, Ph.D.: Why People Don't Heal / Three Levels of Power\",\n",
              "       'The Magic School Bus: Bugs, Bugs',\n",
              "       \"Elmo's World: Elmo Has Two! Hands, Ears & Feet\",\n",
              "       'To Wong Foo, Thanks for Everything! Julie Newmar',\n",
              "       'Dr. Quinn, Medicine Woman: Season 6', \"Dude, Where's the Party?\",\n",
              "       'Cheating Death, Stealing Life: The Eddie Guerrero Story',\n",
              "       'Upstairs, Downstairs: Season 5', 'Upstairs, Downstairs: Season 2',\n",
              "       'Good Night, Gorilla', 'Truly, Madly', 'Sgt. Kabukiman, N.Y.P.D.',\n",
              "       'Count Yorga, Vampire',\n",
              "       'The Kennel Murder Case / Nancy Drew, Reporter: Double Feature',\n",
              "       'Kipper: Pools, Parks & Picnics', 'Babar, King of the Elephants',\n",
              "       'Picasso: Magic, Sex', 'The Cook, the Thief', 'Oh, God! Book II',\n",
              "       'National Geographic: Guns, Germs and Steel',\n",
              "       'Easy Riders, Raging Bulls', 'I, A Woman',\n",
              "       'White Hunter, Black Heart', 'Goodbye, Mr. Chips',\n",
              "       'Monsters, Inc.', '20,000 Leagues Under the Sea',\n",
              "       'Live at Knebworth: Parts One, Two & Three',\n",
              "       'Honey, I Shrunk the Kids', 'New York, New York',\n",
              "       'Sesame Street: A Celebration of Me, Grover!',\n",
              "       \"Now You See Him, Now You Don't\",\n",
              "       'Indigo Girls: Live at the Fillmore, Denver',\n",
              "       'Kids in the Hall: Same Guys, New Dresses',\n",
              "       'Six Days, Seven Nights',\n",
              "       'Another State of Mind: Social Distortion, Youth Brigade and Minor Threat',\n",
              "       'Sizzle Beach, USA', 'Heaven Knows, Mr. Allison',\n",
              "       'Love, Honor and Obey',\n",
              "       \"Sesame Street: Elmo's World: Food, Water & Exercise!\",\n",
              "       'The Magic School Bus: Creepy, Crawly Fun', 'One, Two',\n",
              "       'Black Mama, White Mama', 'Scotland, PA',\n",
              "       'Quick Toning: Abs, Arms & Lower Body of Steel',\n",
              "       'Run Silent, Run Deep', 'DeJohnette, Hancock',\n",
              "       'The Wonderful, Horrible Life of Leni Riefenstahl',\n",
              "       'Dr. Quinn, Medicine Woman: Season 1',\n",
              "       'Sesame Street: Babies, Dogs & More', 'Eerie, Indiana',\n",
              "       'Upstairs, Downstairs: Season 1',\n",
              "       'The Three Stooges: Healthy, Wealthy and Dumb', 'Vernon, Florida',\n",
              "       'Hi, Dharma!', \"What's Up, Doc?\",\n",
              "       'Great People of the Bible: Abraham, Sarah',\n",
              "       'Love, Sex & Eating the Bones', 'Mitr, My Friend',\n",
              "       'Sorry, Wrong Number', 'Sheba, Baby', 'Yours, Mine and Ours',\n",
              "       'Scream, Blacula', 'Thelonious Monk: Straight, No Chaser',\n",
              "       'Britney Baby, One More Time', 'The Toxic Avenger, Part 3',\n",
              "       'The 1,000 Eyes of Dr. Mabuse', 'Brother Sun, Sister Moon',\n",
              "       'Ilsa, the Wicked Warden', 'Motley Crue: Lewd, Crued & Tattooed',\n",
              "       'Sedona, The Spirit of Wonder: IMAX', 'Langrishe, Go Down',\n",
              "       'Jasper, Texas',\n",
              "       'Dracula, Dirty Old Man / Guess What Happened to Count Dracula',\n",
              "       'Bob the Builder: Dig, Lift', 'House, M.D.: Season 1',\n",
              "       'Car 54, Where Are You?', 'Suddenly, Last Summer',\n",
              "       'Perfect Murder, Perfect Town', 'Steal Big, Steal Little',\n",
              "       'Zone of the Enders: Dolores, i', 'Goodbye, Columbus',\n",
              "       'To Sir, with Love', 'Sex, Politics & Cocktails',\n",
              "       'Bodies, Rest & Motion', 'Faraway, So Close!', 'Kiss Me, Stupid',\n",
              "       '10,000 Black Men Named George', 'Spring, Summer',\n",
              "       \"Sesame Street: Elmo's World: Birthdays, Games & More\",\n",
              "       'Paris, Texas', 'The Good, the Bad and the Ugly: Bonus Material',\n",
              "       'Stevie Ray Vaughan and Double Trouble: Live from Austin, Texas',\n",
              "       'Best of MADtv: Seasons 8, 9 and 10',\n",
              "       \"Changing Rooms: Trust Me, I'm a Designer\",\n",
              "       'South Park: Bigger, Longer and Uncut',\n",
              "       'Jazz Casual: Basie, Gillespie',\n",
              "       'New Crouching Tiger, Hidden Dragon', \"Walk, Don't Run\",\n",
              "       'Tarzan, the Ape Man / Tarzan Escapes (Double Feature)',\n",
              "       'Cry, the Beloved Country', 'He Say, She Say',\n",
              "       'Play to Win: Secrets of Playing Slots, Blackjack & Craps',\n",
              "       \"Stan Lee's Mutants, Monsters & Marvels\",\n",
              "       'The Beast from 20,000 Fathoms', 'Steamboat Bill, Jr.',\n",
              "       'Bear in the Big Blue House: Shapes, Sounds & Colors with Bear',\n",
              "       'Martha, Inc.', \"Samurai X: Trust and Betrayal, Director's Cut\",\n",
              "       'Now and Then, Here and There: Vol. 3: Conflict and Chaos',\n",
              "       'Dave Matthews Band: Live at Folsom Field Boulder, Colorado',\n",
              "       'Cornbread, Earl and Me',\n",
              "       'God, the Devil & Bob: The Complete Series', 'sex, lies',\n",
              "       'Aloha, Bobby and Rose', 'Keep the Faith, Baby',\n",
              "       'Judy, Frank and Dean: Once in a Lifetime',\n",
              "       'Legally Blonde 2: Red, White & Blonde', 'Objective, Burma!',\n",
              "       'The One and Only, Genuine', 'The Toxic Avenger, Part 2',\n",
              "       'Milwaukee, Minnesota', 'Same Time, Next Year',\n",
              "       'Always Outnumbered, Always Outgunned',\n",
              "       'Emerson, Lake & Palmer: Welcome Back',\n",
              "       \"Don't Ask, Don't Tell (Attack of the Gay Space Invaders)\",\n",
              "       'Bellydance Fitness for Beginners: Arms, Abs',\n",
              "       'Greystoke: The Legend of Tarzan, Lord of the Apes',\n",
              "       'Dr. Quinn, Medicine Woman: Season 4', 'Frank McKlusky, C.I.',\n",
              "       'Crouching Tiger, Hidden Dragon', \"AFI's 100 Years, 100 Stars\",\n",
              "       'Ilsa, She Wolf of the SS', 'Good Bye, Lenin!',\n",
              "       'Earth, Wind and Fire: Live', 'Late August, Early September',\n",
              "       'Honey, I Blew Up the Kid', 'House of 1,000 Corpses',\n",
              "       'Alanis Morissette: Jagged Little Pill, Live',\n",
              "       'Divorce, Italian Style', 'Hey, Happy!', 'Aelita, Queen of Mars',\n",
              "       'Follow Me, Boys!', 'Corrina, Corrina', 'Happy, Texas',\n",
              "       'Paradise, Hawaiian Style', 'Bell, Book and Candle',\n",
              "       'Shake, Rattle & Rock', 'The Three Stooges: Stop, Look and Laugh',\n",
              "       'Good Men, Good Women', 'The Hot, The Cool and the Vicious',\n",
              "       'Dennis Miller - Live from Washington, D.C.',\n",
              "       'The Chronicles of Narnia: The Lion, the Witch and the Wardrobe',\n",
              "       \"I Love You, Don't Touch Me\", 'Be My Valentine, Charlie Brown',\n",
              "       'Me, Myself & Irene', 'Read-Along: Monsters, Inc.',\n",
              "       \"It's the Easter Beagle, Charlie Brown\", 'Fort Apache, the Bronx',\n",
              "       \"They Shoot Horses, Don't They?\",\n",
              "       'Into the Thin Air of Everest: Mountain of Dreams, Mountain of Doom'],\n",
              "      dtype=object)"
            ]
          },
          "metadata": {
            "tags": []
          },
          "execution_count": 58
        }
      ]
    },
    {
      "cell_type": "code",
      "metadata": {
        "id": "P1rFjCftyafr",
        "colab_type": "code",
        "colab": {}
      },
      "source": [
        "movie_names=movie_names.drop([3],axis=1)"
      ],
      "execution_count": 0,
      "outputs": []
    },
    {
      "cell_type": "code",
      "metadata": {
        "id": "pUVfc8dry4hC",
        "colab_type": "code",
        "outputId": "9e14f162-54fa-481e-9950-8e4f0a761d90",
        "colab": {
          "base_uri": "https://localhost:8080/",
          "height": 85
        }
      },
      "source": [
        "movie_names.iloc[71]"
      ],
      "execution_count": 0,
      "outputs": [
        {
          "output_type": "execute_result",
          "data": {
            "text/plain": [
              "0                                                   72\n",
              "1                                                 1974\n",
              "2    At Home Among Strangers, A Stranger Among His Own\n",
              "Name: 71, dtype: object"
            ]
          },
          "metadata": {
            "tags": []
          },
          "execution_count": 61
        }
      ]
    },
    {
      "cell_type": "code",
      "metadata": {
        "id": "4Y3n1ueqzGv-",
        "colab_type": "code",
        "outputId": "f180277e-d54c-4dd0-8dfe-ed5ea71d30d5",
        "colab": {
          "base_uri": "https://localhost:8080/",
          "height": 119
        }
      },
      "source": [
        "!pip install surprise\n",
        "from surprise import Reader, Dataset, SVD\n",
        "from surprise.model_selection import cross_validate\n",
        "from surprise import accuracy"
      ],
      "execution_count": 0,
      "outputs": [
        {
          "output_type": "stream",
          "text": [
            "Requirement already satisfied: surprise in /usr/local/lib/python3.6/dist-packages (0.1)\n",
            "Requirement already satisfied: scikit-surprise in /usr/local/lib/python3.6/dist-packages (from surprise) (1.1.0)\n",
            "Requirement already satisfied: joblib>=0.11 in /usr/local/lib/python3.6/dist-packages (from scikit-surprise->surprise) (0.14.0)\n",
            "Requirement already satisfied: scipy>=1.0.0 in /usr/local/lib/python3.6/dist-packages (from scikit-surprise->surprise) (1.3.1)\n",
            "Requirement already satisfied: numpy>=1.11.2 in /usr/local/lib/python3.6/dist-packages (from scikit-surprise->surprise) (1.17.3)\n",
            "Requirement already satisfied: six>=1.10.0 in /usr/local/lib/python3.6/dist-packages (from scikit-surprise->surprise) (1.12.0)\n"
          ],
          "name": "stdout"
        }
      ]
    },
    {
      "cell_type": "code",
      "metadata": {
        "id": "hNTjQHdlQmUK",
        "colab_type": "code",
        "colab": {}
      },
      "source": [
        "df_rec=df_1[['Cust_Id','movie_id','Rating']]"
      ],
      "execution_count": 0,
      "outputs": []
    },
    {
      "cell_type": "code",
      "metadata": {
        "id": "Qd8NAbVySKS9",
        "colab_type": "code",
        "outputId": "2c6ff422-0d44-47ab-f05f-1ec188d6d655",
        "colab": {
          "base_uri": "https://localhost:8080/",
          "height": 34
        }
      },
      "source": [
        "df_1.shape"
      ],
      "execution_count": 0,
      "outputs": [
        {
          "output_type": "execute_result",
          "data": {
            "text/plain": [
              "(24053764, 4)"
            ]
          },
          "metadata": {
            "tags": []
          },
          "execution_count": 23
        }
      ]
    },
    {
      "cell_type": "code",
      "metadata": {
        "id": "pvkH6mCpPuVV",
        "colab_type": "code",
        "outputId": "68b282f6-1b0c-421e-db14-2c2124647ee4",
        "colab": {
          "base_uri": "https://localhost:8080/",
          "height": 340
        }
      },
      "source": [
        "reader = Reader()\n",
        "svd = SVD()\n",
        "data=Dataset.load_from_df(df_rec[:100000],reader)\n",
        "cross_validate(svd, data, measures=['RMSE', 'MAE'], cv=5, verbose=True)"
      ],
      "execution_count": 0,
      "outputs": [
        {
          "output_type": "stream",
          "text": [
            "Evaluating RMSE, MAE of algorithm SVD on 5 split(s).\n",
            "\n",
            "                  Fold 1  Fold 2  Fold 3  Fold 4  Fold 5  Mean    Std     \n",
            "RMSE (testset)    1.0597  1.0484  1.0533  1.0483  1.0543  1.0528  0.0042  \n",
            "MAE (testset)     0.8435  0.8281  0.8384  0.8380  0.8417  0.8379  0.0053  \n",
            "Fit time          5.43    5.41    5.36    5.51    5.43    5.43    0.05    \n",
            "Test time         0.14    0.22    0.15    0.23    0.15    0.17    0.04    \n"
          ],
          "name": "stdout"
        },
        {
          "output_type": "execute_result",
          "data": {
            "text/plain": [
              "{'fit_time': (5.4275078773498535,\n",
              "  5.40898871421814,\n",
              "  5.355102777481079,\n",
              "  5.505940675735474,\n",
              "  5.431199550628662),\n",
              " 'test_mae': array([0.84347828, 0.82808636, 0.83842089, 0.83798478, 0.84167935]),\n",
              " 'test_rmse': array([1.05968167, 1.04837421, 1.0532833 , 1.04832633, 1.05430221]),\n",
              " 'test_time': (0.14088797569274902,\n",
              "  0.21642541885375977,\n",
              "  0.14550375938415527,\n",
              "  0.22505712509155273,\n",
              "  0.1454164981842041)}"
            ]
          },
          "metadata": {
            "tags": []
          },
          "execution_count": 17
        }
      ]
    },
    {
      "cell_type": "code",
      "metadata": {
        "id": "hzGF0hcnVy1A",
        "colab_type": "code",
        "outputId": "d1a2a00f-6d38-42b1-a634-840bcea318f0",
        "colab": {
          "base_uri": "https://localhost:8080/",
          "height": 34
        }
      },
      "source": [
        "traindata=Dataset.load_from_df(df_rec[:200000],reader)\n",
        "traindata=traindata.build_full_trainset()\n",
        "svd.fit(traindata)\n"
      ],
      "execution_count": 0,
      "outputs": [
        {
          "output_type": "execute_result",
          "data": {
            "text/plain": [
              "<surprise.prediction_algorithms.matrix_factorization.SVD at 0x7f5b4cca71d0>"
            ]
          },
          "metadata": {
            "tags": []
          },
          "execution_count": 18
        }
      ]
    },
    {
      "cell_type": "code",
      "metadata": {
        "id": "7q1jZ5azhPzX",
        "colab_type": "code",
        "outputId": "adff5e4c-eed7-4167-99f2-04dc31fcccc3",
        "colab": {
          "base_uri": "https://localhost:8080/",
          "height": 34
        }
      },
      "source": [
        "uid=df_2[df_2['Cust_Id']==510180]\n",
        "\n",
        "\n",
        "svd.predict(510180,1).est"
      ],
      "execution_count": 0,
      "outputs": [
        {
          "output_type": "execute_result",
          "data": {
            "text/plain": [
              "3.863991588594712"
            ]
          },
          "metadata": {
            "tags": []
          },
          "execution_count": 38
        }
      ]
    },
    {
      "cell_type": "code",
      "metadata": {
        "id": "lw6qTZtQj7Qb",
        "colab_type": "code",
        "colab": {}
      },
      "source": [
        "df_rec=    df_rec[:20000]\n",
        "ls1=df_rec['Cust_Id'].values\n",
        "ls2=df_2['Cust_Id'].values"
      ],
      "execution_count": 0,
      "outputs": []
    },
    {
      "cell_type": "code",
      "metadata": {
        "id": "YiEVgEt-kgjt",
        "colab_type": "code",
        "outputId": "4b90a809-48d8-43f8-f6ce-008601ebf415",
        "colab": {
          "base_uri": "https://localhost:8080/",
          "height": 34
        }
      },
      "source": [
        "ls2.shape\n",
        "ls1.shape"
      ],
      "execution_count": 0,
      "outputs": [
        {
          "output_type": "execute_result",
          "data": {
            "text/plain": [
              "(24053764,)"
            ]
          },
          "metadata": {
            "tags": []
          },
          "execution_count": 20
        }
      ]
    },
    {
      "cell_type": "code",
      "metadata": {
        "id": "8qQC-lvJubyy",
        "colab_type": "code",
        "outputId": "924d58a3-14c5-4321-fdb4-592164c052bb",
        "colab": {
          "base_uri": "https://localhost:8080/",
          "height": 34
        }
      },
      "source": [
        "df_2['Rating'].isnull().any()"
      ],
      "execution_count": 0,
      "outputs": [
        {
          "output_type": "execute_result",
          "data": {
            "text/plain": [
              "False"
            ]
          },
          "metadata": {
            "tags": []
          },
          "execution_count": 64
        }
      ]
    },
    {
      "cell_type": "code",
      "metadata": {
        "id": "gViU8zl7ktfr",
        "colab_type": "code",
        "colab": {}
      },
      "source": [
        "import numpy as np\n",
        "cmn=np.intersect1d(ls1,ls2)"
      ],
      "execution_count": 0,
      "outputs": []
    },
    {
      "cell_type": "code",
      "metadata": {
        "id": "jHOcNjkWnpQb",
        "colab_type": "code",
        "colab": {}
      },
      "source": [
        "\n",
        "actual_array=df_2[df_2['Cust_Id'].isin(cmn)]"
      ],
      "execution_count": 0,
      "outputs": []
    },
    {
      "cell_type": "code",
      "metadata": {
        "id": "6lZ1Dco2uDk4",
        "colab_type": "code",
        "colab": {}
      },
      "source": [
        "actual_array=actual_array['Rating'].values"
      ],
      "execution_count": 0,
      "outputs": []
    },
    {
      "cell_type": "code",
      "metadata": {
        "id": "M6fBZ0GotQTg",
        "colab_type": "code",
        "outputId": "d69a5d9b-4bf1-49b1-a3b0-3b9f25e9cf41",
        "colab": {
          "base_uri": "https://localhost:8080/",
          "height": 204
        }
      },
      "source": [
        ""
      ],
      "execution_count": 0,
      "outputs": [
        {
          "output_type": "execute_result",
          "data": {
            "text/plain": [
              "10        NaN\n",
              "1000004   NaN\n",
              "1000027   NaN\n",
              "1000033   NaN\n",
              "1000035   NaN\n",
              "1000038   NaN\n",
              "1000051   NaN\n",
              "1000057   NaN\n",
              "100006    NaN\n",
              "1000062   NaN\n",
              "Name: Rating, dtype: float64"
            ]
          },
          "metadata": {
            "tags": []
          },
          "execution_count": 57
        }
      ]
    },
    {
      "cell_type": "code",
      "metadata": {
        "id": "F7-71M3gjaam",
        "colab_type": "code",
        "outputId": "3b2f976c-8dd4-4c9a-f149-353384425566",
        "colab": {
          "base_uri": "https://localhost:8080/",
          "height": 34
        }
      },
      "source": [
        "uid.shape"
      ],
      "execution_count": 0,
      "outputs": [
        {
          "output_type": "execute_result",
          "data": {
            "text/plain": [
              "(0, 4)"
            ]
          },
          "metadata": {
            "tags": []
          },
          "execution_count": 39
        }
      ]
    },
    {
      "cell_type": "code",
      "metadata": {
        "id": "Vc_f6Ma_v3x5",
        "colab_type": "code",
        "outputId": "1a6159a9-a8c0-43f7-8fe2-6b803ce92d7c",
        "colab": {
          "base_uri": "https://localhost:8080/",
          "height": 197
        }
      },
      "source": [
        "testset = traindata.build_anti_testset()\n",
        "predictions = svd.test(testset)\n",
        "\n"
      ],
      "execution_count": 0,
      "outputs": [
        {
          "output_type": "error",
          "ename": "NameError",
          "evalue": "ignored",
          "traceback": [
            "\u001b[0;31m---------------------------------------------------------------------------\u001b[0m",
            "\u001b[0;31mNameError\u001b[0m                                 Traceback (most recent call last)",
            "\u001b[0;32m<ipython-input-22-e7e990448fa8>\u001b[0m in \u001b[0;36m<module>\u001b[0;34m()\u001b[0m\n\u001b[1;32m      1\u001b[0m \u001b[0mtestset\u001b[0m \u001b[0;34m=\u001b[0m \u001b[0mtraindata\u001b[0m\u001b[0;34m.\u001b[0m\u001b[0mbuild_anti_testset\u001b[0m\u001b[0;34m(\u001b[0m\u001b[0;34m)\u001b[0m\u001b[0;34m\u001b[0m\u001b[0;34m\u001b[0m\u001b[0m\n\u001b[1;32m      2\u001b[0m \u001b[0mpredictions\u001b[0m \u001b[0;34m=\u001b[0m \u001b[0msvd\u001b[0m\u001b[0;34m.\u001b[0m\u001b[0mtest\u001b[0m\u001b[0;34m(\u001b[0m\u001b[0mtestset\u001b[0m\u001b[0;34m)\u001b[0m\u001b[0;34m\u001b[0m\u001b[0;34m\u001b[0m\u001b[0m\n\u001b[0;32m----> 3\u001b[0;31m \u001b[0mtop_n\u001b[0m \u001b[0;34m=\u001b[0m \u001b[0mget_top_n\u001b[0m\u001b[0;34m(\u001b[0m\u001b[0mpredictions\u001b[0m\u001b[0;34m,\u001b[0m \u001b[0mn\u001b[0m\u001b[0;34m=\u001b[0m\u001b[0;36m10\u001b[0m\u001b[0;34m)\u001b[0m\u001b[0;34m\u001b[0m\u001b[0;34m\u001b[0m\u001b[0m\n\u001b[0m",
            "\u001b[0;31mNameError\u001b[0m: name 'get_top_n' is not defined"
          ]
        }
      ]
    },
    {
      "cell_type": "code",
      "metadata": {
        "id": "N8UfXZKpzBVz",
        "colab_type": "code",
        "outputId": "726e4e7d-05fb-4434-908b-a997bed88947",
        "colab": {
          "base_uri": "https://localhost:8080/",
          "height": 54
        }
      },
      "source": [
        "print(predictions[:10])"
      ],
      "execution_count": 0,
      "outputs": [
        {
          "output_type": "stream",
          "text": [
            "[Prediction(uid='1488844', iid=2, r_ui=3.647685, est=3.9342207858627463, details={'was_impossible': False}), Prediction(uid='1488844', iid=3, r_ui=3.647685, est=4.096366002826722, details={'was_impossible': False}), Prediction(uid='1488844', iid=4, r_ui=3.647685, est=2.6200598803566195, details={'was_impossible': False}), Prediction(uid='1488844', iid=5, r_ui=3.647685, est=4.342852343170405, details={'was_impossible': False}), Prediction(uid='1488844', iid=6, r_ui=3.647685, est=2.7433884504147454, details={'was_impossible': False}), Prediction(uid='1488844', iid=7, r_ui=3.647685, est=2.3334821381350395, details={'was_impossible': False}), Prediction(uid='1488844', iid=9, r_ui=3.647685, est=2.5247397881607005, details={'was_impossible': False}), Prediction(uid='1488844', iid=10, r_ui=3.647685, est=3.18099204464715, details={'was_impossible': False}), Prediction(uid='1488844', iid=11, r_ui=3.647685, est=3.245238744343052, details={'was_impossible': False}), Prediction(uid='1488844', iid=12, r_ui=3.647685, est=3.525604478810273, details={'was_impossible': False})]\n"
          ],
          "name": "stdout"
        }
      ]
    },
    {
      "cell_type": "code",
      "metadata": {
        "id": "OIOSfVOEzyDb",
        "colab_type": "code",
        "outputId": "e6b565ed-9fe9-4822-a5d2-91c6d9406bb5",
        "colab": {
          "base_uri": "https://localhost:8080/",
          "height": 51
        }
      },
      "source": [
        "accuracy.rmse(predictions)"
      ],
      "execution_count": 0,
      "outputs": [
        {
          "output_type": "stream",
          "text": [
            "RMSE: 0.6224\n"
          ],
          "name": "stdout"
        },
        {
          "output_type": "execute_result",
          "data": {
            "text/plain": [
              "0.6224425849454069"
            ]
          },
          "metadata": {
            "tags": []
          },
          "execution_count": 28
        }
      ]
    },
    {
      "cell_type": "code",
      "metadata": {
        "id": "Ta0hRxwu7PgF",
        "colab_type": "code",
        "colab": {}
      },
      "source": [
        "import pandas as pd\n",
        "movie_list=pd.read_csv('/content/gdrive/My Drive/merged.csv')"
      ],
      "execution_count": 0,
      "outputs": []
    },
    {
      "cell_type": "code",
      "metadata": {
        "id": "AycGypROBmWU",
        "colab_type": "code",
        "outputId": "c63530e7-acdb-4a28-bc2f-48059353941f",
        "colab": {
          "base_uri": "https://localhost:8080/",
          "height": 34
        }
      },
      "source": [
        "movie_list.shape"
      ],
      "execution_count": 0,
      "outputs": [
        {
          "output_type": "execute_result",
          "data": {
            "text/plain": [
              "(12662, 39)"
            ]
          },
          "metadata": {
            "tags": []
          },
          "execution_count": 12
        }
      ]
    },
    {
      "cell_type": "code",
      "metadata": {
        "id": "ZsABrYBaBqY5",
        "colab_type": "code",
        "colab": {}
      },
      "source": [
        "movie_list=movie_list.iloc[:,3:]"
      ],
      "execution_count": 0,
      "outputs": []
    },
    {
      "cell_type": "code",
      "metadata": {
        "id": "kZIMU_YyCSZx",
        "colab_type": "code",
        "outputId": "50a0828a-2de0-49ea-c694-303e37611f54",
        "colab": {
          "base_uri": "https://localhost:8080/",
          "height": 185
        }
      },
      "source": [
        "movie_list.head(1)\n"
      ],
      "execution_count": 0,
      "outputs": [
        {
          "output_type": "execute_result",
          "data": {
            "text/html": [
              "<div>\n",
              "<style scoped>\n",
              "    .dataframe tbody tr th:only-of-type {\n",
              "        vertical-align: middle;\n",
              "    }\n",
              "\n",
              "    .dataframe tbody tr th {\n",
              "        vertical-align: top;\n",
              "    }\n",
              "\n",
              "    .dataframe thead th {\n",
              "        text-align: right;\n",
              "    }\n",
              "</style>\n",
              "<table border=\"1\" class=\"dataframe\">\n",
              "  <thead>\n",
              "    <tr style=\"text-align: right;\">\n",
              "      <th></th>\n",
              "      <th>country</th>\n",
              "      <th>director</th>\n",
              "      <th>dvd</th>\n",
              "      <th>genre</th>\n",
              "      <th>imdb_id</th>\n",
              "      <th>imdb_rating</th>\n",
              "      <th>imdb_votes</th>\n",
              "      <th>language</th>\n",
              "      <th>metascore</th>\n",
              "      <th>movie_id</th>\n",
              "      <th>movie_year_netflix</th>\n",
              "      <th>plot</th>\n",
              "      <th>poster</th>\n",
              "      <th>production</th>\n",
              "      <th>rated</th>\n",
              "      <th>ratings</th>\n",
              "      <th>released</th>\n",
              "      <th>response</th>\n",
              "      <th>runtime</th>\n",
              "      <th>title</th>\n",
              "      <th>tomato_consensus</th>\n",
              "      <th>tomato_fresh</th>\n",
              "      <th>tomato_image</th>\n",
              "      <th>tomato_meter</th>\n",
              "      <th>tomato_rating</th>\n",
              "      <th>tomato_reviews</th>\n",
              "      <th>tomato_rotten</th>\n",
              "      <th>tomato_url</th>\n",
              "      <th>tomato_user_meter</th>\n",
              "      <th>tomato_user_rating</th>\n",
              "      <th>tomato_user_reviews</th>\n",
              "      <th>total_seasons</th>\n",
              "      <th>type</th>\n",
              "      <th>website</th>\n",
              "      <th>writer</th>\n",
              "      <th>year</th>\n",
              "    </tr>\n",
              "  </thead>\n",
              "  <tbody>\n",
              "    <tr>\n",
              "      <th>0</th>\n",
              "      <td>USA</td>\n",
              "      <td>NaN</td>\n",
              "      <td>NaN</td>\n",
              "      <td>Documentary, Animation, Family</td>\n",
              "      <td>tt0389605</td>\n",
              "      <td>7.7</td>\n",
              "      <td>410</td>\n",
              "      <td>English</td>\n",
              "      <td>NaN</td>\n",
              "      <td>1</td>\n",
              "      <td>2003.0</td>\n",
              "      <td>A four-episode animated series charting the ad...</td>\n",
              "      <td>https://m.media-amazon.com/images/M/MV5BNTY2MD...</td>\n",
              "      <td>NaN</td>\n",
              "      <td>NaN</td>\n",
              "      <td>[{'source': 'Internet Movie Database', 'value'...</td>\n",
              "      <td>14-Dec-03</td>\n",
              "      <td>True</td>\n",
              "      <td>50 min</td>\n",
              "      <td>Dinosaur Planet</td>\n",
              "      <td>NaN</td>\n",
              "      <td>NaN</td>\n",
              "      <td>NaN</td>\n",
              "      <td>NaN</td>\n",
              "      <td>NaN</td>\n",
              "      <td>NaN</td>\n",
              "      <td>NaN</td>\n",
              "      <td>NaN</td>\n",
              "      <td>NaN</td>\n",
              "      <td>NaN</td>\n",
              "      <td>NaN</td>\n",
              "      <td>NaN</td>\n",
              "      <td>series</td>\n",
              "      <td>NaN</td>\n",
              "      <td>NaN</td>\n",
              "      <td>2003Ã¢ÂÂ</td>\n",
              "    </tr>\n",
              "  </tbody>\n",
              "</table>\n",
              "</div>"
            ],
            "text/plain": [
              "  country director  dvd  ... website writer        year\n",
              "0     USA      NaN  NaN  ...     NaN    NaN  2003Ã¢ÂÂ\n",
              "\n",
              "[1 rows x 36 columns]"
            ]
          },
          "metadata": {
            "tags": []
          },
          "execution_count": 14
        }
      ]
    },
    {
      "cell_type": "code",
      "metadata": {
        "id": "qnT0B0uXCmuL",
        "colab_type": "code",
        "outputId": "54e7653c-41e0-4131-b5af-0dcb28331070",
        "colab": {
          "base_uri": "https://localhost:8080/",
          "height": 170
        }
      },
      "source": [
        "movie_list.columns"
      ],
      "execution_count": 0,
      "outputs": [
        {
          "output_type": "execute_result",
          "data": {
            "text/plain": [
              "Index(['country', 'director', 'dvd', 'genre', 'imdb_id', 'imdb_rating',\n",
              "       'imdb_votes', 'language', 'metascore', 'movie_id', 'movie_year_netflix',\n",
              "       'plot', 'poster', 'production', 'rated', 'ratings', 'released',\n",
              "       'response', 'runtime', 'title', 'tomato_consensus', 'tomato_fresh',\n",
              "       'tomato_image', 'tomato_meter', 'tomato_rating', 'tomato_reviews',\n",
              "       'tomato_rotten', 'tomato_url', 'tomato_user_meter',\n",
              "       'tomato_user_rating', 'tomato_user_reviews', 'total_seasons', 'type',\n",
              "       'website', 'writer', 'year'],\n",
              "      dtype='object')"
            ]
          },
          "metadata": {
            "tags": []
          },
          "execution_count": 15
        }
      ]
    },
    {
      "cell_type": "code",
      "metadata": {
        "id": "Bw4uD1Do4aSm",
        "colab_type": "code",
        "colab": {}
      },
      "source": [
        "lg=list(movie_list['genre'].value_counts()[movie_list['genre'].value_counts()==1].index)"
      ],
      "execution_count": 0,
      "outputs": []
    },
    {
      "cell_type": "code",
      "metadata": {
        "id": "wSDl-LyO7AB5",
        "colab_type": "code",
        "outputId": "390c92a9-7057-4450-c7ce-698e27e8360c",
        "colab": {
          "base_uri": "https://localhost:8080/",
          "height": 54
        }
      },
      "source": [
        "print((lg))"
      ],
      "execution_count": 0,
      "outputs": [
        {
          "output_type": "stream",
          "text": [
            "['Adventure, Horror, Mystery, Sci-Fi, Thriller', 'Action, Biography, Drama, Romance, War', 'Adventure, Comedy, Drama, Music', 'Animation, Action, Sci-Fi, Thriller', 'Adventure, Comedy, Crime, Mystery', 'Comedy, Crime, Drama, Sport', 'Animation, Adventure, Drama, Thriller', 'Comedy, Adventure, Family', 'Documentary, Short, War', 'Drama, Thriller, War, Action', 'Animation, Adventure, Action', 'Adventure, Comedy, Romance, War', 'Animation, Adventure, Comedy, Fantasy, Romance, Sci-Fi, Thriller', 'Crime, Drama, Fantasy, Horror, Mystery, Sci-Fi, Thriller', 'Action, Comedy, Sci-Fi, Sport', 'Music, Romance', 'Drama, Musical, Family, Romance', 'Drama, History, Musical, Romance', 'Action, Crime, Drama, Romance, Thriller, Western', 'Animation, Adventure, Family, Thriller', 'Animation, Comedy, Family, Fantasy, Musical, Mystery', 'Adventure, Fantasy, History', 'Drama, Music, Romance, Thriller', 'Adventure, Comedy, Family, Music, Romance', 'Animation, Comedy, Crime, Sci-Fi, Thriller', 'Crime, Fantasy, Horror, Mystery', 'Comedy, Crime, Drama, Musical, Mystery, Romance', 'Animation, Drama, Romance, Sci-Fi', 'Action, Comedy, Fantasy, Horror, Music', 'Comedy, Drama, History, Mystery, Romance', 'Action, Animation, Comedy, Drama, Sci-Fi', 'Action, Family, Romance, Sport', 'Adventure, Biography, Comedy, Drama, Romance', 'Animation, Action, Adventure, Romance', 'Biography, Drama, Fantasy, Mystery, Sci-Fi', 'Animation, Drama, Family, Mystery, Sci-Fi', 'Short, Drama, Music, Sci-Fi', 'Family, Comedy, Action', 'Short, Sci-Fi', 'Action, Comedy, Family, Romance', 'Crime, Drama, Musical, Romance, Thriller', 'Short, Reality-TV', 'Action, Adventure, Romance, War', 'Animation, Action, Adventure, Crime, Drama, Family, Mystery, Romance, Sci-Fi, Thriller', 'Biography, Drama, History, Musical', 'Comedy, Horror, Romance', 'Comedy, Romance, Sci-Fi, Thriller', 'Comedy, Romance, Musical, Drama', 'Biography, Comedy', 'Drama, Fantasy, Music, Romance', 'Adventure, Comedy, Family, Fantasy, Horror, Mystery, Sci-Fi', 'Comedy, Crime, Drama, Mystery, Romance, Thriller', 'Crime, Horror, Sci-Fi, Mystery, Thriller', 'Adventure, Drama, Fantasy, Romance, Sci-Fi', 'Comedy, Crime, Romance, Western', 'Animation, Short, Adventure, Fantasy, Sci-Fi, Thriller', 'Animation, Family, Music, Musical', 'Action, Fantasy, Horror, Mystery', 'Action, Comedy, Crime, Drama, Thriller, Western', 'Adventure, Drama, Romance, Sci-Fi, Thriller', 'Crime, Drama, Horror, Mystery', 'Drama, History, Musical', 'Action, Comedy, Fantasy, Horror, Romance', 'Adventure, Crime, Film-Noir, Music, Mystery, Thriller', 'Action, Comedy, Crime, Family, Sci-Fi', 'Drama, Adventure, Action', 'Animation, Short, Action, Adventure, Drama, Fantasy, Sci-Fi, Thriller', 'Mystery, Thriller, Horror', 'Action, Crime, Drama, Family, Musical, Romance', 'Action, Biography, Drama, Romance', 'Horror, Thriller, War', 'Drama, Fantasy, Horror, Mystery, Sci-Fi, Thriller', 'Drama, Family, Fantasy, Musical, Romance, Thriller', 'Horror, Mystery, Romance, Sci-Fi, Thriller', 'Action, Crime, Horror, Mystery, Thriller', 'Adventure, History, Romance, War', 'Crime, Drama, Fantasy, Mystery, Romance', 'Short, Adventure', 'Comedy, Drama, Thriller, Mystery', 'Action, Adventure, Crime, Drama, Romance', 'Horror, Musical', 'Action, Romance, Animation, Comedy, Adventure, Sci-Fi', 'Comedy, Crime, Drama, War', 'Action, Comedy, Fantasy, Sport', 'Documentary, Comedy, Sport', 'Romance, Comedy, Mystery', 'Fantasy, Horror, Sci-Fi, Thriller', 'Animation, Family, Romance', 'Biography, History, Romance', 'Horror, Romance, Sci-Fi', 'Biography, Crime, Drama, Western', 'Musical, Comedy, Sci-Fi', 'History, War', 'Drama, Fantasy, Thriller, Mystery, Sci-Fi, Horror', 'Animation, Action, Adventure, Fantasy, Horror, Romance', 'Action, Comedy, Crime, Thriller, Western', 'Fantasy, Animation', 'Adventure, Drama, Romance, Thriller', 'Animation, Comedy, Drama, Family, Fantasy', 'Biography, Comedy, Musical', 'Adventure, Comedy, Fantasy, Romance', 'Animation, Adventure, Sci-Fi, Action', 'Drama, Romance, Adventure', 'Adventure, Animation, Drama, Fantasy, Romance, Action, Sci-Fi, Thriller', 'Crime, Horror, Romance', 'Fantasy, Drama, Adventure', 'Crime, Film-Noir, Mystery, Sport, Thriller', 'Adventure, Family, Sci-Fi, War', 'Crime, Drama, History, Romance, Thriller', 'Sci-Fi, Drama', 'Documentary, Comedy, Romance', 'Family, Adventure, Fantasy, Animation', 'Crime, Documentary', 'Action, Adventure, Comedy, Crime, Sci-Fi, Thriller', 'Crime, Drama, Sport, Thriller', 'Family, Animation', 'Comedy, Drama, Family, Fantasy, Sci-Fi', 'Comedy, Fantasy, Musical, Sci-Fi', 'Crime, Drama, Fantasy, Mystery', 'Animation, Action, Adventure, Comedy, Drama, Fantasy, Thriller', 'Fantasy, Romance, Action', 'Comedy, Drama, Sci-Fi, War', 'Action, Thriller, Drama', 'Documentary, Crime, Music', 'Animation, Adventure, Comedy, Drama, Fantasy, Sci-Fi', 'Action, Crime, Drama, Musical, Thriller', 'Action, Comedy, Fantasy, Mystery', 'Action, Crime, Drama, Film-Noir, Thriller', 'Fantasy, Horror, Mystery, Romance, Thriller', 'Adventure, Comedy, Fantasy, Horror, Mystery, Sci-Fi, Thriller', 'Drama, Family, Music', 'Adventure, Drama, Horror, Sci-Fi', 'Comedy, Romance, Music', 'Documentary, Family, Music', 'Adventure, Comedy, Drama, Family, Fantasy, Horror, Mystery, Sci-Fi, Thriller', 'Drama, Film-Noir, Mystery, Romance, Thriller', 'Action, Adventure, Comedy, Horror', 'Action, Comedy, Drama, Family, Sport', 'Drama, Horror, Romance, Sci-Fi, Thriller', 'Adventure, Comedy, Drama, Romance, Sci-Fi', 'Crime, Drama, Fantasy', 'Crime, Drama, Romance, Western', 'Film-Noir, Mystery, Thriller', 'Animation, Action, Adventure, Comedy, Drama, Thriller', 'Animation, Family, Action, Comedy, Mystery', 'Comedy, Drama, Fantasy, Music', 'Animation, Adventure, Comedy, Drama', 'Crime, Film-Noir, Horror', 'Animation, Action, Fantasy, Horror, Thriller', 'Short, Family, Musical', 'Drama, History, Music, Romance', 'Adventure, Fantasy, Mystery, Thriller', 'Fantasy, Drama, Mystery, Thriller', 'Action, Comedy, Adventure', 'Adventure, Comedy, Family, Fantasy, Mystery, Romance', 'Comedy, Musical, Romance, Western', 'Action, Horror, Animation', 'Drama, Film-Noir, Thriller, War', 'Crime, Drama, Film-Noir, Mystery, Romance, Thriller', 'Comedy, Family, Music, Romance', 'Short, Crime, Drama', 'Adventure, Family, Sport', 'Biography, Crime, Drama, War', 'Action, Animation', 'Animation, Comedy, Family, War, Fantasy', 'Action, Adventure, Comedy, Drama, Romance, Western', 'Animation, Adventure, Biography, Drama, Family, History, Musical', 'Adventure, Film-Noir, Romance, Thriller, War', 'Horror, Drama, Sci-Fi', 'Music, War', 'Action, Romance, Drama', 'Adventure, Mystery, Sci-Fi, Thriller', 'Drama, Romance, Musical', 'Adventure, Biography, Comedy', 'Action, Sci-Fi, Comedy', 'Musical, Drama, Action', 'Horror, Action, Comedy', 'Documentary, Comedy, History', 'Drama, Action, Thriller', 'Comedy, Horror, Mystery, Sci-Fi, Thriller', 'Documentary, Biography, Mystery', 'Comedy, Drama, Mystery, Sci-Fi', 'Family, Reality-TV', 'Drama, Thriller, Fantasy', 'Adventure, Drama, Fantasy, Mystery', 'Comedy, Drama, Horror, Mystery, Thriller', 'Comedy, Family, Musical', 'Animation, Action, Adventure, Family, Mystery', 'Drama, Game-Show, Thriller', 'Documentary, Biography, Comedy, Drama', 'Animation, Adventure, Comedy, Family, Musical, Romance', 'Drama, Short', 'Action, Crime, Drama, Fantasy, Mystery, Thriller', 'Action, Adventure, Comedy, Drama, War', 'Drama, History, Romance, War, Western', 'Adventure, Drama, History, Horror, Thriller', 'Mystery, Action, Thriller', 'Animation, Drama, Fantasy, Sci-Fi', 'Action, Adventure, Comedy, Family, Sport', 'Action, Adventure, Comedy, Drama, Family, Sci-Fi, Sport', 'Action, Drama, History, Romance, War, Western', 'Family, Adventure, Sci-Fi, Fantasy', 'Action, Adventure, Crime, Fantasy, Mystery, Thriller', 'Adventure, Crime, Thriller', 'Comedy, Music, Mystery, Romance', 'Animation, Action, Comedy, Drama, History', 'Action, Comedy, Drama, Music', 'Comedy, Family, Romance, Sci-Fi', 'Comedy, Romance, Fantasy', 'Adventure, Family, Fantasy, Musical, Romance', 'Comedy, Drama, Sport, Thriller', 'Horror, Romance, Drama', 'Animation, Short, Adventure, Comedy, Family, Fantasy', 'Action, Crime, Drama, Fantasy, Horror, Mystery, Thriller', 'Action, Sci-Fi, Thriller, Mystery', 'Comedy, Crime, Music, Romance', 'Animation, Action, Adventure, Comedy, Drama, Family, Sci-Fi', 'Animation, Action, Crime, Mystery, Romance, Sci-Fi, Thriller', 'Comedy, Crime, Family, Sci-Fi', 'Short, Family', 'Adult, Crime, Drama, Romance', 'Sci-Fi, Music', 'Animation, Action, Adventure, Drama, Romance, Sci-Fi', 'Animation, Comedy, Family, Fantasy, Musical, Romance', 'Short, Comedy, Horror', 'Short, Drama, Horror', 'Action, Comedy, Drama, Horror', 'Comedy, Mystery, Sci-Fi', 'Adventure, Comedy, Film-Noir, Romance, Thriller, War', 'Short, Comedy, Drama, Western', 'Comedy, Fantasy, Music, Musical, Romance', 'Action, Adventure, Crime, Drama, Sci-Fi, Thriller', 'Adventure, Comedy, Music', 'Comedy, Horror, Music, Sci-Fi, Thriller', 'Fantasy, Horror, Romance, Thriller', 'Comedy, Crime, Drama, Music, Romance', 'Comedy, Drama, Sci-Fi, Thriller', 'Animation, Short, Fantasy', 'Comedy, Crime, Horror', 'Action, Crime, Drama, Film-Noir', 'Musical, Romance, Western', 'Sci-Fi, Action, Thriller', 'Biography, Drama, History, Music', 'Adventure, Biography, Drama, History, Romance', 'Drama, Romance, Music', 'Comedy, Documentary, Music', 'Action, Thriller, Adventure', 'Action, Sport, Thriller', 'Short, Drama, Music, Romance', 'Adventure, Comedy, Crime, Music', 'Comedy, Game-Show', 'Animation, Action, Drama, Sport, Thriller', 'Action, Adventure, Crime, Thriller, Western', 'Family, Comedy, Drama', 'Mystery, Western', 'Action, Biography, Drama, History, Western', 'Animation, Comedy, Musical', 'Animation, Action, Adventure, Comedy, Family, Mystery, Sci-Fi', 'Short, Fantasy, Horror', 'Action, Thriller, War, Drama', 'Animation, Action, Adventure, Horror, Music, Sci-Fi', 'Action, Comedy, Fantasy, Horror', 'Adventure, Comedy, Music, Sci-Fi', 'Action, Adventure, Drama, War, Western', 'Comedy, Crime, Sci-Fi, Thriller', 'Animation, Adventure, Comedy, Family, Musical, Mystery', 'Action, Comedy, Crime, Horror, Romance', 'Action, Sci-Fi, Animation, Fantasy, Adventure, Drama', 'Comedy, Drama, Fantasy, Musical, Romance', 'Crime, Action, Drama', 'Action, Adventure, Drama, Family, Sci-Fi', 'Crime, Film-Noir, Mystery, Sci-Fi, Thriller', 'Animation, Action, Adventure, Comedy, Drama, Family, Fantasy, Sci-Fi, Thriller', 'Drama, Romance, Family', 'Documentary, Drama, Horror, Mystery', 'Adventure, Western, Romance', 'Romance, Comedy, Action', 'Animation, Comedy, Fantasy, Music, Romance', 'Drama, History, Horror', 'Documentary, Short, History, War', 'Action, Biography, Crime, Drama, Thriller', 'Animation, Drama, Mystery, Romance, Sci-Fi', 'Animation, Family, Short, Comedy', 'Drama, Horror, Musical, Mystery, Romance, Thriller', 'Action, Adventure, Drama, Fantasy, Romance', 'Drama, Action, Horror', 'Animation, Adventure, Family, Romance', 'Adventure, Horror, Mystery', 'Drama, Horror, War, Thriller', 'War, Drama, Action, Romance', 'Crime, Drama, Romance, War', 'Adventure, Comedy, Drama, Western', 'Action, Comedy, Romance, Sport', 'Animation, Adventure, Drama, Family, Western', 'Animation, Comedy, Fantasy, Mystery', 'Family, Mystery, Romance, Thriller', 'Romance, Thriller, War', 'Horror, Western', 'Horror, Thriller, Mystery', 'Crime, Horror, Mystery', 'Action, Adventure, Crime, Fantasy', 'Short, Action, Comedy', 'Action, Adventure, Drama, Sport', 'Biography, Drama, Family, History, War', 'Comedy, Drama, Family, Musical, Western', 'Action, Fantasy, Western', 'Adventure, Drama, Family, History, War', 'Adult, Comedy, Romance', 'Animation, Action, Adventure, Comedy, Drama, Musical, Sci-Fi', 'Drama, Thriller, Romance', 'Action, Musical, Romance, Thriller', 'Animation, Horror, Mystery, Sci-Fi', 'Action, Comedy, Mystery, Romance', 'Documentary, Comedy, Musical', 'Action, Crime, Romance', 'Action, Crime, Horror, Romance', 'Animation, Short, Comedy, Family, Fantasy, Horror', 'Family, Adventure, Drama', 'Family, Animation, Short, Comedy', 'Biography, Comedy, Thriller', 'Animation, Adventure, Drama, Fantasy, Sci-Fi', 'Adventure, Biography, History, Romance, Western', 'Comedy, Drama, Family, Music', 'Action, Adventure, Comedy, Fantasy, Horror, Sci-Fi', 'Animation, Adventure, Drama, Mystery, Romance, Sci-Fi, Thriller', 'Action, Romance, Thriller, War', 'Comedy, Family, Game-Show, Talk-Show', 'Adventure, Comedy, Family, Fantasy, Romance, Sport', 'Animation, Adventure, Family, Fantasy, Thriller', 'Animation, Adventure, Fantasy, Horror, Sci-Fi', 'Animation, Short, Action, Adventure, Fantasy, Horror, Mystery', 'Comedy, Family, Adventure, Fantasy, Sci-Fi', 'Comedy, Action, Drama', 'Drama, Family, Romance, War', 'Adventure, Comedy, Fantasy, Music, Sci-Fi', 'Animation, Adult, Fantasy', 'Family, Fantasy, Musical, Romance', 'Biography, Drama, History, Sport, War', 'Adventure, Mystery, Sci-Fi', 'Animation, Action, Adventure, Family', 'Adventure, War', 'Drama, History, Horror, Thriller', 'Crime, Film-Noir, Sport', 'Action, Fantasy, Horror, Sci-Fi, Thriller', 'Comedy, Reality-TV, Romance', 'Biography, Romance', 'Biography, Crime, Drama, Sport', 'Action, Animation, Adventure, Family, Sci-Fi, Thriller', 'Animation, Sci-Fi, Action, Adventure, Family', 'Biography, Drama, History, Mystery, Thriller', 'Fantasy, Western', 'Drama, Musical, Family', 'Biography, Drama, Romance, War, Western', 'Music, Short', 'Thriller, Crime', 'Mystery, Crime, Drama', 'Biography, Drama, Sport, War', 'Action, Adventure, Comedy, Crime, Family, Sci-Fi', 'Adventure, Drama, Mystery', 'Animation, Short, Comedy, Family, Music', 'Drama, Mystery, Thriller, Sci-Fi', 'Animation, Action, Comedy, Drama, Fantasy, Horror, Mystery, Thriller', 'Animation, Action, Adventure, Drama, Fantasy, Mystery, Sci-Fi, Thriller', 'Adventure, Comedy, Horror, Thriller', 'Fantasy, Horror, Comedy', 'Documentary, Action, Sport', 'Drama, Film-Noir, Sport', 'Action, Adventure, Comedy, Sci-Fi, Thriller', 'Action, Animation, Mystery, Adventure, Drama, Fantasy', 'Action, Adventure, Fantasy, Horror, Sci-Fi', 'Action, Drama, Horror, Sci-Fi, Thriller', 'Animation, Adventure, Comedy, Drama, Family, Romance', 'Action, Drama, Music, Mystery, Thriller', 'Action, Comedy, Family, Sci-Fi', 'Documentary, Biography, Drama, War', 'Animation, Adventure, Drama, Family, Fantasy, Sci-Fi', 'Adventure, Comedy, Action', 'Family, Music, Musical, Romance', 'Adventure, Comedy, Crime, Drama, Family', 'Comedy, Music, Romance, Sport', 'Animation, Action, Adventure, Crime, Drama, Fantasy, Horror, Mystery, Romance, Sci-Fi, Thriller', 'Adventure, Drama, War, Action', 'Action, Adventure, Animation, Comedy', 'Action, Drama, Mystery, Thriller', 'Comedy, Family, Fantasy, Musical, Romance', 'Family, Comedy, Crime', 'Action, Comedy, Sci-Fi, Short', 'Animation, Drama, Thriller', 'Animation, Short, Adventure, Comedy, Family, Mystery', 'Animation, Adventure, Drama, Fantasy, Romance', 'Animation, Comedy, Sci-Fi, Thriller', 'Drama, Comedy, War', 'Action, Biography, Drama, History', 'Documentary, Biography, Comedy, Romance', 'Action, Comedy, Drama, Family, Romance', 'Comedy, Crime, Family, Musical', 'Documentary, Drama, Music', 'Crime, Film-Noir, Mystery, Romance, Thriller', 'Drama, Family, Romance, Western', 'Action, Adventure, Family, Fantasy, Thriller', 'Animation, Action, Horror, Thriller', 'Action, Adventure, Thriller, War', 'Family, Fantasy, Western', 'Biography, Comedy, Drama, Sport', 'Action, Crime, Horror', 'Adventure, Drama, Mystery, Sci-Fi', 'Drama, Fantasy, Sport', 'Adventure, Comedy, Mystery, Romance, Sci-Fi', 'Documentary, Comedy, History, Talk-Show', 'Crime, Drama, Music, Thriller', 'Animation, Adventure, Family, Fantasy, Mystery', 'Action, Drama, Musical, Romance', 'Animation, Adventure, Comedy, Family, Fantasy, Horror', 'Adventure, Comedy, Sci-Fi, Western', 'Horror, Fantasy, Thriller', 'Fantasy, Mystery, Romance, Sci-Fi, Thriller', 'Biography, Drama, Fantasy, Romance', 'Action, Thriller, Sci-Fi', 'Drama, Horror, Mystery, Romance, Sci-Fi, Thriller', 'Action, Adventure, Comedy, Drama, Fantasy, Horror, Romance', 'Documentary, History, Romance, War', 'Adventure, Crime, Action', 'Action, Adventure, Comedy, Romance, Western', 'Drama, Mystery, Western', 'Adventure, Drama, History, War, Western', 'Animation, Short, Family, Fantasy, Music', 'Animation, Action, Adventure, Comedy, Drama, Family, Fantasy, Sci-Fi', 'Animation, Action, Drama, Romance, Sci-Fi', 'Action, Adventure, Sci-Fi, Thriller, Western', 'Animation, Action, Adventure, Fantasy, Sci-Fi, Thriller', 'Adventure, Fantasy, Horror, Mystery, Thriller', 'Action, Comedy, Sci-Fi, Thriller', 'Thriller, Drama, Action', 'Animation, Action, Comedy, Sport', 'Action, Adventure, Comedy, Mystery, Sci-Fi', 'Adventure, Family, History, War', 'Adventure, Fantasy, Horror, Sci-Fi', 'Action, Adventure, Comedy, Crime, Family, Mystery', 'Action, Drama, Music, Thriller', 'Adventure, Comedy, Crime, Drama, Romance', 'Drama, Music, Romance, Western', 'Drama, Mystery, Sci-Fi, Western', 'Documentary, Animation, Drama, Horror', 'Animation, Action, Adventure, Drama, Fantasy, Sci-Fi', 'Animation, Action, Comedy, Fantasy, Romance', 'Action, Crime, Drama, Music, Romance, Thriller', 'Drama, Sci-Fi, Romance', 'Animation, Biography, Comedy, Family', 'Action, Horror, Comedy', 'Adventure, Comedy, Family, Musical, Romance', 'Documentary, Short, History', 'Documentary, Adventure, Drama, Sport', 'Adventure, Comedy, Crime, Mystery, Romance, Thriller', 'Comedy, Drama, Family, Sci-Fi', 'Animation, Adventure, Comedy, Family, Mystery, Sci-Fi', 'Action, Drama, Comedy, Crime, Thriller', 'Action, Comedy, Crime, Drama, Romance', 'Film-Noir, Mystery, Thriller, War', 'Action, Adventure, Comedy, Family, Fantasy, Sci-Fi', 'Biography, Drama, History, War, Western', 'Adult, Comedy', 'Comedy, Family, Adventure', 'Drama, Mystery, Romance, Thriller, War', 'History, Romance', 'Action, Adventure, Mystery, Thriller', 'Adventure, Crime, Drama, Thriller', 'Documentary, Action, Comedy', 'Comedy, Music, Drama', 'Action, Documentary', 'Musical, Drama, Family', 'Animation, Family, Adventure', 'Documentary, Animation, History', 'Animation, Action, Adventure, Comedy, Family', 'Family, Horror, Mystery, Thriller', 'Animation, Action, Adventure, Drama, Family, Fantasy, Sci-Fi', 'Action, Fantasy, Adventure, Sci-Fi', 'Animation, Action, Family, Fantasy, Sci-Fi, Sport, Thriller', 'Adventure, Animation, Comedy', 'Animation, Adventure, Drama, Horror, Romance, Sci-Fi', 'Animation, Drama, Horror, Mystery', 'Animation, Family, Fantasy, Music', 'Comedy, Fantasy, Mystery, Romance', 'Adventure, Crime, Drama', 'Adventure, Family, Fantasy, Horror, Mystery', 'Action, Drama, Musical, Romance, Thriller', 'Animation, Comedy, Drama, Fantasy, Romance, Thriller', 'Adventure, Action, Crime', 'Animation, Horror, Sci-Fi, Thriller', 'Animation, Adventure, Comedy, Drama, Fantasy, Mystery, Romance, Sci-Fi, Thriller', 'Action, Adventure, Crime, Drama, Fantasy, Romance, Sci-Fi', 'Adventure, Crime, Drama, History, Mystery, Thriller', 'Drama, Family, Thriller', 'Adventure, Family, Romance', 'Action, Comedy, Family, Sport', 'Romance, Action, Drama, Musical', 'Drama, Musical, Romance, Western', 'Action, Biography, Game-Show, Reality-TV, Sport', 'Crime, Drama, Mystery, War', 'Action, Adventure, Crime, Drama, Horror, Sci-Fi, Thriller', 'Documentary, Biography, History, War', 'Action, Drama, Sci-Fi, Sport, Thriller', 'Action, Adventure, Comedy, Crime, Drama, Romance, Sci-Fi, Thriller', 'Animation, Comedy, Short, Family', 'Crime, Drama, Horror, Mystery, Romance, Thriller', 'Action, Animation, Sci-Fi', 'Documentary, Action, History', 'Action, Adventure, Crime, Romance, Thriller', 'Action, Comedy, Romance, Sci-Fi, Animation', 'Thriller, Drama, Mystery', 'Drama, Mystery, Romance, Sport', 'Short, Comedy, Musical', 'Animation, Action, Western', 'Animation, Action, Crime, Drama, Mystery, Thriller', 'Drama, Family, Fantasy, Sport', 'Animation, Action, Adventure, Fantasy, Musical', 'Animation, Action, Adventure, Comedy, Fantasy, Sci-Fi, Thriller', 'Animation, Adventure, Horror', 'Documentary, Drama, Fantasy, Mystery, Romance, Sci-Fi', 'Action, Horror, Drama', 'Drama, Horror, Thriller, War', 'Short, Action, Crime', 'Documentary, Biography, Comedy', 'Action, Biography, Drama', 'Action, Animation, Thriller', 'Action, Comedy, Drama, Western', 'Biography, Drama, Thriller, War', 'Action, Comedy, Family', 'Action, Comedy, Romance, Thriller', 'Animation, Adventure, Comedy, Family, Music', 'Documentary, Music, Drama', 'Drama, Thriller, Comedy, Crime', 'Drama, Action, Musical', 'Documentary, Animation, Sci-Fi', 'Animation, Drama, Fantasy, Music, Musical', 'Short, Documentary', 'Action, Fantasy, Romance, Thriller', 'Documentary, Biography, Comedy, Musical', 'Animation, Short, Action', 'Animation, Family, Music', 'Animation, Action, Comedy, Mystery', 'Drama, Action, Crime', 'Crime, Drama, Western', 'Biography, Comedy, Musical, Thriller, Western', 'Crime, Drama, Music, Romance, Thriller', 'Romance, Comedy, Drama, Musical', 'Biography, Drama, History, Romance, Thriller', 'Crime, Drama, Sci-Fi', 'Comedy, Family, Fantasy, Sci-Fi', 'Action, Musical, Mystery', 'Action, Adventure, Comedy, Family, Romance, Sci-Fi', 'Adventure, Drama, Fantasy, Horror, Sci-Fi', 'Animation, Action, Adventure, Comedy, Crime, Family, Mystery, Sci-Fi', 'Comedy, Crime, Family, Music', 'Action, Adventure, Comedy, Romance, Thriller, Western', 'Adventure, Biography, Drama, Romance', 'Short, Biography', 'Crime, Drama, Film-Noir, Romance', 'Short, Sport', 'Comedy, Drama, Western', 'Comedy, Musical, Sport', 'Comedy, Crime, Mystery, Romance, Thriller', 'Animation, Action, Drama, Fantasy, Sci-Fi', 'Animation, Action, Adventure, Comedy, Crime, Mystery', 'Adult, Drama, Mystery', 'Animation, Comedy, Fantasy, Horror, Sci-Fi, Thriller', 'Sci-Fi, Western', 'Animation, Action, Adult, Adventure, Drama, Fantasy, History, Horror, Thriller', 'Animation, Action, Comedy, Drama, Sci-Fi, Western', 'Drama, Family, Fantasy, Musical, Romance', 'Comedy, Drama, Mystery, Romance, Thriller, War', 'Action, Comedy, Drama, Fantasy, Romance', 'Animation, Music', 'Comedy, Crime, Drama, Fantasy', 'Crime, Drama, Action, Thriller', 'Comedy, Crime, Horror, Mystery, Thriller', 'Documentary, Animation, Family', 'Adventure, Crime', 'Action, Adventure, Comedy, Drama, Family, Fantasy', 'Horror, Drama', 'Comedy, Crime, Drama, Sci-Fi, Thriller', 'Comedy, Fantasy, Horror, Musical', 'Family, Fantasy, Comedy', 'Action, Adventure, Comedy, Fantasy, Sci-Fi, Thriller', 'Action, Comedy, Drama, War', 'Comedy, History, Romance', 'Adventure, Horror, Sci-Fi, Thriller', 'Action, Drama, Film-Noir, Romance, War', 'Comedy, Musical, War', 'Comedy, Drama, Fantasy, Mystery, Romance, Thriller', 'Biography, Crime, Drama, History, Thriller, War', 'Action, Adventure, Comedy, Drama, War, Western', 'Action, Crime, Drama, History, Western', 'Animation, Adventure, Comedy, Drama, Family', 'Comedy, Mystery, Romance, Thriller', 'Adult, Fantasy, Horror', 'Action, Adventure, Drama, Music, Romance, Western', 'Drama, Comedy, Family', 'Animation, Adventure, Comedy, Drama, Family, Fantasy, Musical', 'Documentary, Action, War', 'Action, Crime, Horror, Thriller', 'Action, Comedy, Drama, Crime', 'Comedy, Crime, Family, Mystery', 'Action, Drama, Romance, Sci-Fi', 'Comedy, Short, Drama', 'Comedy, Family, Music, Musical', 'Animation, Comedy, Family, Fantasy, Music', 'Animation, Horror', 'Action, Comedy, Horror, Sport', 'Comedy, Drama, Adult', 'Animation, Sci-Fi, Action, Thriller', 'Action, Adventure, Comedy, Fantasy, Sci-Fi', 'Sci-Fi, Thriller, Horror', 'Drama, Family, War', 'Drama, Romance, Fantasy, Mystery', 'Animation, Comedy, Drama, Family, Fantasy, Musical', 'Crime, Mystery, Drama, Thriller', 'Animation, Adventure, Comedy, Fantasy, Western', 'Comedy, Sci-Fi, Thriller', 'Family, Adventure, Sci-Fi', 'Animation, Action, Fantasy, Horror', 'Action, Adventure, Comedy, Thriller, Western', 'Short, Horror, Mystery', 'Comedy, Drama, Mystery, Romance', 'Animation, Action, Adventure, Comedy, Family, Sport', 'Action, Adventure, Comedy, Crime, Family, Romance, Thriller', 'Comedy, Drama, Fantasy, Romance, War, Western', 'Animation, Adventure, Comedy, Horror, Sci-Fi', 'Documentary, Animation, Music', 'Drama, War, Western', 'Crime, Mystery, Drama', 'Adventure, Drama, Mystery, Sci-Fi, Thriller', 'Animation, Family, Comedy, Horror, Sci-Fi', 'Romance, Comedy, Drama, Music', 'Animation, Drama, War', 'Drama, Sci-Fi, Short', 'Animation, Drama, Fantasy, Romance', 'Documentary, History, Romance', 'Adventure, Comedy, Crime, Drama, Fantasy, Mystery, Sci-Fi, Thriller', 'Documentary, Short, Adventure', 'Animation, Action, Adventure, Comedy, Mystery', 'Adventure, Fantasy, Horror', 'Biography, Drama, Sport, Western', 'Action, Drama, Mystery, Sci-Fi', 'Drama, Adventure', 'Action, Crime, Drama, Film-Noir, Music, Thriller', 'Action, Animation, Comedy', 'Documentary, Adult, Comedy', 'Crime, Drama, Fantasy, Romance, Thriller', 'Animation, Short, Drama, Family, Fantasy, Musical', 'Adventure, War, Western', 'Comedy, Horror, Romance, Sci-Fi', 'Short, Action, Sci-Fi', 'Action, Comedy, Crime, Fantasy, Thriller', 'Comedy, Action, Sci-Fi', 'Action, Adventure, Comedy, Horror, Romance', 'Animation, Comedy, Fantasy, Musical', 'Animation, Fantasy, Sci-Fi', 'Action, Drama, Fantasy, Horror, Sci-Fi, Thriller', 'Horror, Musical, Sci-Fi', 'Horror, Romance, Sci-Fi, Thriller', 'Short, Action, Western', 'Action, Adventure, Drama, Mystery, Sci-Fi, Thriller', 'Drama, Film-Noir, Sport, Thriller', 'Animation, Short, Adventure, Comedy, Fantasy', 'Comedy, Drama, Fantasy, Horror, Music, Musical, Romance, Thriller', 'Thriller, Action, Fantasy, Horror', 'Action, Adventure, Sci-Fi, War', 'Adventure, Drama, History, Mystery', 'Animation, Action, Adventure, Drama, Fantasy, Mystery', 'Animation, Short, Action, Adventure, Fantasy, Sci-Fi', 'Crime, Drama, Music, Mystery, Thriller', 'Documentary, Animation, Adventure, Sci-Fi', 'Drama, Fantasy, Horror, Mystery, Romance, Sci-Fi, Thriller', 'Animation, Action, Adventure, Family, Fantasy, Sci-Fi, Sport', 'Drama, Crime, Mystery, Thriller', 'Animation, War', 'Biography, Drama, History, Music, Romance', 'Adult, Drama, Fantasy', 'Thriller, Action', 'Music, Musical', 'Biography, Crime, Western', 'Action, Adventure, Comedy, Family, Fantasy', 'Horror, Music, Thriller', 'Biography, Comedy, Drama, War', 'Action, Adventure, Family, War, Western', 'Action, Comedy, Horror, Musical', 'Animation, Short, Adventure', 'Adventure, Romance, Thriller, War', 'Animation, Fantasy, Horror, Sci-Fi', 'Animation, Drama, History, Music', 'Comedy, Fantasy, Horror, Mystery, Western', 'Drama, Film-Noir, Mystery', 'Romance, Musical, Drama', 'Animation, Adventure, Comedy, Family, Music, Western', 'Documentary, Biography, News', 'Adult, Drama', 'Comedy, Fantasy, Family', 'Short, Comedy, Sci-Fi', 'Action, Adventure, History, Western', 'Comedy, Documentary, Action', 'Drama, War, Comedy', 'Animation, Adventure, Drama, Family, History', 'Comedy, Action, Family', 'Animation, Action, Comedy, Family, Fantasy', 'Adventure, Drama, History, Thriller, War', 'Animation, Short, Action, Sci-Fi', 'Animation, Comedy, Family, Fantasy, Horror, Sport', 'Action, Adventure, Comedy, Family, Romance, Sport, Western', 'Romance, Music', 'Animation, Action, Comedy, Drama, Romance', 'Action, Adventure, Family, Fantasy, Sci-Fi, Thriller', 'Animation, Family, Musical', 'Animation, Comedy, Drama, Sci-Fi', 'Action, Adventure, Comedy, Crime, Thriller, War', 'Animation, Short, Adventure, Fantasy, Sci-Fi', 'Drama, Fantasy, History, Mystery', 'Drama, Fantasy, Musical, Romance', 'Adventure, History, Western', 'Drama, Family, History, Thriller', 'Biography, Drama, Horror, Sci-Fi, Thriller', 'Adventure, Drama, Sport', 'Animation, Action, Adventure, Family, Fantasy, Thriller', 'Action, Comedy, Sci-Fi, Western', 'Action, Adventure, Biography, Drama, History, Romance, War, Western', 'Comedy, Fantasy, Music, Romance', 'Comedy, Drama, Music, Western', 'Short, Action, Crime, Western', 'Adventure, Biography, Drama, History, Romance, War, Western', 'Action, Adventure, Comedy, Drama, History, Romance', 'Romance, Short', 'Action, Comedy, Drama, Musical', 'Animation, Adventure', 'Drama, Fantasy, Musical', 'Animation, Action, Fantasy, Horror, Sci-Fi', 'Animation, Action, Adventure, Comedy, Drama, Fantasy, Romance, Sci-Fi, Thriller, War', 'Adventure, Crime, Drama, Romance, Thriller', 'Action, Crime, Fantasy, Thriller', 'Action, Drama, Romance, Sci-Fi, Thriller', 'Comedy, Mystery, Thriller, Crime', 'Adventure, Family, Fantasy, Mystery, Sci-Fi', 'Documentary, Drama, War', 'Documentary, Sci-Fi, Short', 'Adventure, Drama, Fantasy, History', 'Action, Horror, Mystery', 'Short, Comedy, Sci-Fi, Thriller', 'Musical, Romance, Drama', 'Action, Adventure, Comedy, Family, Musical, Romance', 'Adventure, Comedy, Drama, Family, Mystery', 'Animation, Comedy, Family, Fantasy, Romance', 'Action, Adventure, Comedy, Crime, Drama', 'Romance, Comedy, Musical', 'Action, Adventure, Comedy, Musical', 'Crime, Drama, History, Mystery, Thriller', 'Music, Sport', 'Action, Adventure, Family, Fantasy, Mystery, Sci-Fi', 'Comedy, Crime, Sci-Fi', 'Action, Crime, Horror, Mystery', 'Adventure, History, Romance', 'Horror, Western, Thriller', 'Action, Short', 'Action, Adventure, Comedy, Western', 'Animation, Action, Adventure, Mystery, Sci-Fi', 'Comedy, Fantasy, Musical', 'Documentary, Reality-TV', 'Action, Adventure, Comedy, Drama, Fantasy, Music, Sci-Fi', 'Animation, Adventure, Family, Musical, Western', 'Biography, Comedy, Drama, Family, Sport', 'Drama, Adventure, Family', 'Crime, Drama, Action, Music', 'Comedy, Drama, Romance, Fantasy', 'Action, Adventure, Comedy, Fantasy, Horror, Thriller', 'Comedy, Crime, Drama, Thriller, War', 'Action, Adventure, Drama, Horror, Mystery, Sci-Fi, Thriller', 'Animation, Sci-Fi, Adventure', 'Animation, Drama, Fantasy, Thriller', 'Animation, Action, Sport', 'Crime, Drama, Musical, Romance', 'Crime, Drama, Horror, Mystery, Sci-Fi, Thriller', 'Documentary, Action, Adventure, Family, Reality-TV', 'Crime, Drama, History, Romance', 'Action, Adventure, Crime, Mystery, Thriller', 'Comedy, Drama, Horror', 'Action, Comedy, Crime, Musical, Romance', 'Adventure, Comedy, Family, Sport', 'Biography, Crime, Drama, Film-Noir', 'Action, Adventure, Sci-Fi, Western', 'Biography, Drama, Music, Musical, Romance', 'Action, Drama, Fantasy, Sci-Fi', 'Action, Adventure, Mystery, Romance, Thriller', 'Biography, Comedy, Music, Romance', 'Action, Adventure, Comedy, Horror, Sci-Fi, Thriller, Western', 'Action, Adventure, Crime, Drama, Romance, Thriller', 'Animation, Action, Crime, Drama, Sci-Fi', 'Horror, Music', 'Animation, Adventure, Comedy, Fantasy, Romance', 'Animation, Comedy, Drama, Sci-Fi, Thriller', 'Action, Comedy, Crime, Drama, Horror, Mystery, Sci-Fi, Thriller', 'Action, Horror, Mystery, Romance, Sci-Fi, Thriller', 'Action, Adventure, Fantasy, Horror, Sci-Fi, Thriller', 'Animation, Comedy, Family, Mystery', 'Action, Drama, Horror, Romance, Sci-Fi', 'Short, Adventure, Comedy, Sci-Fi', 'Comedy, Family, Fantasy, Horror, Mystery', 'Comedy, Musical, Sci-Fi', 'Romance, Crime, Thriller', 'Biography, Drama, Family, History', 'Crime, Drama, Mystery, Thriller, Western', 'Animation, Fantasy, Adventure', 'Adventure, Comedy, Drama, Family, Musical, Romance', 'Comedy, Fantasy, Music, Musical, Romance, War', 'Action, Adventure, Crime, Fantasy, Mystery, Sci-Fi, Thriller', 'Animation, Comedy, Family, Sport', 'Action, Comedy, Drama, Family, Musical, Sci-Fi', 'Short, Drama, History', 'Documentary, Adventure, Romance', 'Action, Horror, Mystery, Sci-Fi, Thriller', 'Action, Adventure, Comedy, Drama, Musical, Thriller', 'Documentary, Short, Music, Reality-TV', 'Action, Drama, History, Romance, War', 'Animation, Action, Adventure, Comedy, Crime, Family, Fantasy, Sci-Fi', 'Action, Fantasy, Drama, Horror', 'Animation, Fantasy, Horror, Romance', 'Adventure, Comedy, Drama, Family, Romance, Western', 'Game-Show, Music, Reality-TV', 'Adventure, Comedy, Drama, Family, Sport', 'Animation, Adventure, Crime, Drama, Family, Fantasy, Mystery', 'Action, Comedy, Horror, Romance', 'Action, Drama, Family, Sport', 'Fantasy, Mystery, Western', 'Animation, Short, Drama, Romance, Sci-Fi', 'Animation, Action, Crime', 'Action, Sci-Fi, Sport, Thriller', 'Adventure, Comedy, Mystery', 'Action, Adventure, Comedy, Crime, Music, Sci-Fi, Thriller', 'Animation, Action, Adventure, Family, Fantasy, Horror', 'Comedy, Drama, Romance, Music', 'Drama, Thriller, Western', 'Comedy, Fantasy, Mystery', 'Drama, Music, Comedy', 'Action, Adventure, Comedy, War', 'Adventure, Drama, Fantasy, Sci-Fi', 'Action, Drama, Family', 'Comedy, Drama, Musical, Romance, Thriller', 'Biography, Drama, History, Romance, War', 'Action, Drama, Mystery, Thriller, War', 'Action, Adventure, Comedy, Crime, Music, Mystery', 'Animation, Adventure, Comedy, Family, Music, Mystery', 'Action, Adventure, Horror, Romance, Sci-Fi', 'Animation, Action, Comedy, Family, Musical', 'Crime, Mystery, Thriller, Western', 'Animation, Adventure, Comedy, Family, Fantasy, Sci-Fi, Sport', 'Action, Adventure, Biography, Drama, Sport, Western', 'Comedy, Talk-Show', 'Adventure, Comedy, Family, History, Sport', 'Crime, Drama, Horror', 'Adventure, Comedy, Family, Music', 'Comedy, Crime, Fantasy, Romance', 'Action, Drama, Mystery, Romance, Thriller', 'Drama, Action, Romance', 'Comedy, Drama, Fantasy, History, Romance', 'Action, Crime, Fantasy, Mystery, Thriller', 'Adventure, Drama, Musical, Sport', 'Documentary, Drama, Sport', 'Sci-Fi, Comedy, Horror', 'Comedy, Drama, History, Mystery', 'Adventure, Comedy, Drama, Fantasy, Musical', 'Short, Comedy, Fantasy', 'Action, Comedy, Drama, Romance, War', 'Action, Adventure, Family, Horror, Sci-Fi', 'Action, Drama, Romance, Sport', 'Animation, Action, Comedy, Sci-Fi', 'Action, Comedy, Family, Fantasy', 'Action, Adventure, Biography, Drama, History, Romance, War', 'Comedy, Family, Horror, Romance', 'Animation, Comedy, Family, Fantasy', 'Action, Adventure, Comedy, Drama, Family, War', 'Comedy, Musical, Family', 'Action, Comedy, Crime, Music, Musical', 'Fantasy, Comedy', 'Action, Adventure, Comedy, Drama, Thriller', 'Crime, Drama, Romance, Sport, Thriller', 'Animation, Adventure, Family, Fantasy, Musical, War', 'Adventure, Comedy, Sci-Fi, Thriller', 'Drama, Mystery, Romance, Sci-Fi, Thriller', 'Crime, Drama, Fantasy, Horror, Thriller', 'Crime, Drama, History, Horror, Thriller', 'Action, Comedy, Crime, Music, Romance, Thriller', 'Biography, Comedy, Crime, Drama, Romance, Thriller', 'Horror, Action', 'Drama, Romance, War, Comedy', 'Action, Adventure, Comedy, Fantasy, Romance', 'Documentary, Romance', 'Musical, Romance, Thriller', 'Animation, Action, Crime, Drama, Fantasy, Horror, Mystery, Thriller', 'Animation, Action, Crime, Drama, Horror, Sci-Fi', 'Animation, Action, Adventure, Drama, Fantasy, Horror', 'Animation, Action, Drama, Mystery, Sci-Fi, Thriller', 'Adventure, Biography, Drama, Family', 'Animation, Action, Romance, Sci-Fi', 'Animation, Action, Adventure, Comedy, Fantasy, Romance, Sci-Fi', 'Adventure, Family, Comedy', 'Action, Comedy, Western', 'Documentary, Short, Comedy', 'Animation, Adventure, Family, Mystery', 'Action, Adventure, Comedy, Fantasy, Mystery', 'Comedy, Drama, Fantasy, Sci-Fi, Thriller', 'Action, Adventure, Comedy, Horror, Sci-Fi', 'Action, Adventure, Comedy, Crime, Drama, Romance', 'Animation, Crime, Sci-Fi', 'Biography, Drama, Family, Musical, Romance', 'Adventure, Drama, Family, Fantasy, Musical', 'Biography, Musical', 'Animation, Adventure, Comedy, Crime, Music', 'Documentary, Family, Musical', 'Animation, Short, Action, Comedy, Fantasy', 'Adventure, Comedy, Family, Fantasy, Horror, Mystery', 'Biography, Crime, Drama, History, Mystery, Romance', 'Documentary, News', 'Adventure, Drama, Music, Romance', 'Adventure, Biography, Drama, War', 'Animation, Adventure, Drama, Family, Fantasy, Musical', 'Action, Adventure, Crime, Sci-Fi, Thriller', 'Adventure, Comedy, Crime, Family, Musical, Mystery', 'Biography, Drama, History, Musical, Romance', 'Thriller, Drama, Mystery, Crime, Romance', 'Action, Crime, Sci-Fi', 'Action, Crime, Drama, Fantasy, Sci-Fi, Thriller', 'Horror, Thriller, Comedy', 'Comedy, Drama, Family, Music, Musical', 'Action, War, Drama', 'Action, Adventure, Mystery, Sci-Fi', 'Animation, Comedy, Crime, Family', 'Horror, Thriller, Fantasy', 'Short, Action, Thriller', 'Music, Comedy', 'Reality-TV, Sport', 'Drama, Comedy, Sci-Fi', 'Action, Crime, Drama, War, Western', 'Drama, Fantasy, Western', 'Action, Crime, Drama, Horror, Romance, Thriller', 'Comedy, Drama, Music, Musical', 'Animation, Action, Comedy, Drama, Horror, Mystery, Romance, Sci-Fi, Thriller', 'Animation, Action, Adventure, Drama, Romance', 'Adventure, History', 'Action, Adventure, Animation, Comedy, Sci-Fi', 'Crime, Action', 'Action, Adventure, Drama, Fantasy, History', 'Animation, Action, Adventure, Comedy, Crime, Mystery, Sci-Fi, Thriller', 'Animation, Action, Adventure, Comedy, Drama, Fantasy, Horror, Thriller', 'Drama, Fantasy, Horror, Romance, Thriller', 'Documentary, History, Sci-Fi', 'Crime, Drama, Mystery, Thriller, War', 'Adventure, Comedy, Family, Fantasy, Mystery', 'Action, Adventure, Mystery, Sci-Fi, Thriller', 'Action, Crime, Drama, Mystery, Romance, Thriller', 'Adventure, Comedy, Musical', 'Drama, Fantasy, Horror, Mystery, Romance, Thriller', 'Animation, Adventure, Drama, Family, Fantasy, Mystery', 'Comedy, Drama, Fantasy, Music, Romance', 'Action, Mystery, Sci-Fi', 'Crime, Mystery, Sci-Fi, Thriller', 'Crime, Horror, Drama', 'Action, Adventure, Family, Fantasy, Romance', 'Action, Crime, Drama, Family', 'Short, Biography, Drama, Sport', 'Comedy, Drama, Romance, Musical', 'Drama, Fantasy, Music, Mystery, Romance', 'Documentary, Comedy, Crime, Drama', 'Drama, Mystery, Music', 'Action, Adventure, Crime, Drama, Film-Noir, Thriller', 'Horror, Comedy, Fantasy', 'Romance, War, Drama', 'Adventure, Action', 'Documentary, Biography, Crime', 'Family, Musical, Romance', 'Documentary, Crime, Mystery', 'Adventure, Thriller, Western', 'Action, Drama, Horror, Mystery, Romance', 'Animation, Action, Adventure, Comedy, Fantasy, Romance', 'Crime, Family', 'Action, Mystery, Romance, Thriller']\n"
          ],
          "name": "stdout"
        }
      ]
    },
    {
      "cell_type": "code",
      "metadata": {
        "id": "TU0iOP-2DXCj",
        "colab_type": "code",
        "outputId": "cfe3fa82-8f86-4880-96e0-379bffdd31ea",
        "colab": {
          "base_uri": "https://localhost:8080/",
          "height": 374
        }
      },
      "source": [
        "movie_list['tomato_rating'].value_counts()"
      ],
      "execution_count": 0,
      "outputs": [
        {
          "output_type": "execute_result",
          "data": {
            "text/plain": [
              "6.0     9\n",
              "7.5     6\n",
              "4.0     5\n",
              "5.0     5\n",
              "6.4     4\n",
              "2.5     3\n",
              "6.8     2\n",
              "8.0     2\n",
              "6.7     2\n",
              "5.9     2\n",
              "5.3     2\n",
              "5.5     2\n",
              "7.3     1\n",
              "7.8     1\n",
              "7.2     1\n",
              "3.9     1\n",
              "9.0     1\n",
              "10.0    1\n",
              "3.3     1\n",
              "2.8     1\n",
              "Name: tomato_rating, dtype: int64"
            ]
          },
          "metadata": {
            "tags": []
          },
          "execution_count": 18
        }
      ]
    },
    {
      "cell_type": "code",
      "metadata": {
        "id": "2EYiAaghA_Mk",
        "colab_type": "code",
        "colab": {}
      },
      "source": [
        "movie_list_new=pd.read_csv('/content/gdrive/My Drive/award_split.csv')"
      ],
      "execution_count": 0,
      "outputs": []
    },
    {
      "cell_type": "code",
      "metadata": {
        "id": "XoMOl25DBYAn",
        "colab_type": "code",
        "colab": {}
      },
      "source": [
        "movie_list_new.shape\n",
        "movie_list_new.columns\n",
        "drop_list=['Unnamed: 0','Unnamed: 0.1', 'actors', 'box_office', 'country','metascore',\n",
        "       'director', 'dvd', 'imdb_id','plot', 'poster', 'language','year', 'released','response',\n",
        "       'production','ratings','title', 'tomato_consensus', 'tomato_fresh', 'tomato_image',\n",
        "       'tomato_meter', 'tomato_rating', 'tomato_reviews', 'tomato_rotten',\n",
        "       'tomato_url', 'tomato_user_meter', 'tomato_user_rating',\n",
        "       'tomato_user_reviews', 'total_seasons','website', 'writer','type']\n",
        "movie_list=movie_list_new.drop(drop_list,axis=1)"
      ],
      "execution_count": 0,
      "outputs": []
    },
    {
      "cell_type": "code",
      "metadata": {
        "id": "tqWDjJ1NIK26",
        "colab_type": "code",
        "outputId": "b34931d4-599f-492e-c45c-b7d36e4b43f3",
        "colab": {
          "base_uri": "https://localhost:8080/",
          "height": 187
        }
      },
      "source": [
        "movie_list.shape\n",
        "movie_list.columns"
      ],
      "execution_count": 0,
      "outputs": [
        {
          "output_type": "execute_result",
          "data": {
            "text/plain": [
              "Index(['imdb_rating', 'imdb_votes', 'movie_id', 'movie_year_netflix', 'rated',\n",
              "       'runtime', 'Documentary', 'Crime', 'Musical', 'Sci-Fi', 'Comedy',\n",
              "       'Talk-Show', 'History', 'Game-Show', 'Music', 'Short', 'Reality-TV',\n",
              "       'News', 'Adult', 'Family', 'Biography', 'Western', 'War', 'Horror',\n",
              "       'Sport', 'Adventure', 'Romance', 'Action', 'Thriller', 'Drama',\n",
              "       'Film-Noir', 'Fantasy', 'Animation', 'Mystery', 'Primetime Emmy Won',\n",
              "       'Primetime Emmy Nomination', 'Oscar Won', 'Oscar Nomination',\n",
              "       'Golden Globe Won', 'Golden Globe Nomination', 'BAFTA Film Award Won',\n",
              "       'BAFTA Film Award Nomination', 'Other wins', 'Other nominations'],\n",
              "      dtype='object')"
            ]
          },
          "metadata": {
            "tags": []
          },
          "execution_count": 34
        }
      ]
    },
    {
      "cell_type": "code",
      "metadata": {
        "id": "wdBqbWgQHOIG",
        "colab_type": "code",
        "outputId": "253af864-ffe9-4a9e-cbf8-f8346a6dbc78",
        "colab": {
          "base_uri": "https://localhost:8080/",
          "height": 419
        }
      },
      "source": [
        "df1_mean = df_1.groupby('movie_id').mean()\n",
        "df2_mean = df_2.groupby('movie_id').mean()\n",
        "df3_mean = df_3.groupby('movie_id').mean()\n",
        "df4_mean = df_4.groupby('movie_id').mean()\n",
        "df_mean_of_movies = df1_mean.append(df2_mean).append(df3_mean).append(df4_mean)\n",
        "df_mean_of_movies.reset_index(level=0,inplace=True)\n",
        "df_mean_of_movies"
      ],
      "execution_count": 0,
      "outputs": [
        {
          "output_type": "execute_result",
          "data": {
            "text/html": [
              "<div>\n",
              "<style scoped>\n",
              "    .dataframe tbody tr th:only-of-type {\n",
              "        vertical-align: middle;\n",
              "    }\n",
              "\n",
              "    .dataframe tbody tr th {\n",
              "        vertical-align: top;\n",
              "    }\n",
              "\n",
              "    .dataframe thead th {\n",
              "        text-align: right;\n",
              "    }\n",
              "</style>\n",
              "<table border=\"1\" class=\"dataframe\">\n",
              "  <thead>\n",
              "    <tr style=\"text-align: right;\">\n",
              "      <th></th>\n",
              "      <th>movie_id</th>\n",
              "      <th>Rating</th>\n",
              "    </tr>\n",
              "  </thead>\n",
              "  <tbody>\n",
              "    <tr>\n",
              "      <th>0</th>\n",
              "      <td>1</td>\n",
              "      <td>3.749543</td>\n",
              "    </tr>\n",
              "    <tr>\n",
              "      <th>1</th>\n",
              "      <td>2</td>\n",
              "      <td>3.558621</td>\n",
              "    </tr>\n",
              "    <tr>\n",
              "      <th>2</th>\n",
              "      <td>3</td>\n",
              "      <td>3.641153</td>\n",
              "    </tr>\n",
              "    <tr>\n",
              "      <th>3</th>\n",
              "      <td>4</td>\n",
              "      <td>2.739437</td>\n",
              "    </tr>\n",
              "    <tr>\n",
              "      <th>4</th>\n",
              "      <td>5</td>\n",
              "      <td>3.919298</td>\n",
              "    </tr>\n",
              "    <tr>\n",
              "      <th>...</th>\n",
              "      <td>...</td>\n",
              "      <td>...</td>\n",
              "    </tr>\n",
              "    <tr>\n",
              "      <th>17765</th>\n",
              "      <td>17766</td>\n",
              "      <td>3.193388</td>\n",
              "    </tr>\n",
              "    <tr>\n",
              "      <th>17766</th>\n",
              "      <td>17767</td>\n",
              "      <td>3.671569</td>\n",
              "    </tr>\n",
              "    <tr>\n",
              "      <th>17767</th>\n",
              "      <td>17768</td>\n",
              "      <td>2.839207</td>\n",
              "    </tr>\n",
              "    <tr>\n",
              "      <th>17768</th>\n",
              "      <td>17769</td>\n",
              "      <td>2.498592</td>\n",
              "    </tr>\n",
              "    <tr>\n",
              "      <th>17769</th>\n",
              "      <td>17770</td>\n",
              "      <td>2.816504</td>\n",
              "    </tr>\n",
              "  </tbody>\n",
              "</table>\n",
              "<p>17770 rows × 2 columns</p>\n",
              "</div>"
            ],
            "text/plain": [
              "       movie_id    Rating\n",
              "0             1  3.749543\n",
              "1             2  3.558621\n",
              "2             3  3.641153\n",
              "3             4  2.739437\n",
              "4             5  3.919298\n",
              "...         ...       ...\n",
              "17765     17766  3.193388\n",
              "17766     17767  3.671569\n",
              "17767     17768  2.839207\n",
              "17768     17769  2.498592\n",
              "17769     17770  2.816504\n",
              "\n",
              "[17770 rows x 2 columns]"
            ]
          },
          "metadata": {
            "tags": []
          },
          "execution_count": 22
        }
      ]
    },
    {
      "cell_type": "code",
      "metadata": {
        "id": "1h8Fo3XWINZp",
        "colab_type": "code",
        "outputId": "bd7a62ef-051a-4f4c-f765-fe7fe5070349",
        "colab": {
          "base_uri": "https://localhost:8080/",
          "height": 419
        }
      },
      "source": [
        "x= movie_list['movie_id'].values\n",
        "df_list_of_movies=df_mean_of_movies[df_mean_of_movies['movie_id'].isin(x)]\n",
        "df_list_of_movies"
      ],
      "execution_count": 0,
      "outputs": [
        {
          "output_type": "execute_result",
          "data": {
            "text/html": [
              "<div>\n",
              "<style scoped>\n",
              "    .dataframe tbody tr th:only-of-type {\n",
              "        vertical-align: middle;\n",
              "    }\n",
              "\n",
              "    .dataframe tbody tr th {\n",
              "        vertical-align: top;\n",
              "    }\n",
              "\n",
              "    .dataframe thead th {\n",
              "        text-align: right;\n",
              "    }\n",
              "</style>\n",
              "<table border=\"1\" class=\"dataframe\">\n",
              "  <thead>\n",
              "    <tr style=\"text-align: right;\">\n",
              "      <th></th>\n",
              "      <th>movie_id</th>\n",
              "      <th>Rating</th>\n",
              "    </tr>\n",
              "  </thead>\n",
              "  <tbody>\n",
              "    <tr>\n",
              "      <th>0</th>\n",
              "      <td>1</td>\n",
              "      <td>3.749543</td>\n",
              "    </tr>\n",
              "    <tr>\n",
              "      <th>2</th>\n",
              "      <td>3</td>\n",
              "      <td>3.641153</td>\n",
              "    </tr>\n",
              "    <tr>\n",
              "      <th>5</th>\n",
              "      <td>6</td>\n",
              "      <td>3.084396</td>\n",
              "    </tr>\n",
              "    <tr>\n",
              "      <th>6</th>\n",
              "      <td>7</td>\n",
              "      <td>2.129032</td>\n",
              "    </tr>\n",
              "    <tr>\n",
              "      <th>9</th>\n",
              "      <td>10</td>\n",
              "      <td>3.180723</td>\n",
              "    </tr>\n",
              "    <tr>\n",
              "      <th>...</th>\n",
              "      <td>...</td>\n",
              "      <td>...</td>\n",
              "    </tr>\n",
              "    <tr>\n",
              "      <th>17691</th>\n",
              "      <td>17692</td>\n",
              "      <td>3.043790</td>\n",
              "    </tr>\n",
              "    <tr>\n",
              "      <th>17692</th>\n",
              "      <td>17693</td>\n",
              "      <td>3.006107</td>\n",
              "    </tr>\n",
              "    <tr>\n",
              "      <th>17693</th>\n",
              "      <td>17694</td>\n",
              "      <td>3.384615</td>\n",
              "    </tr>\n",
              "    <tr>\n",
              "      <th>17694</th>\n",
              "      <td>17695</td>\n",
              "      <td>3.368254</td>\n",
              "    </tr>\n",
              "    <tr>\n",
              "      <th>17696</th>\n",
              "      <td>17697</td>\n",
              "      <td>3.039944</td>\n",
              "    </tr>\n",
              "  </tbody>\n",
              "</table>\n",
              "<p>12578 rows × 2 columns</p>\n",
              "</div>"
            ],
            "text/plain": [
              "       movie_id    Rating\n",
              "0             1  3.749543\n",
              "2             3  3.641153\n",
              "5             6  3.084396\n",
              "6             7  2.129032\n",
              "9            10  3.180723\n",
              "...         ...       ...\n",
              "17691     17692  3.043790\n",
              "17692     17693  3.006107\n",
              "17693     17694  3.384615\n",
              "17694     17695  3.368254\n",
              "17696     17697  3.039944\n",
              "\n",
              "[12578 rows x 2 columns]"
            ]
          },
          "metadata": {
            "tags": []
          },
          "execution_count": 24
        }
      ]
    },
    {
      "cell_type": "code",
      "metadata": {
        "id": "ts5kkTG6dcJU",
        "colab_type": "code",
        "colab": {}
      },
      "source": [
        "df=pd.DataFrame(data=df_list_of_movies.values,columns=df_list_of_movies.columns)"
      ],
      "execution_count": 0,
      "outputs": []
    },
    {
      "cell_type": "code",
      "metadata": {
        "id": "3JUsiSXleHwK",
        "colab_type": "code",
        "outputId": "19d42b4f-89c4-4efb-f7e5-d25ba3394861",
        "colab": {
          "base_uri": "https://localhost:8080/",
          "height": 204
        }
      },
      "source": [
        "df.head()"
      ],
      "execution_count": 0,
      "outputs": [
        {
          "output_type": "execute_result",
          "data": {
            "text/html": [
              "<div>\n",
              "<style scoped>\n",
              "    .dataframe tbody tr th:only-of-type {\n",
              "        vertical-align: middle;\n",
              "    }\n",
              "\n",
              "    .dataframe tbody tr th {\n",
              "        vertical-align: top;\n",
              "    }\n",
              "\n",
              "    .dataframe thead th {\n",
              "        text-align: right;\n",
              "    }\n",
              "</style>\n",
              "<table border=\"1\" class=\"dataframe\">\n",
              "  <thead>\n",
              "    <tr style=\"text-align: right;\">\n",
              "      <th></th>\n",
              "      <th>movie_id</th>\n",
              "      <th>Rating</th>\n",
              "    </tr>\n",
              "  </thead>\n",
              "  <tbody>\n",
              "    <tr>\n",
              "      <th>0</th>\n",
              "      <td>1.0</td>\n",
              "      <td>3.749543</td>\n",
              "    </tr>\n",
              "    <tr>\n",
              "      <th>1</th>\n",
              "      <td>3.0</td>\n",
              "      <td>3.641153</td>\n",
              "    </tr>\n",
              "    <tr>\n",
              "      <th>2</th>\n",
              "      <td>6.0</td>\n",
              "      <td>3.084396</td>\n",
              "    </tr>\n",
              "    <tr>\n",
              "      <th>3</th>\n",
              "      <td>7.0</td>\n",
              "      <td>2.129032</td>\n",
              "    </tr>\n",
              "    <tr>\n",
              "      <th>4</th>\n",
              "      <td>10.0</td>\n",
              "      <td>3.180723</td>\n",
              "    </tr>\n",
              "  </tbody>\n",
              "</table>\n",
              "</div>"
            ],
            "text/plain": [
              "   movie_id    Rating\n",
              "0       1.0  3.749543\n",
              "1       3.0  3.641153\n",
              "2       6.0  3.084396\n",
              "3       7.0  2.129032\n",
              "4      10.0  3.180723"
            ]
          },
          "metadata": {
            "tags": []
          },
          "execution_count": 30
        }
      ]
    },
    {
      "cell_type": "code",
      "metadata": {
        "id": "rA1e7OrhJNDU",
        "colab_type": "code",
        "colab": {}
      },
      "source": [
        "movie_list=pd.concat([movie_list,df['Rating']],axis=1)"
      ],
      "execution_count": 0,
      "outputs": []
    },
    {
      "cell_type": "code",
      "metadata": {
        "id": "8fpnTl1mI_ds",
        "colab_type": "code",
        "outputId": "db7bb1b5-d0bf-499b-cf66-0a1c1109d222",
        "colab": {
          "base_uri": "https://localhost:8080/",
          "height": 275
        }
      },
      "source": [
        "movie_list.head()"
      ],
      "execution_count": 0,
      "outputs": [
        {
          "output_type": "execute_result",
          "data": {
            "text/html": [
              "<div>\n",
              "<style scoped>\n",
              "    .dataframe tbody tr th:only-of-type {\n",
              "        vertical-align: middle;\n",
              "    }\n",
              "\n",
              "    .dataframe tbody tr th {\n",
              "        vertical-align: top;\n",
              "    }\n",
              "\n",
              "    .dataframe thead th {\n",
              "        text-align: right;\n",
              "    }\n",
              "</style>\n",
              "<table border=\"1\" class=\"dataframe\">\n",
              "  <thead>\n",
              "    <tr style=\"text-align: right;\">\n",
              "      <th></th>\n",
              "      <th>imdb_rating</th>\n",
              "      <th>imdb_votes</th>\n",
              "      <th>movie_id</th>\n",
              "      <th>movie_year_netflix</th>\n",
              "      <th>rated</th>\n",
              "      <th>runtime</th>\n",
              "      <th>Documentary</th>\n",
              "      <th>Crime</th>\n",
              "      <th>Musical</th>\n",
              "      <th>Sci-Fi</th>\n",
              "      <th>Comedy</th>\n",
              "      <th>Talk-Show</th>\n",
              "      <th>History</th>\n",
              "      <th>Game-Show</th>\n",
              "      <th>Music</th>\n",
              "      <th>Short</th>\n",
              "      <th>Reality-TV</th>\n",
              "      <th>News</th>\n",
              "      <th>Adult</th>\n",
              "      <th>Family</th>\n",
              "      <th>Biography</th>\n",
              "      <th>Western</th>\n",
              "      <th>War</th>\n",
              "      <th>Horror</th>\n",
              "      <th>Sport</th>\n",
              "      <th>Adventure</th>\n",
              "      <th>Romance</th>\n",
              "      <th>Action</th>\n",
              "      <th>Thriller</th>\n",
              "      <th>Drama</th>\n",
              "      <th>Film-Noir</th>\n",
              "      <th>Fantasy</th>\n",
              "      <th>Animation</th>\n",
              "      <th>Mystery</th>\n",
              "      <th>Primetime Emmy Won</th>\n",
              "      <th>Primetime Emmy Nomination</th>\n",
              "      <th>Oscar Won</th>\n",
              "      <th>Oscar Nomination</th>\n",
              "      <th>Golden Globe Won</th>\n",
              "      <th>Golden Globe Nomination</th>\n",
              "      <th>BAFTA Film Award Won</th>\n",
              "      <th>BAFTA Film Award Nomination</th>\n",
              "      <th>Other wins</th>\n",
              "      <th>Other nominations</th>\n",
              "      <th>Rating</th>\n",
              "    </tr>\n",
              "  </thead>\n",
              "  <tbody>\n",
              "    <tr>\n",
              "      <th>0</th>\n",
              "      <td>7.7</td>\n",
              "      <td>410</td>\n",
              "      <td>1</td>\n",
              "      <td>2003.0</td>\n",
              "      <td>NaN</td>\n",
              "      <td>50 min</td>\n",
              "      <td>True</td>\n",
              "      <td>False</td>\n",
              "      <td>False</td>\n",
              "      <td>False</td>\n",
              "      <td>False</td>\n",
              "      <td>False</td>\n",
              "      <td>False</td>\n",
              "      <td>False</td>\n",
              "      <td>False</td>\n",
              "      <td>False</td>\n",
              "      <td>False</td>\n",
              "      <td>False</td>\n",
              "      <td>False</td>\n",
              "      <td>True</td>\n",
              "      <td>False</td>\n",
              "      <td>False</td>\n",
              "      <td>False</td>\n",
              "      <td>False</td>\n",
              "      <td>False</td>\n",
              "      <td>False</td>\n",
              "      <td>False</td>\n",
              "      <td>False</td>\n",
              "      <td>False</td>\n",
              "      <td>False</td>\n",
              "      <td>False</td>\n",
              "      <td>False</td>\n",
              "      <td>True</td>\n",
              "      <td>False</td>\n",
              "      <td>2</td>\n",
              "      <td>0</td>\n",
              "      <td>0</td>\n",
              "      <td>0</td>\n",
              "      <td>0</td>\n",
              "      <td>0</td>\n",
              "      <td>0</td>\n",
              "      <td>0</td>\n",
              "      <td>0</td>\n",
              "      <td>4</td>\n",
              "      <td>3.749543</td>\n",
              "    </tr>\n",
              "    <tr>\n",
              "      <th>1</th>\n",
              "      <td>7.7</td>\n",
              "      <td>10,015</td>\n",
              "      <td>3</td>\n",
              "      <td>1997.0</td>\n",
              "      <td>R</td>\n",
              "      <td>122 min</td>\n",
              "      <td>False</td>\n",
              "      <td>True</td>\n",
              "      <td>False</td>\n",
              "      <td>False</td>\n",
              "      <td>False</td>\n",
              "      <td>False</td>\n",
              "      <td>False</td>\n",
              "      <td>False</td>\n",
              "      <td>False</td>\n",
              "      <td>False</td>\n",
              "      <td>False</td>\n",
              "      <td>False</td>\n",
              "      <td>False</td>\n",
              "      <td>False</td>\n",
              "      <td>False</td>\n",
              "      <td>False</td>\n",
              "      <td>False</td>\n",
              "      <td>False</td>\n",
              "      <td>False</td>\n",
              "      <td>False</td>\n",
              "      <td>False</td>\n",
              "      <td>False</td>\n",
              "      <td>False</td>\n",
              "      <td>True</td>\n",
              "      <td>False</td>\n",
              "      <td>False</td>\n",
              "      <td>False</td>\n",
              "      <td>True</td>\n",
              "      <td>0</td>\n",
              "      <td>0</td>\n",
              "      <td>1</td>\n",
              "      <td>0</td>\n",
              "      <td>0</td>\n",
              "      <td>0</td>\n",
              "      <td>0</td>\n",
              "      <td>0</td>\n",
              "      <td>16</td>\n",
              "      <td>6</td>\n",
              "      <td>3.641153</td>\n",
              "    </tr>\n",
              "    <tr>\n",
              "      <th>2</th>\n",
              "      <td>6.2</td>\n",
              "      <td>39</td>\n",
              "      <td>6</td>\n",
              "      <td>1997.0</td>\n",
              "      <td>NaN</td>\n",
              "      <td>15 min</td>\n",
              "      <td>False</td>\n",
              "      <td>False</td>\n",
              "      <td>False</td>\n",
              "      <td>False</td>\n",
              "      <td>False</td>\n",
              "      <td>False</td>\n",
              "      <td>False</td>\n",
              "      <td>False</td>\n",
              "      <td>False</td>\n",
              "      <td>True</td>\n",
              "      <td>False</td>\n",
              "      <td>False</td>\n",
              "      <td>False</td>\n",
              "      <td>False</td>\n",
              "      <td>False</td>\n",
              "      <td>False</td>\n",
              "      <td>False</td>\n",
              "      <td>False</td>\n",
              "      <td>False</td>\n",
              "      <td>False</td>\n",
              "      <td>False</td>\n",
              "      <td>False</td>\n",
              "      <td>False</td>\n",
              "      <td>True</td>\n",
              "      <td>False</td>\n",
              "      <td>False</td>\n",
              "      <td>False</td>\n",
              "      <td>False</td>\n",
              "      <td>0</td>\n",
              "      <td>0</td>\n",
              "      <td>0</td>\n",
              "      <td>0</td>\n",
              "      <td>0</td>\n",
              "      <td>0</td>\n",
              "      <td>0</td>\n",
              "      <td>0</td>\n",
              "      <td>14</td>\n",
              "      <td>0</td>\n",
              "      <td>3.084396</td>\n",
              "    </tr>\n",
              "    <tr>\n",
              "      <th>3</th>\n",
              "      <td>5.0</td>\n",
              "      <td>62</td>\n",
              "      <td>7</td>\n",
              "      <td>1992.0</td>\n",
              "      <td>NaN</td>\n",
              "      <td>83 min</td>\n",
              "      <td>False</td>\n",
              "      <td>False</td>\n",
              "      <td>False</td>\n",
              "      <td>True</td>\n",
              "      <td>False</td>\n",
              "      <td>False</td>\n",
              "      <td>False</td>\n",
              "      <td>False</td>\n",
              "      <td>False</td>\n",
              "      <td>False</td>\n",
              "      <td>False</td>\n",
              "      <td>False</td>\n",
              "      <td>False</td>\n",
              "      <td>False</td>\n",
              "      <td>False</td>\n",
              "      <td>False</td>\n",
              "      <td>False</td>\n",
              "      <td>False</td>\n",
              "      <td>False</td>\n",
              "      <td>False</td>\n",
              "      <td>False</td>\n",
              "      <td>True</td>\n",
              "      <td>False</td>\n",
              "      <td>False</td>\n",
              "      <td>False</td>\n",
              "      <td>False</td>\n",
              "      <td>False</td>\n",
              "      <td>False</td>\n",
              "      <td>0</td>\n",
              "      <td>0</td>\n",
              "      <td>0</td>\n",
              "      <td>0</td>\n",
              "      <td>0</td>\n",
              "      <td>0</td>\n",
              "      <td>0</td>\n",
              "      <td>0</td>\n",
              "      <td>0</td>\n",
              "      <td>0</td>\n",
              "      <td>2.129032</td>\n",
              "    </tr>\n",
              "    <tr>\n",
              "      <th>4</th>\n",
              "      <td>6.5</td>\n",
              "      <td>1,394</td>\n",
              "      <td>10</td>\n",
              "      <td>2001.0</td>\n",
              "      <td>NaN</td>\n",
              "      <td>100 min</td>\n",
              "      <td>False</td>\n",
              "      <td>False</td>\n",
              "      <td>False</td>\n",
              "      <td>False</td>\n",
              "      <td>False</td>\n",
              "      <td>False</td>\n",
              "      <td>False</td>\n",
              "      <td>False</td>\n",
              "      <td>False</td>\n",
              "      <td>False</td>\n",
              "      <td>False</td>\n",
              "      <td>False</td>\n",
              "      <td>False</td>\n",
              "      <td>False</td>\n",
              "      <td>False</td>\n",
              "      <td>False</td>\n",
              "      <td>False</td>\n",
              "      <td>False</td>\n",
              "      <td>False</td>\n",
              "      <td>False</td>\n",
              "      <td>False</td>\n",
              "      <td>True</td>\n",
              "      <td>False</td>\n",
              "      <td>True</td>\n",
              "      <td>False</td>\n",
              "      <td>False</td>\n",
              "      <td>False</td>\n",
              "      <td>False</td>\n",
              "      <td>0</td>\n",
              "      <td>0</td>\n",
              "      <td>0</td>\n",
              "      <td>0</td>\n",
              "      <td>0</td>\n",
              "      <td>0</td>\n",
              "      <td>0</td>\n",
              "      <td>0</td>\n",
              "      <td>1</td>\n",
              "      <td>4</td>\n",
              "      <td>3.180723</td>\n",
              "    </tr>\n",
              "  </tbody>\n",
              "</table>\n",
              "</div>"
            ],
            "text/plain": [
              "   imdb_rating imdb_votes  movie_id  ...  Other wins Other nominations    Rating\n",
              "0          7.7        410         1  ...           0                 4  3.749543\n",
              "1          7.7     10,015         3  ...          16                 6  3.641153\n",
              "2          6.2         39         6  ...          14                 0  3.084396\n",
              "3          5.0         62         7  ...           0                 0  2.129032\n",
              "4          6.5      1,394        10  ...           1                 4  3.180723\n",
              "\n",
              "[5 rows x 45 columns]"
            ]
          },
          "metadata": {
            "tags": []
          },
          "execution_count": 37
        }
      ]
    },
    {
      "cell_type": "code",
      "metadata": {
        "id": "21Ev6-UigazE",
        "colab_type": "code",
        "outputId": "d8f0518d-09a9-4535-d9df-0d14d1f7c93e",
        "colab": {
          "base_uri": "https://localhost:8080/",
          "height": 163
        }
      },
      "source": [
        "movie_list.shape"
      ],
      "execution_count": 0,
      "outputs": [
        {
          "output_type": "error",
          "ename": "NameError",
          "evalue": "ignored",
          "traceback": [
            "\u001b[0;31m---------------------------------------------------------------------------\u001b[0m",
            "\u001b[0;31mNameError\u001b[0m                                 Traceback (most recent call last)",
            "\u001b[0;32m<ipython-input-1-8b626248d308>\u001b[0m in \u001b[0;36m<module>\u001b[0;34m()\u001b[0m\n\u001b[0;32m----> 1\u001b[0;31m \u001b[0mmovie_list\u001b[0m\u001b[0;34m.\u001b[0m\u001b[0mshape\u001b[0m\u001b[0;34m\u001b[0m\u001b[0;34m\u001b[0m\u001b[0m\n\u001b[0m",
            "\u001b[0;31mNameError\u001b[0m: name 'movie_list' is not defined"
          ]
        }
      ]
    },
    {
      "cell_type": "code",
      "metadata": {
        "id": "-5RBYTWegkVe",
        "colab_type": "code",
        "colab": {}
      },
      "source": [
        "movie_list.to_csv('/content/gdrive/My Drive/Reccommendation System/feature_selection_df.csv')"
      ],
      "execution_count": 0,
      "outputs": []
    },
    {
      "cell_type": "code",
      "metadata": {
        "id": "X3E47KgIoUfA",
        "colab_type": "code",
        "colab": {}
      },
      "source": [
        "movie_list=pd.read_csv('/content/gdrive/My Drive/Reccommendation System/feature_selection_df.csv')\n",
        "movie_list['rated']=movie_list['rated'].fillna(movie_list['rated'].value_counts().idxmax()) "
      ],
      "execution_count": 0,
      "outputs": []
    },
    {
      "cell_type": "code",
      "metadata": {
        "id": "7mtk-5pkrmRQ",
        "colab_type": "code",
        "outputId": "8bf1b09f-93d9-4002-ab2b-a15eec1d6bfc",
        "colab": {
          "base_uri": "https://localhost:8080/",
          "height": 816
        }
      },
      "source": [
        "movie_list.head()\n",
        "movie_list.isnull().any()"
      ],
      "execution_count": 0,
      "outputs": [
        {
          "output_type": "execute_result",
          "data": {
            "text/plain": [
              "Unnamed: 0                     False\n",
              "imdb_rating                     True\n",
              "imdb_votes                      True\n",
              "movie_id                       False\n",
              "movie_year_netflix              True\n",
              "rated                          False\n",
              "runtime                         True\n",
              "Documentary                    False\n",
              "Crime                          False\n",
              "Musical                        False\n",
              "Sci-Fi                         False\n",
              "Comedy                         False\n",
              "Talk-Show                      False\n",
              "History                        False\n",
              "Game-Show                      False\n",
              "Music                          False\n",
              "Short                          False\n",
              "Reality-TV                     False\n",
              "News                           False\n",
              "Adult                          False\n",
              "Family                         False\n",
              "Biography                      False\n",
              "Western                        False\n",
              "War                            False\n",
              "Horror                         False\n",
              "Sport                          False\n",
              "Adventure                      False\n",
              "Romance                        False\n",
              "Action                         False\n",
              "Thriller                       False\n",
              "Drama                          False\n",
              "Film-Noir                      False\n",
              "Fantasy                        False\n",
              "Animation                      False\n",
              "Mystery                        False\n",
              "Primetime Emmy Won             False\n",
              "Primetime Emmy Nomination      False\n",
              "Oscar Won                      False\n",
              "Oscar Nomination               False\n",
              "Golden Globe Won               False\n",
              "Golden Globe Nomination        False\n",
              "BAFTA Film Award Won           False\n",
              "BAFTA Film Award Nomination    False\n",
              "Other wins                     False\n",
              "Other nominations              False\n",
              "Rating                         False\n",
              "dtype: bool"
            ]
          },
          "metadata": {
            "tags": []
          },
          "execution_count": 11
        }
      ]
    },
    {
      "cell_type": "code",
      "metadata": {
        "id": "f26SFU_lw5Cp",
        "colab_type": "code",
        "colab": {}
      },
      "source": [
        "movie_list.to_csv('/content/gdrive/My Drive/Reccommendation System/feature_selection_df.csv')"
      ],
      "execution_count": 0,
      "outputs": []
    },
    {
      "cell_type": "code",
      "metadata": {
        "id": "4BM_wk3Vs-d4",
        "colab_type": "code",
        "colab": {}
      },
      "source": [
        "movie_list=pd.read_csv('/content/gdrive/My Drive/Reccommendation System/feature_selection_df.csv')"
      ],
      "execution_count": 0,
      "outputs": []
    },
    {
      "cell_type": "code",
      "metadata": {
        "id": "8o1QtPgMtBoi",
        "colab_type": "code",
        "outputId": "39b3daf3-dc32-4a82-af38-5007fd88deae",
        "colab": {
          "base_uri": "https://localhost:8080/",
          "height": 275
        }
      },
      "source": [
        "movie_list.head()"
      ],
      "execution_count": 0,
      "outputs": [
        {
          "output_type": "execute_result",
          "data": {
            "text/html": [
              "<div>\n",
              "<style scoped>\n",
              "    .dataframe tbody tr th:only-of-type {\n",
              "        vertical-align: middle;\n",
              "    }\n",
              "\n",
              "    .dataframe tbody tr th {\n",
              "        vertical-align: top;\n",
              "    }\n",
              "\n",
              "    .dataframe thead th {\n",
              "        text-align: right;\n",
              "    }\n",
              "</style>\n",
              "<table border=\"1\" class=\"dataframe\">\n",
              "  <thead>\n",
              "    <tr style=\"text-align: right;\">\n",
              "      <th></th>\n",
              "      <th>Unnamed: 0</th>\n",
              "      <th>Unnamed: 0.1</th>\n",
              "      <th>imdb_rating</th>\n",
              "      <th>imdb_votes</th>\n",
              "      <th>movie_id</th>\n",
              "      <th>movie_year_netflix</th>\n",
              "      <th>rated</th>\n",
              "      <th>runtime</th>\n",
              "      <th>Documentary</th>\n",
              "      <th>Crime</th>\n",
              "      <th>Musical</th>\n",
              "      <th>Sci-Fi</th>\n",
              "      <th>Comedy</th>\n",
              "      <th>Talk-Show</th>\n",
              "      <th>History</th>\n",
              "      <th>Game-Show</th>\n",
              "      <th>Music</th>\n",
              "      <th>Short</th>\n",
              "      <th>Reality-TV</th>\n",
              "      <th>News</th>\n",
              "      <th>Adult</th>\n",
              "      <th>Family</th>\n",
              "      <th>Biography</th>\n",
              "      <th>Western</th>\n",
              "      <th>War</th>\n",
              "      <th>Horror</th>\n",
              "      <th>Sport</th>\n",
              "      <th>Adventure</th>\n",
              "      <th>Romance</th>\n",
              "      <th>Action</th>\n",
              "      <th>Thriller</th>\n",
              "      <th>Drama</th>\n",
              "      <th>Film-Noir</th>\n",
              "      <th>Fantasy</th>\n",
              "      <th>Animation</th>\n",
              "      <th>Mystery</th>\n",
              "      <th>Primetime Emmy Won</th>\n",
              "      <th>Primetime Emmy Nomination</th>\n",
              "      <th>Oscar Won</th>\n",
              "      <th>Oscar Nomination</th>\n",
              "      <th>Golden Globe Won</th>\n",
              "      <th>Golden Globe Nomination</th>\n",
              "      <th>BAFTA Film Award Won</th>\n",
              "      <th>BAFTA Film Award Nomination</th>\n",
              "      <th>Other wins</th>\n",
              "      <th>Other nominations</th>\n",
              "      <th>Rating</th>\n",
              "    </tr>\n",
              "  </thead>\n",
              "  <tbody>\n",
              "    <tr>\n",
              "      <th>0</th>\n",
              "      <td>0</td>\n",
              "      <td>0</td>\n",
              "      <td>7.7</td>\n",
              "      <td>410</td>\n",
              "      <td>1</td>\n",
              "      <td>2003.0</td>\n",
              "      <td>R</td>\n",
              "      <td>50 min</td>\n",
              "      <td>True</td>\n",
              "      <td>False</td>\n",
              "      <td>False</td>\n",
              "      <td>False</td>\n",
              "      <td>False</td>\n",
              "      <td>False</td>\n",
              "      <td>False</td>\n",
              "      <td>False</td>\n",
              "      <td>False</td>\n",
              "      <td>False</td>\n",
              "      <td>False</td>\n",
              "      <td>False</td>\n",
              "      <td>False</td>\n",
              "      <td>True</td>\n",
              "      <td>False</td>\n",
              "      <td>False</td>\n",
              "      <td>False</td>\n",
              "      <td>False</td>\n",
              "      <td>False</td>\n",
              "      <td>False</td>\n",
              "      <td>False</td>\n",
              "      <td>False</td>\n",
              "      <td>False</td>\n",
              "      <td>False</td>\n",
              "      <td>False</td>\n",
              "      <td>False</td>\n",
              "      <td>True</td>\n",
              "      <td>False</td>\n",
              "      <td>2</td>\n",
              "      <td>0</td>\n",
              "      <td>0</td>\n",
              "      <td>0</td>\n",
              "      <td>0</td>\n",
              "      <td>0</td>\n",
              "      <td>0</td>\n",
              "      <td>0</td>\n",
              "      <td>0</td>\n",
              "      <td>4</td>\n",
              "      <td>3.749543</td>\n",
              "    </tr>\n",
              "    <tr>\n",
              "      <th>1</th>\n",
              "      <td>1</td>\n",
              "      <td>1</td>\n",
              "      <td>7.7</td>\n",
              "      <td>10,015</td>\n",
              "      <td>3</td>\n",
              "      <td>1997.0</td>\n",
              "      <td>R</td>\n",
              "      <td>122 min</td>\n",
              "      <td>False</td>\n",
              "      <td>True</td>\n",
              "      <td>False</td>\n",
              "      <td>False</td>\n",
              "      <td>False</td>\n",
              "      <td>False</td>\n",
              "      <td>False</td>\n",
              "      <td>False</td>\n",
              "      <td>False</td>\n",
              "      <td>False</td>\n",
              "      <td>False</td>\n",
              "      <td>False</td>\n",
              "      <td>False</td>\n",
              "      <td>False</td>\n",
              "      <td>False</td>\n",
              "      <td>False</td>\n",
              "      <td>False</td>\n",
              "      <td>False</td>\n",
              "      <td>False</td>\n",
              "      <td>False</td>\n",
              "      <td>False</td>\n",
              "      <td>False</td>\n",
              "      <td>False</td>\n",
              "      <td>True</td>\n",
              "      <td>False</td>\n",
              "      <td>False</td>\n",
              "      <td>False</td>\n",
              "      <td>True</td>\n",
              "      <td>0</td>\n",
              "      <td>0</td>\n",
              "      <td>1</td>\n",
              "      <td>0</td>\n",
              "      <td>0</td>\n",
              "      <td>0</td>\n",
              "      <td>0</td>\n",
              "      <td>0</td>\n",
              "      <td>16</td>\n",
              "      <td>6</td>\n",
              "      <td>3.641153</td>\n",
              "    </tr>\n",
              "    <tr>\n",
              "      <th>2</th>\n",
              "      <td>2</td>\n",
              "      <td>2</td>\n",
              "      <td>6.2</td>\n",
              "      <td>39</td>\n",
              "      <td>6</td>\n",
              "      <td>1997.0</td>\n",
              "      <td>R</td>\n",
              "      <td>15 min</td>\n",
              "      <td>False</td>\n",
              "      <td>False</td>\n",
              "      <td>False</td>\n",
              "      <td>False</td>\n",
              "      <td>False</td>\n",
              "      <td>False</td>\n",
              "      <td>False</td>\n",
              "      <td>False</td>\n",
              "      <td>False</td>\n",
              "      <td>True</td>\n",
              "      <td>False</td>\n",
              "      <td>False</td>\n",
              "      <td>False</td>\n",
              "      <td>False</td>\n",
              "      <td>False</td>\n",
              "      <td>False</td>\n",
              "      <td>False</td>\n",
              "      <td>False</td>\n",
              "      <td>False</td>\n",
              "      <td>False</td>\n",
              "      <td>False</td>\n",
              "      <td>False</td>\n",
              "      <td>False</td>\n",
              "      <td>True</td>\n",
              "      <td>False</td>\n",
              "      <td>False</td>\n",
              "      <td>False</td>\n",
              "      <td>False</td>\n",
              "      <td>0</td>\n",
              "      <td>0</td>\n",
              "      <td>0</td>\n",
              "      <td>0</td>\n",
              "      <td>0</td>\n",
              "      <td>0</td>\n",
              "      <td>0</td>\n",
              "      <td>0</td>\n",
              "      <td>14</td>\n",
              "      <td>0</td>\n",
              "      <td>3.084396</td>\n",
              "    </tr>\n",
              "    <tr>\n",
              "      <th>3</th>\n",
              "      <td>3</td>\n",
              "      <td>3</td>\n",
              "      <td>5.0</td>\n",
              "      <td>62</td>\n",
              "      <td>7</td>\n",
              "      <td>1992.0</td>\n",
              "      <td>R</td>\n",
              "      <td>83 min</td>\n",
              "      <td>False</td>\n",
              "      <td>False</td>\n",
              "      <td>False</td>\n",
              "      <td>True</td>\n",
              "      <td>False</td>\n",
              "      <td>False</td>\n",
              "      <td>False</td>\n",
              "      <td>False</td>\n",
              "      <td>False</td>\n",
              "      <td>False</td>\n",
              "      <td>False</td>\n",
              "      <td>False</td>\n",
              "      <td>False</td>\n",
              "      <td>False</td>\n",
              "      <td>False</td>\n",
              "      <td>False</td>\n",
              "      <td>False</td>\n",
              "      <td>False</td>\n",
              "      <td>False</td>\n",
              "      <td>False</td>\n",
              "      <td>False</td>\n",
              "      <td>True</td>\n",
              "      <td>False</td>\n",
              "      <td>False</td>\n",
              "      <td>False</td>\n",
              "      <td>False</td>\n",
              "      <td>False</td>\n",
              "      <td>False</td>\n",
              "      <td>0</td>\n",
              "      <td>0</td>\n",
              "      <td>0</td>\n",
              "      <td>0</td>\n",
              "      <td>0</td>\n",
              "      <td>0</td>\n",
              "      <td>0</td>\n",
              "      <td>0</td>\n",
              "      <td>0</td>\n",
              "      <td>0</td>\n",
              "      <td>2.129032</td>\n",
              "    </tr>\n",
              "    <tr>\n",
              "      <th>4</th>\n",
              "      <td>4</td>\n",
              "      <td>4</td>\n",
              "      <td>6.5</td>\n",
              "      <td>1,394</td>\n",
              "      <td>10</td>\n",
              "      <td>2001.0</td>\n",
              "      <td>R</td>\n",
              "      <td>100 min</td>\n",
              "      <td>False</td>\n",
              "      <td>False</td>\n",
              "      <td>False</td>\n",
              "      <td>False</td>\n",
              "      <td>False</td>\n",
              "      <td>False</td>\n",
              "      <td>False</td>\n",
              "      <td>False</td>\n",
              "      <td>False</td>\n",
              "      <td>False</td>\n",
              "      <td>False</td>\n",
              "      <td>False</td>\n",
              "      <td>False</td>\n",
              "      <td>False</td>\n",
              "      <td>False</td>\n",
              "      <td>False</td>\n",
              "      <td>False</td>\n",
              "      <td>False</td>\n",
              "      <td>False</td>\n",
              "      <td>False</td>\n",
              "      <td>False</td>\n",
              "      <td>True</td>\n",
              "      <td>False</td>\n",
              "      <td>True</td>\n",
              "      <td>False</td>\n",
              "      <td>False</td>\n",
              "      <td>False</td>\n",
              "      <td>False</td>\n",
              "      <td>0</td>\n",
              "      <td>0</td>\n",
              "      <td>0</td>\n",
              "      <td>0</td>\n",
              "      <td>0</td>\n",
              "      <td>0</td>\n",
              "      <td>0</td>\n",
              "      <td>0</td>\n",
              "      <td>1</td>\n",
              "      <td>4</td>\n",
              "      <td>3.180723</td>\n",
              "    </tr>\n",
              "  </tbody>\n",
              "</table>\n",
              "</div>"
            ],
            "text/plain": [
              "   Unnamed: 0  Unnamed: 0.1  ...  Other nominations    Rating\n",
              "0           0             0  ...                  4  3.749543\n",
              "1           1             1  ...                  6  3.641153\n",
              "2           2             2  ...                  0  3.084396\n",
              "3           3             3  ...                  0  2.129032\n",
              "4           4             4  ...                  4  3.180723\n",
              "\n",
              "[5 rows x 47 columns]"
            ]
          },
          "metadata": {
            "tags": []
          },
          "execution_count": 45
        }
      ]
    },
    {
      "cell_type": "code",
      "metadata": {
        "id": "3qgfQRJmuxUu",
        "colab_type": "code",
        "outputId": "61ab24c8-e96d-4a98-8de0-ac7782ea901d",
        "colab": {
          "base_uri": "https://localhost:8080/",
          "height": 34
        }
      },
      "source": [
        "flag=0\n",
        "for i in range(2,12):\n",
        "  if flag==0:\n",
        "    arr=movie_list.iloc[:,-i].values\n",
        "    flag=1\n",
        "  else:\n",
        "    arr+=movie_list.iloc[:,-i].values\n",
        "\n",
        "\n",
        "print(arr)"
      ],
      "execution_count": 0,
      "outputs": [
        {
          "output_type": "stream",
          "text": [
            "[ 6 23 14 ... 16  0  6]\n"
          ],
          "name": "stdout"
        }
      ]
    },
    {
      "cell_type": "code",
      "metadata": {
        "id": "cf8SGrjVx5tB",
        "colab_type": "code",
        "colab": {}
      },
      "source": [
        "movie_list['Other Nominations']=arr"
      ],
      "execution_count": 0,
      "outputs": []
    },
    {
      "cell_type": "code",
      "metadata": {
        "id": "oAcqbWbtyO2d",
        "colab_type": "code",
        "outputId": "52499b54-916d-48e3-c160-a35fdc8996d9",
        "colab": {
          "base_uri": "https://localhost:8080/",
          "height": 221
        }
      },
      "source": [
        "movie_list['Other Nominations']"
      ],
      "execution_count": 0,
      "outputs": [
        {
          "output_type": "execute_result",
          "data": {
            "text/plain": [
              "0         6\n",
              "1        23\n",
              "2        14\n",
              "3         0\n",
              "4         5\n",
              "         ..\n",
              "12573    19\n",
              "12574     0\n",
              "12575    16\n",
              "12576     0\n",
              "12577     6\n",
              "Name: Other Nominations, Length: 12578, dtype: int64"
            ]
          },
          "metadata": {
            "tags": []
          },
          "execution_count": 12
        }
      ]
    },
    {
      "cell_type": "code",
      "metadata": {
        "id": "ENHgE95Axqe0",
        "colab_type": "code",
        "outputId": "aeddcf71-d86e-43a1-cf1c-2f4da67c22aa",
        "colab": {
          "base_uri": "https://localhost:8080/",
          "height": 34
        }
      },
      "source": [
        "movie_list['imdb_rating']=movie_list['imdb_rating'].fillna(movie_list['imdb_rating'].mean())\n",
        "movie_list['Rating'].corr(movie_list['imdb_rating'])\n",
        "#movie_list['Rating'].corr(movie_list['imdb_votes'])"
      ],
      "execution_count": 0,
      "outputs": [
        {
          "output_type": "execute_result",
          "data": {
            "text/plain": [
              "0.6519311348045352"
            ]
          },
          "metadata": {
            "tags": []
          },
          "execution_count": 81
        }
      ]
    },
    {
      "cell_type": "code",
      "metadata": {
        "id": "xawXzpYY3Sll",
        "colab_type": "code",
        "colab": {}
      },
      "source": [
        ""
      ],
      "execution_count": 0,
      "outputs": []
    },
    {
      "cell_type": "code",
      "metadata": {
        "id": "sE5ow2FG0Oox",
        "colab_type": "code",
        "colab": {}
      },
      "source": [
        "import numpy as np\n",
        "ls=[]\n",
        "arr=movie_list['imdb_votes'].values\n",
        "for x in arr:\n",
        "  if not pd.isnull(x):\n",
        "    if isinstance(x,str) and ',' in x:\n",
        "      x=x.replace(',','')\n",
        "      ls.append(int(x))\n",
        "    else:\n",
        "      ls.append((int(x)))\n",
        "  else:\n",
        "    ls.append(x)\n",
        "\n"
      ],
      "execution_count": 0,
      "outputs": []
    },
    {
      "cell_type": "code",
      "metadata": {
        "id": "LRBhxxzYA8MA",
        "colab_type": "code",
        "outputId": "5d6f458c-a003-429b-c3bc-91db09816eb0",
        "colab": {
          "base_uri": "https://localhost:8080/",
          "height": 34
        }
      },
      "source": [
        "print(len(ls))"
      ],
      "execution_count": 0,
      "outputs": [
        {
          "output_type": "stream",
          "text": [
            "12578\n"
          ],
          "name": "stdout"
        }
      ]
    },
    {
      "cell_type": "code",
      "metadata": {
        "id": "5Wza5-vkBi0e",
        "colab_type": "code",
        "colab": {}
      },
      "source": [
        "movie_list['imdb_votes']=np.array(ls)"
      ],
      "execution_count": 0,
      "outputs": []
    },
    {
      "cell_type": "code",
      "metadata": {
        "id": "IGMErW755WwL",
        "colab_type": "code",
        "colab": {}
      },
      "source": [
        "movie_list['imdb_votes']=movie_list['imdb_votes'].fillna(movie_list['imdb_votes'].mean())"
      ],
      "execution_count": 0,
      "outputs": []
    },
    {
      "cell_type": "code",
      "metadata": {
        "id": "ZuD9dEWWBxXW",
        "colab_type": "code",
        "outputId": "440c0478-b361-4d46-aa4e-ef2962258255",
        "colab": {
          "base_uri": "https://localhost:8080/",
          "height": 34
        }
      },
      "source": [
        "movie_list['Rating'].corr(movie_list['imdb_votes'])"
      ],
      "execution_count": 0,
      "outputs": [
        {
          "output_type": "execute_result",
          "data": {
            "text/plain": [
              "0.25091521674289924"
            ]
          },
          "metadata": {
            "tags": []
          },
          "execution_count": 80
        }
      ]
    },
    {
      "cell_type": "code",
      "metadata": {
        "id": "G5W07wvDCUKW",
        "colab_type": "code",
        "outputId": "14cd4aa8-8646-4700-f007-71b4f66a1dd5",
        "colab": {
          "base_uri": "https://localhost:8080/",
          "height": 34
        }
      },
      "source": [
        "movie_list['runtime'].isnull().any()"
      ],
      "execution_count": 0,
      "outputs": [
        {
          "output_type": "execute_result",
          "data": {
            "text/plain": [
              "True"
            ]
          },
          "metadata": {
            "tags": []
          },
          "execution_count": 61
        }
      ]
    },
    {
      "cell_type": "code",
      "metadata": {
        "id": "8emqGQSeCa0V",
        "colab_type": "code",
        "colab": {}
      },
      "source": [
        "import numpy as np\n",
        "ls=[]\n",
        "arr=movie_list['runtime'].values\n",
        "for x in arr:\n",
        "  if not pd.isnull(x):\n",
        "      if 'h' in x:\n",
        "        temp=x.split()\n",
        "        if len(temp)>2:\n",
        "          ls.append(int(temp[0])*60+int(temp[2]))\n",
        "        else:\n",
        "          ls.append(int(temp[0])*60)\n",
        "      else:\n",
        "        x=x.replace(' min','')\n",
        "        if ',' in x:\n",
        "          x=x.replace(',','')\n",
        "          ls.append(int(x))\n",
        "        else:\n",
        "          ls.append(int(x))\n",
        "  else:\n",
        "    ls.append(x)"
      ],
      "execution_count": 0,
      "outputs": []
    },
    {
      "cell_type": "code",
      "metadata": {
        "id": "_8AenhyjEx09",
        "colab_type": "code",
        "outputId": "e71a9481-3be4-4b27-be30-85255ef1335e",
        "colab": {
          "base_uri": "https://localhost:8080/",
          "height": 54
        }
      },
      "source": [
        "print(ls)\n",
        "movie_list['runtime']=np.array(ls)\n",
        "movie_list['runtime']=movie_list['runtime'].fillna(movie_list['runtime'].mean())"
      ],
      "execution_count": 0,
      "outputs": [
        {
          "output_type": "stream",
          "text": [
            "[50, 122, 15, 83, 100, 87, 60, 108, 96, 121, 100, 162, 120, 89, 101, 88, 118, 128, 58, 75, 168, 88, 55, 104, 88, nan, 117, 88, 47, 118, 120, 98, 92, 72, 86, 95, 145, 110, 103, 101, 114, 45, 106, 138, 107, 82, 24, 105, 97, 118, 105, 109, 89, 45, 97, 96, 131, 73, 24, 92, 109, 25, 88, 91, 102, 75, 90, nan, 109, 5, 80, 160, 108, 160, 106, 91, 43, 100, 99, 117, 96, 60, 150, 98, 86, 99, 104, 96, 94, 88, 95, 90, 72, 93, 93, 110, 91, 129, 108, 90, 95, 119, 97, 81, 97, 120, 92, 108, 110, 88, 232, 110, 101, 82, 134, 97, 85, 118, 103, 113, 130, 99, 91, 102, 88, 92, 93, 166, 96, 109, 91, 85, 125, 134, nan, 86, 120, 103, 173, 183, 188, 77, 95, 102, 112, 90, 108, 99, 95, 99, 91, 60, 90, 97, 115, 133, 108, 109, 100, 100, 103, 90, 137, 65, 114, 136, 87, 91, nan, 91, 116, 89, 113, 146, 77, 96, 105, 116, 97, 160, 86, 116, 95, 88, 103, 124, 42, 86, 113, 94, 89, 71, 75, 100, 100, 97, 88, 111, 93, 76, 143, 92, 100, 133, 90, 85, 85, 97, nan, 93, 90, 106, 113, 75, 144, 48, 127, 113, 123, 93, 114, 95, 86, 94, 76, 78, 91, 96, 113, 77, 130, 108, 113, 93, 95, 99, 91, 103, 65, 101, 25, nan, 122, 108, 239, 164, 116, 105, 27, 103, 110, 126, 122, 112, 90, 101, 110, 101, 97, 143, 112, 175, 98, 91, 139, 98, 106, 85, 91, 90, 94, 93, 104, 97, 84, 83, 116, 87, 127, 119, 85, 109, 94, 114, 96, 124, 111, 128, 113, 90, 102, 146, 106, 98, 149, 90, 81, 100, 79, 89, 128, 134, 417, 82, 89, 98, 30, 87, 178, 102, 117, 90, 105, 128, 94, 97, 133, 99, 110, 95, 105, 80, 137, 92, 107, 65, 82, 143, 88, 129, 96, 87, 103, 134, 170, 87, 60, 92, 61, 87, 58, 123, 90, 93, 106, 111, 104, 128, 110, 154, 155, 110, 117, nan, 105, 128, 112, 97, 88, 88, 83, 114, 90, 116, 84, 25, 91, 100, 112, 96, 107, 72, 109, 101, 95, 91, 103, 117, 137, 99, 180, nan, 91, 98, 72, 102, 100, 87, 134, 97, 108, 142, 99, 97, 112, 106, 143, 94, 82, 108, nan, 96, 89, 180, 98, 94, 122, 108, 117, 60, 110, 90, 97, 107, 80, 50, 108, 143, 84, nan, 101, 102, 98, 60, 113, 80, 50, 118, 60, 97, 116, 90, nan, 106, 114, 97, 78, 151, 89, 96, 88, 140, 103, nan, 114, 89, 103, 104, 175, 111, 109, 140, 182, 103, 88, 90, 105, 135, 91, 159, 90, 98, 170, 100, 70, 143, 110, 93, 92, 139, 82, 89, 112, 6, nan, nan, 14, 115, 97, 87, 98, 88, 32, 95, 83, 100, 101, 98, 93, 93, 240, 127, 33, 99, 110, 95, 90, 88, 101, 13, 30, 87, 120, nan, 102, 107, 104, 110, 130, 360, 132, 109, 93, 98, 105, 103, 97, 91, 103, 101, 24, 94, 82, 60, 95, 95, 87, 86, 116, 159, 60, 100, 109, 92, 101, 101, 90, 89, 30, 113, 81, 92, 90, 124, 24, 97, 18, 68, 87, 117, 87, 120, 95, 113, 84, 105, 132, 70, 107, 87, 105, 80, 96, 10, 96, 82, 95, 92, 112, 90, 105, 110, 91, 98, 124, 90, 96, 90, 83, 96, 94, 97, 108, 30, 105, 100, 102, 119, 104, 73, 96, 80, 135, 105, 105, 45, 95, 103, 90, 112, 129, 94, 100, 94, 99, 123, 112, 103, 60, 100, 81, 88, 126, 82, 118, 98, 99, 92, 94, 120, 102, 90, 90, 7, nan, 778, 207, 83, 125, 25, 98, 119, 88, 107, nan, 99, 152, 60, 102, 97, 142, 99, nan, 108, 124, 95, 80, 242, 30, 42, 97, 136, 125, 110, 237, 60, nan, 82, 76, 45, 98, 101, 22, 95, 79, 92, 101, nan, 91, 33, 107, 124, 112, 93, 85, 80, 60, 103, 77, 91, 102, 180, 137, 90, 88, 112, 113, 90, 92, 125, 130, 97, 122, 101, 30, 74, 99, 50, 52, 107, 97, 46, 101, 173, 87, 90, 86, 183, 93, 167, 124, 112, 95, 111, 111, 122, 134, 108, 92, 88, 110, 93, 97, 60, 94, nan, 54, 88, 95, 87, 167, 27, 91, 85, 77, 31, 109, 88, 170, 44, 91, 129, 95, 95, 129, 107, 50, 128, 94, 128, 82, 23, 24, 101, 170, 53, 99, 99, 105, 92, 103, 108, 100, 105, 85, 95, 108, 73, 86, 52, 83, 96, 99, 120, 136, 122, 86, 110, 118, 240, 99, 89, 96, 89, 30, 107, 96, 54, 80, 145, 132, 112, 116, 121, 110, 122, 127, 122, 120, 121, 104, 84, 109, 101, 23, 127, 97, 99, 85, 150, 100, 86, 120, 94, 56, 78, 97, 132, 107, 110, 77, 197, 150, 132, 97, 701, 93, 165, 86, 92, 130, 103, 115, 127, nan, 96, 104, 80, 12, 40, 99, 97, 95, 90, 112, 116, 105, 87, 106, 106, 94, 30, 101, 92, 106, 85, 112, 135, 111, 87, 102, 97, 98, 94, 95, 95, 99, 172, 93, 120, 98, 96, 111, 98, 92, 82, 123, 101, 93, 128, 37, 130, 86, 109, 116, 92, 146, 102, 132, 104, 104, 82, nan, 30, 135, 96, 115, 85, 93, 121, 83, 92, 105, 89, 94, 103, 103, 32, 97, 109, 118, 120, 88, 97, 93, 65, 88, 84, 81, 61, 87, 101, 143, 104, 109, nan, 111, 107, 50, nan, 97, 84, 103, 10, 81, 115, 115, 90, 104, 92, 110, 104, 93, 84, 120, 100, 117, 77, 70, 111, 50, 40, 127, 25, 168, 95, 91, 100, nan, 110, 119, 108, 5, 86, 41, 136, 75, 128, 118, 125, 90, 78, 95, 85, 96, 75, 84, 30, 94, nan, 194, 104, 116, 90, 136, 85, 87, 92, 110, 95, 95, 121, 77, 125, 120, 96, 99, 112, 55, 101, 87, 86, 91, 109, 103, nan, nan, 95, 108, 132, 121, 113, 23, nan, 113, 135, 90, 90, 142, 150, 89, 111, 90, 82, 52, 97, 118, 63, 110, 98, 114, 83, 96, 115, 137, 92, 138, 94, 82, 55, 45, 165, 103, 88, 115, 88, 45, 65, 119, 91, 100, 114, 83, 94, 23, nan, 111, 112, 90, 113, 145, 100, 102, 112, 80, 85, 85, 169, 90, 90, 101, 77, 127, 74, 89, 118, 104, 180, 111, 92, 151, 74, 81, 113, 113, 242, 30, 91, nan, 134, 85, 91, 101, 53, 100, 12, 99, 98, 95, 93, 98, 151, 114, 254, 124, 89, 178, 67, 105, 100, 90, 86, 95, 105, 90, 95, 90, 114, 126, 84, 93, 30, 80, 114, 104, 138, 96, 89, 96, 97, 108, 78, 110, 85, 82, 114, 100, 88, 142, 103, 101, 92, 72, 97, 133, 24, 110, 125, 87, 101, 93, 147, 78, 75, 107, 91, 140, 44, 113, 88, 108, 58, 110, 80, 98, 114, 124, nan, 101, 95, 99, 385, 129, 90, 98, 93, 103, 90, 106, 125, 83, 44, nan, 98, 103, 128, 95, 137, 30, 91, 88, 110, 84, 86, 103, 102, 89, 40, 94, 90, 40, nan, 120, nan, 112, 109, 85, 92, 90, 60, 96, 121, 96, 89, 81, 146, 118, 23, 384, 134, 105, 117, 50, 96, 91, 105, 87, 121, 110, 91, 78, 87, 106, 93, 140, 90, 80, 90, 119, 91, 137, 94, 30, 85, 94, 62, 50, 123, 91, 83, 97, 94, 113, 92, 105, 102, 88, 30, 100, 122, 180, 93, 114, 132, 125, 103, 187, 84, 220, 101, 91, 100, 93, 89, 94, 60, 115, 82, 104, 85, 127, 93, 84, 114, 109, 100, 90, 95, 109, 104, 97, 109, 224, 89, 91, 129, 110, 119, 131, 77, 126, 112, 103, nan, 93, 55, 140, 90, 60, 63, 95, 100, 88, 91, 77, 137, 111, 80, 112, 122, 105, 112, 104, 113, 90, 106, 120, 18, 107, 99, 6, 139, 136, 101, 98, 93, 108, 98, 127, 94, 77, 90, 60, 100, 117, 85, 131, 93, 95, 80, 112, 108, 180, 110, 90, 21, 156, 87, 105, 87, 117, 76, 132, 104, 143, 19, 390, 134, 90, 185, 107, 105, 114, 96, 136, 137, 83, 94, 87, 75, 132, 43, 89, 16, 114, 51, 112, 100, 85, 129, 103, 77, 113, 90, 110, 489, 96, 55, 92, 78, 90, 106, nan, 85, 95, 89, 90, 124, 91, 99, 124, 100, 97, 124, 92, 100, 91, nan, 112, 96, 63, 88, 101, 120, 106, 160, 158, 118, 97, 87, 106, 90, 93, 96, 91, 113, 117, 103, 129, 91, 91, 84, 106, 107, 93, 139, 118, 99, 97, 97, 90, 112, 114, 102, 24, 883, 140, 100, 118, 120, 109, 56, 105, 85, 85, 132, 10, 83, 106, 90, 118, 105, 110, 114, 93, 92, 160, 93, 92, 312, 100, 60, 92, 101, 94, 85, 119, 98, 86, 87, 105, 110, 107, 70, 104, 93, 90, 115, nan, 86, 95, 108, 103, 94, 105, 107, 97, 90, 60, 115, 90, 44, 98, 85, 98, 122, 113, 101, nan, 77, 25, 98, 114, 105, 92, 96, 130, 98, 89, 101, 119, 138, 84, 89, 27, 60, 90, 111, 110, 98, 127, 112, 108, 83, 92, 660, 90, 112, 121, 104, 220, 107, 71, 103, 110, 113, 30, 118, 107, 157, 101, 105, 116, 85, 97, 119, 95, 109, 126, 85, 146, 89, nan, 127, 102, 108, 15, nan, 28, 60, 109, 22, 101, 105, 60, nan, 98, 106, 92, 102, 106, 32, 110, 90, 107, nan, 108, 106, 89, nan, 109, 85, 193, 89, 71, 100, 127, 128, 101, 141, 82, 85, 89, 84, 87, 99, 82, 100, 151, 94, 100, 150, 80, 5, 93, 104, 100, 79, 100, 97, 60, 102, 93, 101, 132, 97, 105, 107, 97, 81, 128, 105, 108, 124, 79, 87, 104, 156, 111, 25, 80, 115, 90, 106, 100, 4, 24, 85, 30, 104, 89, 97, 87, 84, 150, 105, 102, 93, 106, 82, 93, 102, 106, 102, 86, 100, 91, 98, 8, 111, 104, 110, 81, 111, 30, 93, 91, 103, 127, 104, 158, 94, 88, 87, 113, 106, 108, 167, 110, 95, 116, 190, 110, 201, 116, 100, 89, 79, 115, 113, 100, 101, 82, 90, 111, 120, 108, 90, 52, 92, 93, 94, 106, 97, 300, 80, 95, 287, 175, 100, 60, 112, 110, 77, 94, 80, 60, nan, 90, 180, 93, 127, 86, 112, 89, 105, 128, 86, 120, 106, 117, 83, 178, 107, 85, 99, 95, 121, 84, 93, 90, 86, 82, nan, 104, 98, 94, 114, 103, 42, 87, 92, 113, 99, 80, 89, 104, 43, 65, 181, 102, 46, 98, 10, 101, 101, 69, 134, 102, 95, 103, 147, 5, 110, 93, 69, 95, 60, 95, 206, 82, 115, 119, 100, 128, 99, 90, 177, 45, 109, 138, 153, 45, 98, 97, 140, 3, 92, 93, nan, 91, 144, 134, 24, 104, 30, 100, 150, 85, 17, 101, 72, 89, 93, 97, 7, 99, 47, 102, nan, 125, 97, 72, 93, 63, 95, 168, 90, 95, 121, 25, 106, 93, 107, nan, 186, 100, 108, 118, 124, 90, 178, 186, 113, nan, 60, 98, 100, 91, 30, 111, 126, 99, 87, 99, 45, 103, 95, 89, 30, 89, 110, 108, 104, 96, 106, 92, 120, 118, 23, 83, 46, 108, 100, 89, 105, 93, 81, 95, 97, 140, 98, 80, 95, 93, 90, 95, 96, 219, 100, 99, 84, 102, 92, 104, 780, 94, 50, 96, 206, 60, 78, 544, 93, 120, 102, 90, 97, 137, 180, 90, 152, 93, 160, 91, 94, 82, 97, 65, 64, 92, 60, 85, 185, 94, 101, nan, 71, 240, 87, 128, 104, 177, 122, 75, 103, 98, 207, 150, 89, 44, 91, 86, 94, 93, 50, 113, 95, 96, 95, 62, 100, 112, 135, 177, 111, 110, 90, 93, 89, 51, 85, 91, 30, 100, nan, 178, 96, 132, 95, 118, 629, nan, 96, 90, 73, 133, 44, 82, 90, 91, 90, 108, 113, 327, 87, 90, 95, 105, 90, 91, 106, 88, nan, 157, 120, 4, 100, 83, 111, 99, 100, 117, 95, 100, 93, 102, 127, 108, 99, 116, 105, 97, 97, 91, 94, 134, nan, 113, 103, 89, 102, 106, 112, 60, 93, 118, 228, 126, 94, 93, 85, 137, 71, 56, 88, 97, 116, 100, 103, 115, 119, 121, 98, 106, 91, 125, 100, 80, 101, 30, 82, 175, 47, 131, 106, 128, 105, 116, 65, 115, 94, 30, 111, 102, 92, 106, 151, 105, 110, 96, 98, 110, 103, 88, 100, 103, 100, 72, 104, 157, 84, 85, 125, 97, 104, 170, 122, 101, 105, 30, 101, 127, 102, 92, 118, 84, 119, 104, 121, 90, 85, 107, 96, 158, 94, 98, 137, 86, 120, 60, 90, 85, nan, 88, 77, 111, 166, 95, 85, 97, 87, 100, 104, 30, 90, 110, 25, 100, 91, 97, 86, 146, 91, 53, 50, 121, 88, 62, 91, 95, 168, 117, 90, 97, 106, 107, 60, 183, 99, 109, 106, 30, 83, 97, 109, 115, 104, 114, 120, 89, 108, 80, 112, 103, 90, nan, 96, 97, 95, 85, 99, 30, 64, 108, 118, 87, nan, 103, 100, 103, 107, 97, 98, 90, 118, 180, 89, 75, 24, 98, 94, 120, 95, 24, 50, 95, 107, 80, 89, 90, 127, 88, 105, 71, 15, 106, 360, 108, 90, 210, 105, 135, 118, 140, 98, 194, 86, 106, 115, 90, 30, 157, 97, 92, 118, 89, 421, 113, 116, 82, 63, nan, 92, 112, 114, 100, 162, 120, 96, 102, 197, 95, 120, 108, 97, 100, 83, 108, 106, 110, 106, 108, 85, 101, 76, 109, 91, 86, 105, 101, 94, 140, 81, 110, nan, 30, 120, 99, 89, 111, 80, 89, 106, 90, 97, 98, 101, 87, 85, 93, 119, 140, 242, 95, 130, 96, 136, 96, 102, 119, 100, 250, 94, 96, 113, 92, 82, 67, 91, 97, 115, 144, 88, 75, 90, 21, 117, 105, 54, 100, 102, 88, 110, 91, 80, 111, 113, 110, 106, 95, 178, 106, 86, 127, 82, 72, 157, 60, 75, 127, 90, 90, 98, 202, 78, 85, 87, 96, 60, 54, 135, 93, 91, 100, 99, 96, 124, 93, 87, 116, 98, 100, 83, 110, 96, 77, 101, 100, 85, 99, 107, 94, 300, 82, 108, 87, 92, 95, 120, 60, 85, 97, 85, 143, 90, 112, 14, 94, 104, 94, 60, 112, 116, 86, 60, nan, 86, 128, 104, 125, 93, 100, 101, 118, 160, 104, 116, 124, 145, 98, 125, 300, 113, 100, 11, 86, 84, 97, 74, 90, 70, 94, 88, 90, 208, 106, 95, 101, 116, 90, 90, 81, 135, 106, 92, 107, 119, 122, 158, 92, 299, 88, 116, 23, 60, 118, 102, 119, 88, 104, 361, 114, 87, 95, 102, 125, 95, 88, 134, 120, 95, 95, 82, 104, 97, 97, 88, 90, nan, 92, 120, nan, 120, 108, 132, 46, 115, 104, 97, 101, 120, 98, 135, 87, 110, 91, 52, 109, 102, 76, 108, 135, 111, 88, 87, 117, 96, 101, 94, 91, 132, 110, 374, 91, 102, 108, 100, 92, 123, 198, 30, 90, 88, 130, 100, 60, 123, 112, 90, 178, 105, 135, 85, 50, 86, 60, 102, 85, 90, 96, 92, 101, 89, 104, 114, 100, 9, 100, 90, 88, 142, 133, 75, 101, 74, 97, 85, 95, 210, 107, 132, 118, 113, 92, 89, 96, 104, 86, 86, 96, 151, 108, 100, 92, 109, 237, 102, 96, 88, 118, 118, 121, 93, 84, 104, 81, 95, nan, 107, 154, 121, 135, 90, 90, 116, 95, 88, 68, 107, 91, 155, 94, 147, 89, nan, 133, 98, 80, 91, 117, 93, 116, 21, 91, 59, 116, 97, 84, 113, 85, 74, 96, 100, 113, 97, 185, 88, 60, 94, 127, 84, 112, 96, 360, 107, 92, 75, 96, 110, 93, 118, 40, 90, 77, 85, 95, 101, 22, 110, 60, 100, 82, 110, 110, 85, 98, 93, 108, 105, 103, 112, 90, 168, 98, 96, nan, 100, 101, 97, 117, 93, 57, 124, 168, nan, 118, 121, 142, 88, 100, 94, 75, 102, 94, 134, 112, nan, 101, 100, 96, 60, 125, 91, 87, 98, 129, 87, 91, 113, 93, 6, 94, 60, 81, 109, 98, 95, 103, 105, 100, 130, 115, 103, 104, 180, 114, 86, 48, 123, 95, 126, 129, nan, 108, 109, 87, 86, 106, 90, 98, 30, 86, 104, 89, 88, 116, 102, 95, 105, 118, 124, 124, 89, 94, 99, 89, 90, 104, 102, 101, 24, 102, 119, 98, 84, 77, 85, 90, 110, 32, 145, 81, 115, 101, 135, 90, 87, 140, 90, 131, 68, 59, 114, 83, 77, 126, 55, 40, 107, nan, 90, 102, 78, 69, 103, 95, 78, 89, 50, 129, 91, 103, 100, 101, 118, 154, 83, 91, 79, 104, 80, 88, 74, 44, 98, 88, 95, 102, nan, 97, 100, 88, 84, 138, 40, 89, 82, 86, 85, 122, 129, 93, 100, 104, 89, 88, 112, 115, 105, 84, 102, 129, 120, 98, 85, 75, 134, 93, 26, 118, 102, 73, 123, 171, nan, 83, 105, 60, 106, 78, 134, 115, 80, 106, 87, 114, 141, 55, 104, 99, 60, 88, 360, 115, 132, nan, 94, 104, 60, 86, nan, 133, 70, 87, 90, 97, 119, nan, 90, 40, 119, 100, 90, 99, 114, 25, 86, 105, 60, 50, 110, 106, 91, 120, 92, 103, 99, 57, 87, 119, 85, 97, 113, 181, 91, 9, 104, 114, 97, 111, 94, 145, 121, 90, 106, 100, 66, 151, 91, 97, 122, nan, 82, 52, 120, 97, 82, 93, 87, 80, 92, 84, nan, 120, 82, 87, 90, 97, 93, 98, 46, 101, 82, 13, 75, 94, 113, 103, 90, 115, 90, 115, 93, 88, 83, 91, 96, 48, 75, 108, 153, 104, 60, 133, 96, 121, 70, 94, 110, 168, 106, 69, 106, 130, 93, 60, 130, 100, 100, 121, 103, 132, 85, 102, 272, 90, nan, 90, 78, 70, 121, 96, 106, 107, 100, 106, 113, 96, 100, 94, 87, 96, 93, 22, 104, 96, 101, 116, 96, 96, 86, 86, 64, 120, 180, 105, 106, 168, 126, 92, 80, 106, 94, 90, 104, 91, 188, nan, 103, 106, 102, 94, 97, 102, 1, 125, 72, 93, 119, 139, 104, 118, 129, 66, 56, 270, 250, 106, 103, 112, 60, 105, 87, 44, 127, 109, 96, 85, 103, 109, 92, nan, 103, 91, 95, 108, 113, 89, 85, 112, 105, 95, 138, 87, 87, 91, 88, 106, 83, 98, 98, 101, 6, 82, 124, 90, 80, 107, 84, 100, 89, 237, 93, 92, 109, 101, 106, 102, 105, 111, 128, 97, 154, 88, 103, 104, nan, 92, 100, 90, 120, 92, 200, 92, 120, 92, 94, nan, 111, 92, 104, 95, 117, 30, 93, 121, 87, nan, 88, 94, 60, 102, 117, 25, 84, 78, 168, 94, 140, 95, 103, 140, 182, 101, 91, 141, 109, 93, 65, 81, 70, 325, 133, 104, 116, 91, 186, 130, 124, nan, 90, 100, 89, 30, 87, 94, 94, 111, nan, 120, 120, 68, 94, 96, 111, 86, 110, 88, 85, 137, 100, 92, 115, 87, 98, 46, 106, 157, nan, 98, 100, 75, 115, 104, 88, 93, 98, 91, 85, 85, 135, 82, 99, 86, 96, 124, nan, 82, 99, 91, 107, 101, 110, 99, 104, 92, 171, 123, 108, 93, 86, 113, 90, 116, 104, 115, 110, 148, 106, 109, 104, 89, 65, 105, 90, 101, nan, 99, 105, 45, 91, 82, 88, 61, 97, 93, 100, 94, 92, 152, 98, 129, 97, 3, 111, 175, 78, 71, 90, 18, 131, 106, 112, 108, 90, 120, 99, 113, 31, 88, 124, 84, 155, 153, nan, 87, 94, 70, 117, 114, 96, 112, 122, 86, 108, 85, 97, 100, 91, 101, 104, 24, 83, 90, 97, 101, 107, 105, 23, 75, 99, 145, 88, 94, 100, 90, 105, 76, 90, 88, 90, 115, 105, 108, 191, 91, 108, 104, 88, 98, 133, 95, 105, 112, 91, 95, 96, 88, nan, 114, 91, 95, 94, 111, 131, 106, 111, 88, 78, 106, 82, 79, 121, 106, 140, 93, 74, 82, 121, 97, 89, 167, 82, 101, 135, 85, 82, 96, 94, 102, 128, 117, 85, 111, 129, 71, 88, 104, 106, 22, 99, 91, 108, 50, 118, 104, 96, nan, 83, 113, 79, 192, 90, 92, 94, 109, 117, 84, 98, 66, 60, 125, 104, 94, 95, 72, 105, 104, 96, 86, 140, 93, 113, 126, 110, 97, 92, 95, 175, 99, 88, 87, 97, 119, 83, 87, 81, 115, 120, 87, 99, 105, 87, 100, 104, 88, 102, 88, 91, 106, 93, 180, 106, 109, 86, 94, 118, 176, 119, 120, 92, 90, 167, 150, 95, 102, 93, 90, 112, 75, 103, 106, 122, 99, 96, 93, 116, 120, 91, 97, 43, 85, 96, 128, 122, 126, 125, 105, 60, 99, 92, 148, 126, 103, 113, 95, 104, 81, 84, 133, 100, 93, 90, 7, 119, 129, 96, 107, 93, 86, 104, 94, 90, 111, 178, 74, 136, 177, 109, 178, 104, 87, 84, 80, 130, 90, 80, 123, 107, 101, 30, 123, 94, 90, 126, 115, 94, 120, 92, 104, 116, 115, 73, 103, 240, 192, 152, 110, 128, nan, 86, 93, 127, 115, 112, 108, nan, 86, 25, 34, 90, 110, 130, 153, 53, 50, 111, 238, 119, 96, 98, 91, 97, 75, 137, 90, 95, 92, 78, 245, 83, 95, 93, 118, 129, 108, 109, 103, nan, 141, 100, 104, 101, 103, 110, 155, 123, 110, 24, 94, 87, 112, nan, 86, 123, 105, 135, 95, 93, 85, 141, 97, 93, 104, 105, 144, 97, 154, 86, 96, 118, 170, 190, 132, 114, 102, 189, 109, 92, 104, 95, 99, 104, 84, 101, 123, 105, 70, 97, 23, 107, nan, 106, 70, 99, 140, 91, 119, nan, 103, 79, 51, 93, 86, 112, nan, 185, 139, 90, 132, 100, 100, 111, 95, 108, 130, 104, 95, 115, 102, 130, 95, 88, 81, 83, 74, 62, 113, 109, 91, 77, 89, 99, 125, 106, 89, 161, 106, 104, 102, 87, 60, 124, 117, 112, 74, 117, 90, 121, 102, 106, 95, 87, 96, 97, 91, 91, 112, 120, 98, 80, 82, nan, 76, 76, 93, 88, 94, 63, 113, nan, 120, 88, 99, 151, nan, 129, 124, 88, 100, 82, 99, nan, 123, 106, 30, 70, 92, 71, 90, 89, 96, 116, 98, 89, 96, 114, 127, 122, 292, 93, 102, 88, 79, 77, 101, 106, 50, 113, 90, 95, 115, 131, 108, 88, 82, 120, 151, 91, 95, 84, 116, 105, 104, 92, 99, nan, 111, 91, 124, 87, 99, 100, 90, 99, 90, 105, 115, 127, 103, 101, 23, 82, 88, 111, 25, 83, 117, 101, 114, 257, 72, 107, 97, 141, 110, 103, 50, 100, 62, 108, 109, 109, 97, 118, 86, 110, 6, 95, 105, 91, 96, 23, 81, 88, 53, 110, 95, 112, 91, 158, 107, 114, 104, 90, 90, 90, 100, 105, 130, 101, 79, 102, 136, 102, 193, 131, 104, 60, 108, 92, 91, 135, 91, 95, 108, 60, 80, 78, nan, 120, 94, 111, 65, 92, 107, 91, 97, 148, 167, nan, 126, 92, 94, 99, 103, 109, nan, 160, 108, 98, 102, 95, 98, 108, 92, 105, 161, 92, 100, 80, 91, 147, 130, 102, 114, 106, 93, 94, nan, 91, 102, 125, 82, 108, 88, 96, 87, 129, 25, 113, 96, 84, 118, 240, 80, 148, 86, 102, 60, 104, 115, 121, 117, 96, 119, 110, 90, 107, 98, 142, 95, 90, 145, 91, 83, 103, 90, 92, 114, nan, 95, 115, 107, 99, 104, 141, 200, 116, 118, 60, 100, 90, 96, 129, 95, 107, 80, 103, 85, 98, 101, 90, 93, 180, 78, 90, 115, 94, 60, 85, 107, 94, 98, 82, 103, 116, 90, 81, 87, 91, 104, 135, 132, 93, 127, 121, 125, 93, 99, 81, 60, 60, 120, 117, nan, 95, 110, 73, 102, 84, 124, 95, 91, 88, 90, 96, 45, 102, 95, nan, 76, 170, 129, 103, 96, 189, 91, 30, 99, 89, 98, 90, 156, 94, 99, 110, 83, 79, 109, 128, 89, 95, 109, 89, 103, 99, 94, 170, 108, 83, 83, 95, 99, 80, 129, 99, 95, 105, 117, 132, 97, 115, 119, 88, 120, 104, 85, 57, 112, 114, 81, 111, 55, 94, 112, 89, 136, 89, 88, 102, 91, 15, 130, 124, 94, 96, 90, 83, 93, 91, 92, 106, 106, 98, 95, 136, 102, 112, 117, 92, 124, 98, 91, 84, 92, 149, 161, 98, 97, 30, 491, 82, 169, 101, 97, 101, 126, 102, 78, 88, 70, 114, 88, 85, 46, 57, nan, 98, 91, 76, 175, 119, 87, 98, 143, 106, 122, 25, 93, 93, 93, 47, 74, 104, nan, 100, 74, 156, 108, 106, 162, 95, 189, 101, 89, 173, 93, 112, 116, 135, 96, 89, 93, 89, 121, 75, nan, 86, 97, 105, 90, 98, 119, 119, 109, 112, 113, 96, 89, nan, 190, 183, 74, 131, 87, 94, 150, 94, 106, 95, 93, 82, 120, 93, 100, 121, 84, 164, 84, 81, 110, 87, 135, 111, 85, 86, 134, 101, 113, 172, 103, 132, 107, 91, 100, 129, 101, 89, 95, 102, 224, 106, 246, 84, 99, 93, 118, 96, 97, 152, 93, 104, 123, 192, nan, 100, 111, 140, 96, 132, 93, 52, 105, 95, 85, 122, 136, 272, 42, 120, 103, 75, 102, 88, 139, 105, 116, 84, 106, 106, 111, 92, 107, 116, 130, 76, 300, 120, 118, 123, 174, 88, 137, 116, 78, 120, 105, 101, 174, 24, 72, 95, 163, 99, 94, 94, 107, 96, 103, 30, 57, 116, 94, 16, nan, 44, 117, 87, 117, 85, nan, 92, 124, 93, 37, 112, 84, 107, 75, 86, 84, 139, 125, 89, 130, 115, 108, 85, 94, 105, 108, 105, 120, 84, 115, 98, 92, 105, 210, 360, 85, 207, nan, 132, nan, 113, 93, 79, 80, nan, 119, 105, 101, 101, 101, 150, 94, 115, 58, 24, 110, 100, 138, 25, 81, 88, 88, 160, 135, 118, 30, 94, 92, 93, 94, 3, 93, 109, 84, 91, 100, 89, 169, 113, 110, 60, 119, 60, 156, 99, 77, 182, 92, 118, 94, 102, 90, 91, 129, 147, 45, 91, 104, 97, 45, 102, 112, 205, 99, 72, 100, 105, 172, 160, 118, 123, 103, 99, 92, 96, 103, 52, 90, 80, 103, 93, 120, 1, 109, 100, 80, 41, 78, 91, 104, 108, 85, 90, 540, 115, 130, 103, 80, 30, 113, 109, 94, 134, 138, 78, 124, 90, 86, 112, 114, 96, 103, 92, 70, 100, nan, 89, 67, 95, 115, 100, 110, 60, 87, 107, 121, 131, 92, 95, 70, 88, 83, 95, 86, 97, 30, 90, 82, 102, 90, 127, 122, 135, 137, 135, 178, 100, 97, 91, 101, 109, 87, 60, 87, 121, 189, 101, 113, 98, 84, 22, 120, 115, 149, 30, 142, 102, 89, 93, 90, 95, 89, 115, 104, 106, 84, 105, 130, 101, 60, 90, 93, 135, 111, 112, 84, nan, 104, 88, 115, 102, 98, 119, 90, 93, 104, 187, 101, 110, 120, 99, 85, 86, 92, 92, 101, 25, 91, 90, 98, 94, 90, 98, 78, 95, 56, 74, 103, 54, 120, 88, 116, 460, 97, 90, 105, 106, 98, 109, 97, 91, 100, 88, 85, 73, 98, 109, 98, 99, 95, nan, 98, 92, 103, 91, 80, 129, 98, 103, 95, 146, 109, 83, 82, 102, 92, 100, 102, 75, 108, 97, 116, 202, 182, 170, 50, 83, 113, 97, 100, 92, 107, nan, 108, 116, 99, 109, 87, 60, 92, 106, nan, 121, 101, 66, 166, nan, 27, 94, 94, 101, 94, 110, 90, 32, 99, 129, 91, 88, 103, 93, 375, 89, 85, 114, 95, 84, 97, 228, 82, 130, 130, 130, 100, 201, 104, 92, 84, 90, 102, 104, 96, 89, 124, 106, 102, 86, 99, 88, 131, 104, 80, 170, 96, 60, 106, 105, 92, 110, 90, 30, 83, 95, 111, 81, 115, 108, 95, 90, 91, 68, 103, 95, 101, 108, 74, 88, 165, 113, 90, 110, 106, 100, 112, 106, 90, 100, 109, 144, 120, 88, 97, nan, 106, 99, 101, 94, 55, 42, 60, 98, 89, 118, 120, 56, 94, 55, 96, 114, nan, 84, 74, 105, 75, nan, 90, 116, 107, 87, nan, 103, 96, 173, 95, 92, 150, 99, 107, 110, 120, 30, 106, 97, 93, 118, 93, 106, 88, 49, 92, 90, 104, 93, 102, 105, 104, 116, 89, 110, 65, 133, 192, 4, 94, 105, 91, 83, 136, 60, 97, 95, 84, 120, 118, 102, 93, 82, 127, 109, 118, 121, 94, 95, 84, 99, 129, 84, 43, 100, 91, 165, 85, 90, 108, nan, 63, 103, 92, 110, 117, 104, 59, 106, 102, 105, 108, 100, 75, nan, 30, 108, 89, 105, 96, 95, 113, 98, 89, 92, 96, 98, 108, 107, 112, 84, 85, 96, 30, 101, 120, 89, 136, 102, 91, 99, 102, 122, 144, 99, 94, nan, 114, 88, 107, 98, 100, 79, 139, 106, 91, 101, 134, 112, 96, 122, 122, 96, 93, 161, 95, 95, 91, 89, 78, 107, 114, 71, 116, 96, nan, 25, 105, 87, 86, 52, 92, 99, 100, 91, 144, 114, 83, 77, 1380, 30, 60, 101, nan, 86, 92, 99, 108, 70, 107, 97, 56, 83, 96, 114, 89, 115, 18, 140, 97, 94, 81, 86, nan, 93, 85, 94, 100, 30, 116, 117, 106, 115, 58, 89, 83, 5, 108, 89, 88, 94, 30, 106, 115, 95, 11, 110, 107, 120, 67, 92, 85, 72, 97, 111, 98, 108, 109, 123, 88, 24, 89, 93, 91, 101, 86, 68, 120, 90, 107, 115, 90, 114, 108, 120, 96, 117, 142, 88, 104, 105, 45, 108, 84, 107, 8, 91, 94, 104, 90, 95, 165, 92, 122, 94, 112, 60, 121, 25, 720, 111, 107, 121, 109, 85, 93, 96, 115, nan, 33, 130, 74, 97, 100, 141, 97, 90, 108, 133, nan, 111, 193, 44, 180, 115, 111, 92, 85, 111, 99, 105, 114, 78, 90, 103, 151, 107, 106, 105, 101, 96, 100, 149, 128, 85, 98, 93, 99, 8, 90, 95, 118, 105, nan, 153, 121, 98, 88, 118, 96, 99, 97, 91, 95, 86, 113, 104, 100, 96, 86, 109, 103, 133, 95, 30, 114, 87, 95, 88, 86, 75, 360, 92, 94, 85, 71, 87, 106, 185, 102, 90, 86, 98, 95, 105, 85, 91, 30, 115, 30, 160, 114, 102, 106, 122, 165, 94, 87, 81, 167, 72, 236, 106, 97, 85, 111, 138, 80, 86, 135, 105, 125, 56, 84, 92, 108, 285, 91, 30, 105, 90, 77, 88, 90, 25, 134, 25, 48, 96, 187, 109, 80, 115, 92, 72, 98, nan, 42, 106, 82, 30, 81, 100, nan, 111, 91, 97, 98, 90, 105, 103, 86, 180, 85, 88, 94, 141, 84, 68, 112, 45, 121, 116, 123, 57, 82, 96, 114, 91, 102, 120, 21, 90, 92, 90, 99, 80, 102, 88, 102, 48, 92, 85, 116, 65, 106, 98, 87, 90, 91, 129, 90, 140, 101, 90, 63, 79, 94, 2, 109, 77, 119, 128, 116, nan, 97, 120, 97, 91, 107, 102, 89, 129, 90, 30, 95, 134, 100, 104, 109, 60, 85, 50, 97, 108, 103, 25, 75, 37, 101, 121, 109, 88, 85, 208, 138, 93, 240, 81, 112, 87, 94, 180, 105, 91, nan, 87, 111, 110, 177, 123, 93, 138, 82, 67, 102, 109, 104, 150, 107, 60, 116, 96, 99, 70, 105, 97, 82, 93, 90, 132, 91, 101, 86, 98, 83, 88, 91, 170, nan, 106, 96, 40, 160, 99, 21, 115, 54, 26, 99, 100, 85, 175, 99, 306, 104, 92, 88, 60, 95, 94, 102, 120, 123, 73, 126, 60, 96, 117, 99, 102, 80, 120, 103, 42, 58, 118, 123, 91, 30, 141, 69, 117, 93, 89, 66, 60, 105, 97, 207, 122, 111, 125, 97, 123, 105, 96, 112, 101, nan, 145, nan, 100, 97, 5, 85, 93, 100, 125, 103, 106, 114, 63, 106, 92, 65, 99, 112, 98, 90, 95, 90, nan, 97, 115, 103, 113, 119, 101, 86, 103, 106, 90, 108, 96, 123, 119, 116, 82, 60, 130, 390, 170, 131, 116, 89, 84, 98, 103, 108, 103, 120, 96, 108, 101, 114, 91, 60, 95, 86, 60, 134, 92, 95, nan, nan, 92, 133, 99, 120, 85, 130, 91, 109, 126, 101, 90, 162, nan, 88, nan, 130, 86, 116, 108, 105, 96, 102, 101, 81, 60, 95, 27, 82, 116, nan, 104, 90, 126, 90, 101, 78, 113, 91, 90, 91, 133, 143, 60, 120, 93, 92, 113, 111, 89, 109, 109, 111, 111, 87, nan, 94, 161, 77, 94, 109, 119, 90, nan, 110, 93, 95, 133, 91, 95, 100, 86, 86, 96, 118, 88, 117, 100, 91, 73, 110, 100, 60, 102, 94, 134, 111, 100, 100, 119, 94, 75, 117, 97, 30, 130, 153, 210, 99, 82, 110, 90, 360, 97, 95, 180, 61, 101, 83, 128, 103, 121, 93, 123, 93, 540, 83, 95, 152, 93, 113, 95, 91, 98, 115, 23, 101, 59, 29, 93, 112, 124, 133, 96, 115, 83, 98, 114, 107, 97, 94, 106, 510, 87, 95, 100, 300, 80, 100, 60, 7, 88, 100, 94, 91, 50, 60, 134, 133, 173, 109, 97, 71, 22, 140, 94, 150, 97, 199, 97, 115, 106, 119, 102, 92, 97, 92, 97, 93, 80, 97, 107, 123, 312, 104, 81, 137, 104, 128, 89, 98, 126, 91, 129, 95, 71, 90, 89, 88, 46, 95, 127, 98, 89, 89, 60, 130, 90, 95, 80, 100, 75, 42, 104, nan, 64, 86, 96, 94, 102, 105, 103, 109, 123, 87, 93, 97, 104, 83, 95, 134, 85, 87, 5, 102, 118, 101, 60, 127, 92, 90, 90, 86, 88, 96, 175, 42, 24, 60, 120, nan, 82, 113, 96, nan, 89, 104, 90, nan, 82, 75, 104, 114, 100, 109, 110, 71, 114, 94, 90, 87, nan, 110, 127, 88, 95, 99, 90, 150, 99, 109, 98, 80, 95, 106, 130, 40, 144, 85, 99, 45, 103, nan, 92, 123, 103, 77, 99, 112, 116, 420, 98, 120, 80, 85, 13, 120, 91, 97, 136, 94, 96, 30, 128, nan, 112, 86, nan, 137, 92, 63, 110, 107, 119, 31, 87, 141, 112, 98, nan, 100, 118, 130, 107, 100, 120, 40, nan, 120, 111, 265, 83, 158, 102, 84, 88, 104, 94, 105, 111, 50, 89, 134, 105, 97, 174, 89, 109, 95, 96, 88, 30, 82, 89, 95, 159, 100, 122, 96, 180, 2, 20, 117, 110, 96, 72, 102, 103, 99, 97, 106, 40, 139, 97, 86, 45, 105, 180, 103, 90, 30, 91, 115, 63, 24, 60, 74, 105, 113, 108, 88, 71, 107, 185, 83, 51, 114, 124, 123, 25, 90, 87, 95, 98, 98, 95, 103, 136, 114, 101, 101, 90, 72, 88, 85, 104, 106, 90, 95, 68, 106, 118, 91, 93, 24, 104, 200, 56, 108, 113, 78, 102, 81, 94, nan, 94, 77, 60, 97, 106, 92, 45, 91, 196, 59, 97, 93, 94, 120, 109, 102, 92, 77, 137, 142, 80, 115, 145, 108, 124, 129, 93, 93, 98, 114, 107, 24, 107, 118, 109, 117, 95, 105, 99, 82, 96, 82, 95, 98, 102, 149, 53, 130, 89, 50, 79, 30, 81, 91, 75, 124, 113, 51, 98, 30, 101, 95, 117, 88, 197, 97, 104, 123, nan, 100, 90, 117, 157, 112, nan, 102, 104, 100, 81, 88, 101, 86, 116, 107, 110, 89, 108, 110, 87, 90, 89, 56, 55, 72, 122, 89, 108, 97, 150, 125, 117, 109, 186, 88, 65, 119, 90, 110, 75, 73, 92, 128, 88, 74, 82, 91, 107, 80, 112, 105, 89, 92, 88, 133, 105, 91, 91, 135, 77, 119, 210, 120, 82, 93, 98, 139, 127, 111, nan, 105, 162, 282, 117, 120, 100, 135, 95, 80, 99, 85, 128, 96, 107, 300, 111, 84, 88, 82, 91, 80, 106, 116, 93, 131, 53, 91, 88, 125, 73, 108, 145, 127, 99, 60, 114, 115, 53, 99, 70, 92, 84, 90, 90, 85, 103, 87, 81, 82, 75, 116, 100, 85, 92, 89, 75, 121, 95, 100, 115, 93, 94, 102, 73, 100, 82, 99, 98, 90, 23, 65, 52, 91, 112, 107, 116, 80, 103, 108, 41, 101, 81, 45, 174, 100, 122, 83, 90, 105, 115, 90, 99, 200, 104, 103, 85, 122, 105, 102, 122, nan, 95, 147, 3, 88, nan, 93, nan, 91, 126, 125, 113, 91, 83, 327, 50, 168, 67, 115, 115, 117, 90, 81, 115, 128, 43, 87, 84, 90, 98, 80, 104, 116, 105, 83, 93, 158, 47, nan, 93, 104, 114, 94, 180, 115, 98, nan, 67, 118, 94, 84, 92, 141, 106, 96, 100, 95, 119, 137, 99, 98, 22, 216, 94, 84, 127, 94, 93, 93, 90, 134, 172, 82, 92, 109, 90, 88, 94, 88, 108, 75, 172, 100, 90, 90, 90, 92, 207, 92, 31, 48, 109, 80, 86, 148, 79, 116, 104, 102, 141, 120, 92, 102, 105, 91, 72, 123, 107, 94, 110, 85, 149, 101, 92, 117, 91, 104, 117, 145, 104, 97, 89, 97, 141, 93, 87, 92, 158, 103, 107, 95, 105, 76, 74, 95, 100, 125, 93, 133, 106, 108, 75, 1, 125, 108, 106, 130, 25, 95, 99, 69, 142, 92, 41, 100, 100, 95, 153, 110, 106, 94, 198, 115, 90, 169, 72, 98, 81, 80, 94, 120, 97, 115, 89, 125, 100, 94, nan, 91, 94, 95, 89, 105, 88, 75, 101, 75, 100, 114, 81, 120, 64, 99, 95, 99, 94, 115, 14, 105, 108, 162, 552, 87, 90, 92, 85, 87, 98, 185, 60, 131, 21, 89, 30, 95, 120, 91, 86, 110, nan, 137, 110, 9, nan, 104, 88, 90, 84, 84, 91, 177, 116, 100, 80, 178, 91, 142, 116, 100, 103, 102, 95, 85, 107, 61, nan, 195, 60, 105, 97, 97, 98, 183, nan, 75, 119, 89, 105, 90, 100, 149, 123, 90, 103, 81, 102, 114, 90, 121, 114, 89, 98, 96, 105, 89, 60, 146, 106, 70, 143, 181, 108, 90, 80, 108, 97, 87, 109, 102, 11, 130, 94, 94, 82, 134, 87, 22, 47, 135, 105, 103, 97, 125, 92, 97, 126, nan, 99, 102, 146, 102, 93, 90, 118, 105, 78, 86, 30, 93, 181, 69, 94, 84, 98, 99, 91, 97, 88, 130, 103, 95, 111, 34, 134, 114, nan, 30, 95, 54, 119, 105, 127, 50, 120, 149, 72, 104, 205, 99, 80, 100, 72, 110, 175, 104, 104, 92, 120, 98, 72, 139, 100, 113, 83, 112, 90, 170, 145, nan, 100, 109, 109, 143, 60, 107, 94, 96, 85, 91, 98, 239, 121, 95, 115, 88, 105, 116, 102, 128, 97, 102, 108, 125, 115, 85, 100, 122, 88, 110, 206, 50, 107, 155, 30, 98, 48, 100, 142, 88, 115, 15, 116, 76, 104, 80, 120, 22, nan, 99, 108, 104, 99, 70, 93, 16, 130, 65, 82, 80, 99, 103, 93, 120, 171, 86, 107, nan, 100, 101, 30, 96, 87, 97, 97, 111, 120, nan, nan, nan, 82, 118, 95, 90, 116, 169, 115, 110, 110, 120, 101, 165, 251, 79, 91, 82, 60, 121, 101, 90, 113, 95, 100, 121, 99, 99, 86, 24, 78, 120, 118, 79, 96, 93, 102, 85, 99, 117, 22, 104, 90, nan, 95, nan, 165, 98, 99, 111, 83, 100, 22, 108, 30, 157, 91, 87, 86, 81, 40, 104, 116, 42, 81, 60, 4, 91, 90, 112, 22, 105, 97, 104, 92, 115, 113, 90, 30, 90, 140, 136, 95, 75, 110, 112, 92, 120, 97, 108, 102, 138, 120, 98, 93, 94, 100, 114, 125, 91, 96, 93, 102, 133, 101, 94, 99, 84, 210, 99, nan, 103, 114, 115, 82, 56, 91, 94, 91, 126, 52, nan, 90, 97, 95, 87, 103, 88, 108, 108, 90, 88, 89, 120, 128, 111, 90, 116, 89, nan, 93, 115, 25, 60, 108, 101, 90, 96, 90, 160, 96, 120, 87, 122, 110, 117, 94, 99, 88, 97, 110, 93, 108, 108, 90, 60, 90, 94, 132, 84, 480, 96, 95, 107, 90, 93, 183, 92, 99, 153, 30, 30, 89, 123, 100, 86, 108, 106, 127, 92, 105, 91, 89, 84, 98, 107, 98, 83, 112, 87, 90, 89, 92, 25, 138, 171, 97, 124, 89, 88, 135, nan, 107, 115, 100, 96, 106, 120, 150, 84, 120, 99, 135, 88, 90, 30, 85, 97, 97, 90, 95, 157, 88, 90, 103, 92, 130, 101, 77, 120, 113, 89, 79, 102, 105, 181, 131, 98, 104, 124, 107, 109, 93, 119, 101, 86, 105, nan, 82, 170, 89, 87, 100, 141, 144, 88, 133, 122, 107, 83, 103, 96, 123, 95, 60, 97, 92, 99, 90, 109, 94, 83, 140, 45, 93, 145, 106, 110, 58, 127, 98, 104, 188, 118, 110, 30, 106, 93, 107, 116, 89, 128, 50, 552, 95, 104, 91, 86, 96, 113, 76, 82, 99, 112, 146, 99, 121, 172, 95, 105, 132, 115, 90, 90, 133, 105, 94, 30, 102, 114, 96, 99, 111, 86, 101, 71, 121, 86, 100, 85, 669, 92, 25, 81, 96, 132, 91, 90, 113, 96, 85, 92, 12, 93, 115, 300, 161, 123, 119, 90, 84, 125, 100, 99, 85, 129, 80, 131, 84, 92, 60, 98, 102, 105, 113, 103, 113, 91, 94, 92, 90, 60, 105, 96, 83, 100, 120, 104, 83, 160, 98, 352, 90, 90, 90, 15, 85, 95, 114, 94, 98, 100, 99, 122, 102, 85, 103, 90, 97, 68, 57, 75, 83, 97, 91, 150, 104, 103, 97, 34, 88, 129, 165, 128, 14, 100, 100, 90, 54, 102, 180, 51, 87, 118, 137, 98, 85, 90, 98, 114, 105, 139, 89, 90, 132, 107, 89, nan, 98, 22, 97, 102, 88, 127, 96, 95, 121, 95, 93, 76, 88, 93, 99, 84, 96, 84, 144, 82, 101, 89, 102, 88, 60, 108, 98, 90, 94, 122, 118, 89, 134, 97, 136, 91, 98, 98, 108, 103, 127, 81, 139, 83, 73, 51, 100, 122, 80, 95, 109, 115, 114, 129, 110, 45, nan, 94, 60, nan, 92, 92, 90, 175, 109, 138, 115, 117, 90, 94, 50, 70, 106, 300, 99, 137, 13, 184, 88, 110, 97, 102, 180, 95, 214, 125, 89, 30, 30, 86, 70, 99, 93, 90, 99, 123, 120, 92, 40, 110, 100, 110, 170, 59, 126, 25, 136, 98, 127, 170, nan, 103, 30, 136, 98, 99, 92, 92, 94, 93, 93, 99, 140, 95, 90, 87, 100, 95, 95, 150, 91, 43, 95, 98, 95, 94, nan, 93, nan, 87, 97, 101, 94, 101, 96, 91, 108, nan, 72, 57, 62, 95, 258, 90, 100, 105, 82, 124, 94, 132, 77, 194, 108, 118, 98, 101, 106, 74, 100, 90, 148, 98, 90, 50, 122, 150, 98, 113, 111, 73, 102, 97, 92, 121, 100, 99, 90, 94, 95, 97, 104, 77, 90, 95, 94, 75, 109, 180, 91, 90, 180, 94, 103, 102, 64, 91, 127, 153, 89, 113, 100, 96, 105, 91, 113, 117, 88, 129, 80, 100, 108, 108, 88, 73, 115, 112, 103, 80, 124, 102, 105, 101, 153, 110, 92, 78, 65, 4, nan, 110, 86, 30, 140, 79, 195, 113, 80, 108, 117, 86, 121, 115, 106, 98, 97, 104, 145, 97, 90, 60, 96, 129, 61, 105, 102, 93, 105, 116, 122, 53, 125, 126, 108, 100, 97, 60, 108, 101, 119, 126, 134, 88, 87, 98, 88, 215, 28, 85, 101, 79, 151, 113, 114, 30, 99, 47, 91, 99, 40, 100, 92, 144, 106, 151, 185, 60, 90, 88, 25, 110, nan, 108, 89, 86, 91, 99, 97, 102, 106, 106, 86, 88, 133, 15, 81, 120, 102, 99, 97, 95, 90, 111, 101, 93, 100, 56, 97, 121, 101, 73, 87, 116, 90, 103, 87, 94, 110, 30, 92, 85, 146, 88, 95, 85, 360, 101, 95, 141, 97, 99, 97, 107, 107, 95, 75, 108, 126, 98, 88, 108, 89, 104, 93, 25, 115, 113, 115, 12, 22, 110, 94, 104, 108, 81, 114, 109, 88, nan, 74, 109, 123, 30, 90, 72, 105, 80, 93, 165, 87, 150, 160, 89, 110, nan, 99, 105, 109, 90, 90, nan, 86, 84, nan, 90, 87, 190, 97, 79, 28, 96, 56, 97, 100, 87, 77, 98, 138, 266, 97, 106, 97, 97, 85, 106, 94, 90, 127, 85, 95, 125, 116, 132, 90, 88, 99, 93, 105, 138, 105, 94, 118, 124, 99, 111, 84, 86, 92, 91, 100, 43, 170, 111, 93, 95, 30, 87, 74, 110, 87, 96, 94, 121, 124, 114, 102, 108, 64, 94, 119, 158, 91, 240, 90, 94, 84, 34, 140, 144, 100, 143, 90, 107, 120, 77, 99, 93, 122, 103, 72, nan, 85, 90, 93, 134, 85, 68, 136, 95, 90, 100, 115, 109, 63, 110, 76, 104, 89, 88, 146, 103, 110, 128, 83, 120, 87, 91, 87, 86, 104, 74, 122, 110, 59, 171, nan, 163, 94, 120, 210, 87, 102, 141, 98, 188, 101, 105, 118, 96, 88, 88, 97, 95, 116, nan, 50, 90, 108, 110, 135, 145, 90, 45, 120, 109, 23, 100, 95, 84, 95, 100, nan, 154, 104, 180, 166, 9, 90, 116, 98, 93, 106, 93, 106, 95, 90, 105, 107, 94, 96, 1140, 84, 120, 100, 164, 43, 91, 25, 88, 100, 110, 58, 89, 88, 94, 102, 124, 111, 95, 138, 89, 88, 126, 101, 91, 144, 47, 102, 105, 112, nan, 107, 30, 103, 134, 101, 170, 94, 90, 109, 55, 103, 88, 101, nan, 88, 90, 381, 1, 93, 78, 99, 94, 104, 101, 92, 136, 124, 96, 92, 92, 84, 93, 82, 82, 51, 90, 122, 109, 91, 76, 94, 80, 123, 360, nan, 91, 87, 98, 107, 109, 98, 101, 96, 112, 117, 75, 101, 87, 89, 93, 99, 119, 90, 140, 112, 91, 95, 107, 78, 120, 45, 93, 162, 167, 96, 93, 90, 163, 124, 97, 60, 83, 132, 70, 107, 125, 86, 94, 110, 360, 30, 122, 25, 93, nan, 90, 55, 112, 322, 68, 114, 113, 107, 159, 116, 58, 100, 102, 30, 95, 80, 94, 97, 95, nan, 134, 130, 98, 60, 108, 130, 105, 116, 83, nan, 115, 76, 101, 91, 109, 30, 87, 103, 566, 119, 156, 240, 45, 102, 100, 93, 135, nan, 112, 133, 119, 94, 60, nan, 108, 92, 112, 107, 95, 44, 72, 110, 96, 30, 100, 89, 81, 82, 105, nan, 111, 15, 135, 94, 172, 128, 99, 103, 111, 83, 157, 103, 171, 148, 90, 90, 76, 89, 103, 94, 95, 208, 95, 200, 114, 86, 148, nan, 86, nan, 90, 114, 95, 108, 100, 91, 96, 103, 42, 86, 89, 41, 88, 99, 104, 122, 120, 85, 99, 145, 108, 25, 105, 74, 93, 115, 119, 95, 179, 132, 107, 113, 91, 112, 80, 98, 105, 70, 83, 98, 112, 71, 125, 94, 86, 95, 156, 99, 105, 125, 88, 80, 117, 88, 86, 84, 85, 79, 105, 121, 108, 69, 134, 87, 124, 119, 120, 88, 123, 86, 83, 99, 97, 92, 96, 122, 25, 104, 88, 72, 113, 105, 94, 98, 95, 353, 111, 109, nan, 127, 115, 96, 127, 171, 88, 150, 47, 153, 195, 83, 96, 97, 113, 89, 154, 100, 102, 200, 85, 87, 47, 102, 88, 115, 165, 104, 114, 80, 137, 84, 92, 99, nan, 175, 98, 114, 89, 73, 97, 94, 99, 105, 30, 102, 90, 167, 87, 95, 127, 95, 106, 125, 117, 97, 95, 100, 84, 114, 124, 98, 100, 116, 101, 110, 84, 77, 118, 30, nan, 95, 100, 74, 105, 87, 119, 382, 100, 91, 108, 200, 149, 133, 107, 104, 135, 116, 134, 124, 30, 50, 93, 103, 80, 1, 138, 107, 80, 89, 140, nan, 106, 101, 100, 96, 141, nan, 126, 102, 76, 86, 107, 30, 155, 137, 99, 108, 111, 108, 90, nan, 90, 100, 151, 111, 115, 138, 111, 110, 90, 108, 80, 114, 100, 100, nan, 150, 132, 95, 105, 115, 108, 113, 60, 95, 55, 78, 92, 86, 99, 103, 174, 86, 100, 88, 30, 97, 99, 90, 83, 85, 95, 135, 92, 118, nan, 85, 98, 142, 178, 106, 95, 90, 46, 115, 113, 81, 95, 30, 105, 88, nan, 107, 200, 117, 99, 155, 107, 71, 102, 135, 129, 128, 107, 107, 78, 78, 92, 114, 23, 126, 80, 92, 80, 120, 101, 88, 88, 95, 98, 96, 91, 85, 172, 88, 19, 90, 116, 53, 93, 104, 118, 116, 106, 99, 85, 180, 93, 88, 80, nan, 102, 79, 95, 86, 105, 100, 93, 93, 98, 95, 67, 133, 88, 88, 300, 99, 96, 108, 88, 35, 101, 100, 116, 98, 100, 85, 90, 48, 88, 126, 89, 92, 101, 97, 115, 83, 80, 86, 94, 81, 115, 89, 92, 93, 95, 66, 95, 118, 164, nan, 103, 94, 113, 91, 161, 62, 89, 115, 89, 111, 85, 30, 120, 98, 103, 103, 114, 78, 164, 105, 114, 92, 106, 110, 86, 88, 64, 104, 115, 74, 86, 128, nan, 29, 94, 107, 93, 93, 90, 94, 77, 125, 99, 133, 64, 30, 60, 119, 79, 98, 60, 88, 115, 179, 81, 95, 94, 95, 101, 96, 115, 150, 85, 180, 94, 84, 80, 79, 55, 89, 118, 28, 122, 101, 77, 200, 55, 89, nan, 80, 180, 114, 98, 92, 80, 97, 110, 18, 172, 88, 183, 92, 137, 103, 44, 108, 91, 90, 63, 72, 98, 102, 83, 185, 97, 99, 220, 101, 89, 96, 107, 115, 76, 132, 121, 97, nan, 113, 125, 108, 102, 113, 99, 102, 89, 110, 107, nan, 5, 100, 93, 205, 118, 88, 82, 160, 57, 99, 122, 60, 102, 75, 50, nan, 104, 95, 172, 76, 88, 45, 83, 112, 114, 30, 123, 98, 98, 101, 96, 80, 92, 92, 118, 130, nan, 108, 99, 155, 108, 97, 105, 30, 144, 90, 102, 107, 95, 84, 89, 86, 96, 102, 125, 64, 90, 150, 117, 88, 53, 100, 101, 154, 90, 90, 113, 103, 75, 92, 96, 105, 45, 60, 97, 112, 88, 114, 86, 83, 87, 119, 104, 98, 110, 242, 102, 94, 93, 97, 4, 40, 78, 96, 92, 120, 111, 114, 91, 89, 117, 125, 110, 98, 105, 96, 116, 104, 96, 134, 101, 123, 40, 120, 184, 87, 118, 129, 135, 327, 88, 30, 112, 90, 173, 92, 92, 90, 116, 94, 40, 90, 100, 103, 111, 132, 143, 88, 91, 67, 125, 132, 98, 95, 126, 96, 100, 84, 90, 375, 68, 92, 90, 102, 87, 86, 97, nan, 30, 30, 106, 212, 107, 192, 149, 106, 100, 130, 97, 115, 90, 85, 128, 102, 107, 121, 111, 168, 111, 104, 30, 97, nan, 102, 180, 106, 128, 120, 400, 98, 118, 96, 113, 91, 98, 80, 128, 114, 113, 83, 100, 90, 108, 87, 107, 120, 91, 94, 8, 132, 90, 110, 124, 92, 97, 84, 125, 140, 128, 196, 98, 115, 119, 95, 110, 89, 82, 44, 174, 95, 94, 98, 96, 124, nan, 102, 200, 77, 109, 89, 91, 106, nan, 86, 111, 85, 93, 4, 89, 98, 101, 68, 34, 105, 82, 103, 133, 103, 8, 130, 104, 108, 95, 90, 152, nan, 108, 87, 88, 87, 60, 110, 104, 74, 27, 84, 100, 104, 114, 101, 124, 83, 101, 115, 120, 131, 98, 87, 60, 104, 87, 146, 60, 120, 88, 80, nan, 93, 142, 95, 123, 79, 129, 85, 87, 88, 97, 100, 75, 82, 52, 90, 134, 123, 89, 90, 94, 88, 94, 172, 65, 120, 121, 75, 101, 50, 85, nan, 99, 109, 149, 118, 125, 97, 105, 107, 101, 90, 203, 110, 95, 134, 91, 107, 98, 93, 117, 118, 100, 95, 102, 95, 97, 124, 140, 84, 98, 83, 89, 105, 124, 84, 96, 104, 111, 96, 97, 107, 100, 89, 116, 114, 86, 121, 96, 111, 52, 100, 127, 86, 112, 118, 113, 125, 88, 128, 100, 127, nan, 132, 112, 86, 118, 124, 124, 90, 40, 96, 95, 126, 91, 107, 104, 139, 98, 90, 116, nan, 121, 111, 76, 97, 86, 113, 90, 91, 74, 95, 114, 114, 85, 93, 91, 93, 91, 102, 100, 120, 200, 98, 109, 100, 107, 102, 92, 98, 97, 96, 98, 72, nan, 124, 93, 85, 101, 92, 93, 112, 150, 79, 100, 113, 200, 117, 100, 123, 25, 90, 148, nan, 123, 96, 96, 104, 78, 94, 91, 79, 102, 155, 125, 77, 110, 100, 145, 109, 103, 175, 106, 94, 104, 94, 97, 22, 93, 102, 143, 78, 130, 177, 89, 143, 157, 110, 100, 223, 136, 58, 47, 102, 94, 95, 75, 99, 88, 90, 110, 91, 23, 109, 104, 142, 91, 197, 90, 116, 104, 110, 85, 104, 90, 99, 95, 146, 93, 131, 113, 89, 109, 84, 113, 97, 86, 96, 91, 44, 142, 91, 91, 138, 119, 94, 106, 5, 94, 84, 113, 105, 92, 93, 104, 91, 143, 103, 115, 90, 155, 124, 183, 106, 91, 65, 118, 240, nan, 125, 180, 90, 107, 177, 68, 100, 95, 89, 114, 81, 91, 30, 64, 68, 360, 120, 163, 91, 75, 121, 266, 86, 93, 82, 94, nan, 130, 78, 93, 98, 86, nan, 98, 73, 100, 95, 98, 90, 115, 113, 110, 95, 108, 100, 24, 115, 103, 110, 70, nan, 60, 103, nan, 89, 122, 103, 91, 126, 106, 101, 72, 98, 91, 118, 102, 103, 100, 84, 144, 89, 108, 103, 96, 24, 121, 110, 60, 110, 100, 93, 128, 80, 98, 86, 30, 118, 126, 90, 108, 80, 94, 104, 94, nan, 103, 60, 97, 110, 93, 85, 77, 74, 91, 90, 93, 115, 111, 90, 93, nan, 91, 116, 127, 54, 83, 127, 30, 158, 77, 132, 138, 114, 93, 85, 89, 110, 112, 129, 407, 80, 60, 130, 67, 71, 98, 109, 91, 103, 141, 112, 97, 134, 50, 99, 81, 107, 16, 84, 52, 80, 95, 115, 75, 95, 99, 75, 90, 123, 74, 89, 114, 105, 56, 90, 117, 82, 100, 113, 330, 117, 129, 95, 80, 73, 100, 82, 88, 94, 113, 109, 121, 112, 112, 116, 96, 86, 145, 111, 87, 98, 93, 99, 96, 90, 107, 55, 94, 128, 118, 61, 112, 118, 60, 140, 145, nan, 137, 90, 100, 11, 98, 89, 122, 143, 95, 17, 21, 96, 94, 90, 6, 136, 75, 97, 106, 111, 134, 80, 111, 110, 108, 125, 90, 99, 105, 134, 118, 83, 63, 91, 99, 90, 120, 113, 105, 65, 108, nan, 90, 110, 88, 96, 97, 64, 122, 136, 131, 30, 100, 60, 108, 93, 175, 104, 90, 24, 92, 18, 122, 240, 101, 97, 91, 159, 60, 95, 276, 87, 86, 83, 108, 188, 84, 100, 52, 101, 102, 110, 60, 118, 26, 93, 96, 102, 108, 88, 94, 99, 96, nan, 166, 104, 86, 93, 75, 88, 100, 102, 91, nan, 92, 105, 129, 115, 97, 195, 117, 96, 89, nan, 88, 104, 119, 90, 94, 89, 144, 30, 81, 120, 88, 98, 112, 103, 96, 106, 98, 108, 88, 101, 85, 104, 117, 90, 91, 105, 101, 90, 135, 98, 111, 113, 92, 104, 98, 101, 88, 116, 84, 96, 96, 91, 96, 103, 94, 74, 133, 120, 110, 62, 123, 90, nan, 87, nan, 251, 160, 100, 170, 146, 136, 73, 156, 117, 111, 5, 97, 87, 139, 167, 98, 100, 85, 80, 118, 137, 90, 105, 87, 136, 89, 89, 109, 60, 125, 10, 116, 172, 104, 121, 113, 105, nan, 96, 101, 92, 89, 169, nan, 115, 175, 94, 122, 97, 114, 90, 86, 105, 30, 132, 96, 101, 24, 118, 132, 137, 120, 89, 97, 70, 89, 74, 90, 92, 132, 88, 92, 116, 130, 92, 90, 112, 87, 85, 135, 163, 130, 84, 87, 110, 97, 91, 95, 107, 125, 105, 120, 91, 145, 84, 83, 103, 100, 90, 115, 113, 95, 83, 111, 125, 103, 93, 100, 92, 96, 116, 156, 92, 92, 85, 126, 110, 350, 90, 109, 103, 140, 115, 130, 55, nan, 48, 120, 78, 296, 100, 103, 105, 91, 50, 88, 137, 120, 63, 90, 113, 91, 72, 114, 93, 95, 90, 176, 98, 96, 89, 95, 120, 99, 93, 95, 95, 82, 126, 89, 103, 192, 54, 98, 103, 112, 119, 139, 100, 121, 92, 95, 86, 125, 95, 118, 91, 120, 107, 90, 96, 86, 60, 97, 93, 118, 103, 96, 114, 95, 90, 80, 92, 101, 88, 88, 95, 113, 140, 102, 119, 83, 130, 85, nan, 78, 107, 112, 149, 129, 114, 123, 92, 96, 111, 174, nan, 123, 115, 93, 119, 30, 91, 85, 210, 115, 58, 113, 154, 99, 85, 83, 92, 87, 76, 90, 61, 95, 103, 92, 112, 93, 107, 121, 139, 105, 101, nan, 109, 94, 78, 98, 135, 108, 92, 120, 94, 75, 181, 102, 109, 103, 75, 90, 90, 119, 101, 89, 102, 97, 104, 96, 105, 103, 73, 107, 101, nan, nan, 91, 85, 113, nan, 101, 91, 24, 114, 80, 174, 98, 85, 111, 174, 81, 92, 66, 122, 117, 96, 105, 60, 30, 90, 136, 141, 132, 106, 90, 103, 81, 103, 131, 136, 101, 103, 101, 138, 99, 166, 110, 88, 60, 100, 102, 17, 119, 95, 42, 120, 90, 60, 125, 93, 110, 91, 91, 90, 96, 94, 98, 118, 88, 102, 111, 124, 64, 159, 89, 99, 106, 104, 138, 87, 116, 45, 130, 101, 7, 63, 93, 102, 118, 114, 28, 15, 106, 93, 118, 118, 100, 103, 93, 123, 107, 96, 177, 94, 88, 108, 125, nan, 96, 94, 46, 91, 102, 176, nan, 90, 95, 111, 93, 106, 98, 90, 90, 95, 99, 140, 167, 86, 115, 49, 126, 58, 111, 105, 82, 108, 30, 88, 123, 89, 51, 94, 86, 111, 97, 98, 89, 116, 78, 95, 153, 95, 77, 53, 95, 114, 102, 90, 90, 103, 114, 85, 89, 94, 115, 101, 108, 107, 72, 29, 88, 82, 99, 116, 90, 85, 93, nan, 80, 100, 110, 102, 63, 50, 93, 174, 87, 240, 98, 82, 89, 105, 164, 30, 126, 119, 92, 106, 107, 114, 72, 108, 89, 23, 106, 103, 90, 98, 87, 84, 106, 101, 85, 105, 87, 60, 124, 72, 93, 90, 93, 150, 97, 128, 91, 119, 122, 128, 81, 150, 84, 105, 180, 106, 30, 100, 105, 107, 146, 25, 170, 80, 68, nan, 178, 95, 113, 88, 208, 100, 174, 88, 127, 99, 170, 96, 90, 86, 90, 97, 85, 25, 350, 114, 116, 93, 108, 186, 225, 100, 104, 96, 155, 77, 110, 105, 170, 123, 96, 81, 101, 75, 83, 88, 103, 94, 109, 103, 90, 48, 109, 104, 85, 90, 120, 85, 115, 90, 154, 139, 90, 90, 128, 103, 30, 109, 117, nan, 93, 101, 112, 97, 135, 83, 110, 88, 92, 75, 111, 3, 35, 91, 99, 108, 88, 107, 124, 105, 112, 50, 60, 25, 93, 114, 109, 100, 104, 107, 96, 95, 88, 110, 85, 91, 95, 105, 17, 80, 102, 107, 132, 106, 121, 112, 105, 93, 92, 79, 97, 89, 111, 105, 108, 78, 95, 80, 99, 66, 117, 118, 103, 92, 129, 105, 105, 82, 104, 90, 94, 100, 111, 93, 89, 116, 102, 79, 100, 91, 60, 87, 112, 315, 117, 107, 59, 91, 113, 88, 96, 82, 173, 13, 105, 25, 128, 216, 85, 91, 60, 91, 162, 97, 103, 86, 109, 90, 80, 100, 100, 90, 18, 65, 100, 143, 60, 80, 60, 90, 95, 107, 103, 90, 122, 100, 114, 97, 91, 100, 102, 115, 97, 87, 103, 84, 84, 162, nan, 90, 103, 96, 120, 102, 142, 113, 100, 103, 106, 116, 122, 90, 112, 90, 88, 95, 105, 129, 105, 97, 94, 90, 52, 91, 93, 90, nan, 85, 92, 103, 87, 95, 116, 96, 52, 99, 111, 110, 95, 85, 96, 69, 90, 129, 85, 102, 88, nan, 85, 114, 120, nan, 78, 91, 95, 119, 140, 104, 147, 90, 99, 75, 121, 61, 109, 100, 137, 112, 84, 101, 97, 25, 80, 77, 123, 119, 105, 44, 102, 106, 109, 100, 95, 106, 70, 225, nan, 64, 120, 126, 80, 129, 92, 60, 70, 88, 96, 62, 52, 117, 89, 123, 117, 94, 150, 113, 85, 118, 60, 109, 110, 181, 85, 173, 143, 84, 95, 100, 120, 89, 98, 98, 102, 96, 91, 96, 235, 163, 51, 166, 106, 113, nan, 132, 90, 94, 87, 103, 89, 170, 95, nan, 94, 3, 106, 98, 114, 140, 97, 89, 88, 125, 102, 119, 99, 118, 115, 86, 115, 90, 97, 139, 139, 99, 111, 240, 129, 122, 90, 109, 157, 98, 74, 121, 30, 109, 89, 89, 115, 118, 106, 89, 84, 107, 109, 116, 97, 50, nan, 88, 90, 114, 100, 91, 94, 97, 87, 118, 30, 201, 130, 103, 113, 101, 76, 106, 95, 113, 87, 153, 175, 155, 102, 96, 101, 159, 91, 64, 117, 97, 103, 89, 240, nan, 80, 111, 108, 107, 89, 131, 106, 90, 110, 123, 98, 95, 84, 108, 106, 138, 90, 99, 76, 113, 100, 142, 132, 110, 122, 112, 95, 95, 124, 86, 127, 165, 109, 93, 87, 90, 93, 90, nan, 80, 145, 91, 93, 102, 120, 74, 87, 117, 185, 92, 162, 90, 98, 98, 98, 135, 87, 118, 88, 50, 81, 108, nan, 100, 97, 91, 114, 23, 95, 105, 134, 127, 83, 94, 90, 86, 102, 90, 110, 98, 91, 54, 97, 94, 94, 82, 97, 108, 110, 111, 103, 117, 90, 88, 108, 104, 138, 75, 114, 121, nan, 91, 131, 124, 87, 121, 92, 98, nan, 83, 105, 111, 107, 547, 51, 102, 108, 98, 360, 120, 121, 88, 103, 62, 94, 165, 122, 97, 85, 629, 90, 83, 79, 111, 150, 117, 118, 99, 100, 60, 108, 81, 119, 89, 105, 102, 114, 110, 121, 106, 124, 97, 135, 92, 129, 120, 85, 87, 162, 101, 94, 240, 103, 150, 111, 85, 106, 120, 126, nan, 162, 55, 118, 120, 89, 114, 24, 93, 78, 110, 139, 45, 131, 99, 104, 107, 94, 108, 84, 116, 86, 99, 100, 90, 92, 126, 83, 107, 95, 112, 94, 108, 150, 165, 132, 120, 94, 118, 78, 130, 92, 60, 90, 119, 100, 89, 125, 152, 81, 105, 100, 90, 124, nan, 60, 128, 117, 89, 120, 78, 63, 128, 93, 91, 113, 112, 79, 96, 22, 86, 30, 101, 103, 100, 105, 85, 113, 30, 30, 110, 74, 106, 240, 120, 105, 85, 92, 93, 96, 103, 99, 108, 104, 111, 136, 96, 67, 90, 114, 96, 101, 105, 107, 140, 115, 126, 156, 91, 100, 94, 130, 375, 90, 154, 71, 89, 140, 147, 93, 95, 95, 109, 136, 104, 90, 92, 109, 113, 79, 108, 134, 100, 155, 97, 119, 102, 78, 102, 94, 96, 92, 118, 102, 88, 147, 95, 129, 45, 112, 87, 96, 102, 108, 100, 76, 88, 93, 75, 126, 85, 143, 59, 228, 5, 74, 45, 94, 163, 96, 81, 90, 100, 138, 93, 92, 90, 60, 96, 93, 96, 124, 115, 72, 23, 220, 95, 92, 56, 76, 90, 91, 89, 110, 104, 125, nan, 107, 91, 107, 92, 60, 95, 131, nan, 114, 100, 96, 100, 114, 125, 96, 125, 94, 129, 90, 137, 95, 108, 110, 57, 128, 90, nan, 88, 95, 25, 96, 83, 83, 106, 42, 137, 124, 115, 148, 126, 90, 100, 122, 92, 91, 60, 56, 229, 68, 105, 108, 87, 117, 91, 61, 106, 120, 30, 100, 97, 155, 48, 185, 97, 83, 113, 68, 60, 108, 98, 84, 94, 80, 96, 91, 104, 30, 90, 30, 114, 98, 100, 99, 96, 92, 178, 99, 131, 105, 120, 136, 70, 88, 99, 29, 170, 128, 99, 45, 94, 108, 109, 96, 129, 130, 83, 95, nan, 73, 141, 101, 99, 124, 130, 190, 63, 95, 108, 95, 97, 90, 105, 96, 91, 96, 116, 104, 96, 114, 141, 96, 105, 132, 29, 108, 115, nan, 15, 93, 150, 106, 119, 45, 103, 90, 92, 25, 161, 94, 60, 190, 55, 40, 94, 103, 109, 109, 102, 90, 97, 88, 120, 116, 108, 67, 103, 120, 121, 87, 114, 89, 98, 95, nan, 105, 98, 115, 91, 99, 97, 30, 208, 260, 123, 104, 84, 107, 80, 93, 200, 104, 65, 101, 120, 113, 93, 40, 91, nan, 188, 93, 112, 124, 93, 113, 110, 109, 119, 55, 108, 96, 84, 93, 103, 104, 102, 111, 52, 179, 48, 60, 111, 99, 94, 119, 115, 89, 111, 103, 104, 102, 74, 116, 94, 112, 101, 120, 135, 92, 95, 145, 105, 240, 95, 129, 101, 43, 118, 54, 104, nan, 80, 91, 94, 111, 100, nan, nan, 82, 86, 108, 102, 154, 30, 116, 106, 108, 113, 99, 19, 104, 117, 90, 95, 50, 80, 110, 93, 92, 101, 87, 91, 90, 25, 89, 89, 90, 98, 64, 70, 92, 100, 96, 107, 86, 83, 86, 96, 124, 55, 102, 95, 60, 93, 134, 95, 24, 109, 91, 88, 95, 81, 120, 98, 54, 90, 106, 105, 88, 90, 161, 99, 102, 105, 98, 86, 105, 97, 87, 112, 103, 79, 94, 123, 134, 50, 77, 122, 119, 93, 94, 10, 105, 83, 135, 84, 113, 110, 62, 25, 95, 94, 101, 117, 96, 117, 90, 106, 594, 90, 93, 101, 98, 91, 89, 112, 109, 94, 96, 109, 94, 78, 98, 102, 50, 78, 114, 130, 102, 106, 78, 86, 110, 105, 95, 91, 114, 105, 99, 99, 100, 98, 51, 91, 60, 116, 240, 110, 111, 107, 99, 91, 85, 115, 109, 155, 112, 91, 86, 124, 87, 30, 123, 106, 110, 120, 99, 157, 50, 99, 155, 87, 104, 97, 92, 89, 93, 147, 52, 100, 53, 98, nan, 134, 82, 95, 87, 92, 132, 90, 97, 100, 111, 90, 100, 136, 98, 100, 117, 102, 83, 111, 105, 70, 107, 90, 68, 102, 125, 96, 93, 100, 137, 90, 100, 116, 75, 96, 109, 88, 115, 114, 55, 100, 180, 95, 89, 143, 15, nan, 81, 121, 86, 105, 75, 110, 165, 94, 120, 90, 120, 74, 11, 172, 86, 108, 89, 108, 82, nan, 95, 99, 30, 96, 126, 88, 92, 97, 110, 100, 92, 90, 109, 97, 102, 105, 96, 117, 107, 91, 90, 60, 104, 89, 98, 960, 86, 97, 142, 116, 95, 180, 24, 99, 145, 121, 127, 105, 92, 30, 106, 102, 106, 97, 146, 60, 110, 117, 68, 147, 87, 54, 89, 93, 99, 87, 83, 106, 108, 165, 99, nan, 96, 79, 100, 96, 105, 105, 186, 112, 105, 87, 124, 89, 102, 73, 106, 30, 88, 108, 100, 107, 179, 140, 97, 91, 97, 97, 80, 80, 128, 110, 92, 95, 101, 90, 88, 108, 92, 83, 149, 130, nan, 85, 42, 121, 107, 7, 141, 81, 114, 125, 98, 103, 101, 232, 120, 117, 117, 87, 90, 101, 69, 106, 116, 83, 50, 48, 4, 106, 101, 90, 108, 69, 138, 180, 93, 99, 88, 94, 115, 101, 98, 90, 85, 90, 91, 81, 92, 105, 100, 95, 124, 109, 88, 97, 88, 101, 90, 89, 103, 139, 88, 91, 108, 77, 80, 69, 107, 90, 104, 119, 130, 160, 80, 343, 105, 104, 95, 90, 142, 99, 30, 122, 80, 77, 126, 107, 95, 84, 114, 86, 93, 91, 106, 116, 98, 103, 70, 113, 110, 93, 108, 101, 85, 88, 88, 142, 100, 100, 96, 118, 106, 90, 30, 104, 105, 99, 98, 122, 376, 136, 100, 96, 111, 128, 99, 84, 103, 90, 75, 95, 21, 93, 91, 100, 104, 113, 140, 128, 104, 48, 94, 90, 91, 100, 97, 101, 128, 30, 120, 113, 150, 136, 90, 110, 85, 90, 102, 129, 101, 29, 93, 124, 102, 99, nan, 85, 97, 91, 131, 92, 90, 90, 86, 116, 80, 112, 95, 105, 93, 113, 99, 123, 85, 80, 85, 122, 121, 106, 87, 110, 132, 101, 105, 98, 96, 83, 169, 120, 102, 112, 71, 30, 49, 88, 94, 103, 105, 90, 118, 90, 122, 105, 131, 93, 90, 100, 101, 106, 93, 93, 89, 102, 170, 90, 93, 126, 73, 113, 194, 88, 83, 120, 96, 95, 119, 106, 107, 142, 100, 118, 52, 93, 109, 108, 117, 160, 100, nan, 100, 157, 84, 85, 126, 90, 200, 111, 88, 130, 97, 103, 104, 100, 86, 240, 81, 120, 90, 81, 107, 97, 100, 94, 120, nan, 92, 99, 6, 103, 99, 94, 100, 23, 103, 128, 92, 106, 158, 126, 116, 55, 125, 103, 78, 102, 120, 84, 90, 100, 95, 118, 90, 101, 98, 85, 110, 97, 94, 107, nan, 98, 72, 62, 95, 46, 105, 99, 96, 103, 168, 94, 110, 103, 99, 100, 84, 12, 96, 85, 123, 99, 133, 90, 105, 91, 68, 99, 106, 109, 93, 141, 45, 127, 175, 100, 102, 148, 84, 105, 60, 120, 106, 135, 91, 96, 98, 127, 105, 200, 118, 72, 115, nan, 86, 87, 72, 132, 104, 82, 113, 83, 88, 85, 85, 102, 97, 105, 102, 115, 116, 106, 91, 118, 78, 96, 105, 97, 101, 94, 100, 135, 113, 107, 101, 84, 94, 95, 102, 110, 119, 94, 90, 104, 24, 98, 90, 94, 89, 122, 128, 98, 173, 85, 140, 145, 99, 89, 108, 105, 120, 174, 115, 90, 93, 98, 200, 105, 125, 95, 103, 99, nan, 7, 83, 88, 99, 109, 87, 121, 155, 105, 113, 94, 105, 120, 97, 104, 106, 125, 110, 93, 110, 98, 92, 70, 94, 124, 91, 25, 60, 110, 92, 156, 9, 108, 100, 91, 95, 135, 55, 128, 120, 111, 112, 96, 95, 78, nan, 94, 99, 119, 119, 21, 85, 88, 105, 93, 92, 100, 119, 109, 111, 90, 93, 110, 104, 91, 140, 95, 94, 91, 86, 25, 123, 101, 97, 105, 121, 114, 105, 106, 117, 100, 93, 90, 109, nan, 99, 189, 120, 96, 90, 130, 95, 69, 100, 90, 112, 107, 116, 99, 116, 110, 75, 108, 91, 60, 80, 111, 120, 126, 108, 99, 117, 112, 84, 112, 43, 147, nan, 53, 101, 95, 92, 85, 119, 97, 97, 50, 100, 111, 96, 89, 92, 98, 93, 89, 90, 91, 113, 111, nan, 103, 121, 142, 84, 108, 90, 92, 114, 114, 126, 90, 178, 90, 180, 101, 97, 105, 97, 199, 50, 85, 92, 92, 80, 127, 111, 27, nan, 104, 63, 30, 50, 47, nan, 101, 112, 153, 114, 83, 90, 113, 111, 42, 86, 85, 100, 101, 90, 122, 60, 101, 112, 136, 88, 7, 88, 86, 129, 88, 117, 118, 117, 150, 124, 89, 102, 103, 85, 111, 84, 101, 152, 106, 130, 88, 105, 90, 95, 137, 94, 103, 66, 101, 108, 120, 95, nan, 60, 100, 93, 80, 80, 93, 94, 90, 87, 103, 80, 116, 92, 128, 75, 85, 45, 95, 118, 92, 130, 112, 97, 105, 100, 25, 81, 105, 93, 2, 111, 162, 94, 108, 93, 99, 71, 124, 86, 49, nan, 108, 96, 98, 238, 110, 104, 86, 104, 119, 89, 91, 105, 111, 157, nan, 110, 92, 100, 91, 106, 123, 105, 95, 131, 96, 94, 138, 112, 94, nan, nan, 115, 128, 112, 115, 76, 89, 45, 114, 75, 85, 96, 88, 118, 90, 160, 106, 138, 94, 135, 116, nan, 91, 101, 87, 114, 86, 88, 86, 89, 84, 115, 88, 93, 103, 114, 182, 120, 102, 97, 86, 82, 25, 104, 83, 101, 240, 95, 90, 9, 188, 93, 219, 73, 82, 89, 95, 57, 95, 135, 94, 95, 102, 99, 97, 80, 83, 107, 55, 138, 123, 87, 89, 98, 46, 95, 111, 113, 105, 97, 57, 175, 79, 119, 100, 104, 60, 112, 200, 85, 7, 124, 122, 90, 100, 73, 104, 107, 78, 182, 107, 90, 94, 79, 100, 118, 101, 101, 169, 133, 91, 75, 90, 127, 92, 87, 86, 60, 100, 83, 88, 70, 91, 102, 101, 94, 95, 22, 112, 91, 111, 120, 108, 15, 89, 100, 106, 109, 105, 103, 96, 102, 95, 89, 109, 130, 101, 25, 84, 107, 100, 194, 108, 90, 106, 98, 96, 90, 97, 85, 112, 126, 25, 185, 108, 133, 92, 325, 107, 95, 85, 86, 139, 117, 83, 109, 84, 111, 131, 90, 108, 105, 52, 98, nan, 98, 77, 210, 72, 97, 94, 100, 88, 162, 108, 129, 88, 133, 180, 127, 30, 84, 94, 60, 127, 105, 73, nan, 87, 44, 94, 113, 95, 88, 117, 79, 75, 106, 122, 92, 71, 93, 103, 90, 24, 130, 85, 82, 85, 120, 93, 112, 114, 93, 100, 102, 107, 91, 132, 90, 98, 105, 106, 96, 89, 98, 110, 88, 108, 93, 66, 123, 163, 85, 112, 60, 113, nan, 88, 60, 113, 93, 91, 116, 104, 96, 92, 10, 113, 96, 110, 95, 100, 122, 127, 85, 100, 105, 60, 137, 80, 110, 96, 101, 108, 122, 101, 116, 95, 117, 86, 120, 93, 119, 88, 108, 87, 91, 112, 100, 87, 84, nan, 119, 108, 174, 94, 91, 97, 85, 130, 104, 100, 110, 88, 98, 105, 115, 90, 96, 84, 84, 109, 144, 60, 79, 84, 100, 94, 88, 123, 100, 180, 89, 90, 100, 101, nan, 197, 96, 190, 98, 135, 98, 93, 125, 114, 169, 106, 96, 116, 104, 104, 131, 105, 143, 61, 101, 115, 117, 111, 93, 93, 110, 104, 97, 94, 128, 105, 123, 181, nan, 90, 77, 161, 103, 120, 113, 86, 95, 71, 86, 98, 93, 89, 60, 140, 69, nan, nan, 96, 90, 116, 122, 45, 110, 85, 127, 91, 107, 103, 60, 88, 80, 111, 99, 112, 112, 106, 86, 30, nan, 100, 92, 99, 88, 43, 119, 96, 92, 84, 100, 102, 97, 96, 96, 78, 96, nan, 90, 95, 119, 45, 108, 91, 126, 110, 93, 116, 86, 60, 94, 85, 90, 110, 101, 95, 87, 92, 96, 92, 91, 110, 46, 68, 202, 102, 64, 98, 118, 50, nan, 90, 103, 53, 145, 98, 99, 153, 101, 116, 79, 90, 95, 97, 67, 125, 105, 84, 86, 128, 83, 44, 105, 106, 97, 97, nan, nan, 110, 96, 70, 105, 125, 93, 135, 131, 111, 116, 98, 720, 135, 110, 107, 101, 89, nan, 99, 105, 85, 112, 97, 95, 121, 112, 74, nan, 124, 147, 77, 81, 75, 95, 126, 92, 100, 21, 110, 142, 30, 145, 97, 103, 180, 135, 77, nan, 96, 80, 25, 110, 80, 113, 101, 95, 90, 116, 91, 86, 85, 102, 83, 29, 85, 60, 90, 84, 116, 100, 101, 102, nan, 105, 93, 93, 95, 107, 86, 140, 125, 93, 124, 101, 81, 102, 115, 97, 1, 101, 83, 90, 99, 87, 45, 109, 103, 111, 54, 98, 83, 89, 179, 111, 139, 102, 85, 80, 75, 132, 106, 78, 38, 89, 100, 98, 91, 127, 137, 98, 121, 102, 104, 102, 113, 88, 131, 95, nan, 105, 110, 123, 106, 50, 122, 50, 176, 107, 120, 98, 88, 93, 108, 98, 101, 105, 90, 83, 153, 88, 90, 78, 110, 125, 101, 90, 95, 111, 98, 6, nan, 135, 102, 106, 93, 107, 84, 90, 112, 129, 87, 88, 96, 101, 87, 95, 90, 75, 155, 600, 119, 90, 100, 90, nan, 97, 94, 119, 136, 86, 95, 117, 60, 152, 80, 90, 138, 117, 76, 119, 92, 102, 43, 101, 60, 96, 105, 93, nan, 120, 87, 91, 87, 673, 94, 139, 86, 90, 94, 78, 108, 119, 170, 105, 117, 95, 98, 111, 30, 114, 106, 79, 92, 86, 107, 107, 96, 91]\n"
          ],
          "name": "stdout"
        }
      ]
    },
    {
      "cell_type": "code",
      "metadata": {
        "id": "Z6x-zqm-FzQD",
        "colab_type": "code",
        "outputId": "ebfa0700-7549-4b24-d70e-352bcd5fc1c3",
        "colab": {
          "base_uri": "https://localhost:8080/",
          "height": 34
        }
      },
      "source": [
        "movie_list['Rating'].corr(movie_list['runtime'])"
      ],
      "execution_count": 0,
      "outputs": [
        {
          "output_type": "execute_result",
          "data": {
            "text/plain": [
              "0.16147599245289287"
            ]
          },
          "metadata": {
            "tags": []
          },
          "execution_count": 77
        }
      ]
    },
    {
      "cell_type": "code",
      "metadata": {
        "id": "Tghb1WE3GHNi",
        "colab_type": "code",
        "colab": {}
      },
      "source": [
        "movie_list.isnull().any()\n",
        "movie_list=movie_list.iloc[:,2:]"
      ],
      "execution_count": 0,
      "outputs": []
    },
    {
      "cell_type": "code",
      "metadata": {
        "id": "P6eTI--rHZ3T",
        "colab_type": "code",
        "colab": {}
      },
      "source": [
        "movie_list['movie_year_netflix']=movie_list['movie_year_netflix'].fillna('ffill')"
      ],
      "execution_count": 0,
      "outputs": []
    },
    {
      "cell_type": "code",
      "metadata": {
        "id": "b9TEf1VLIRaT",
        "colab_type": "code",
        "outputId": "da3f7e48-8fe9-4fcc-c3a7-1c13cb713e4a",
        "colab": {
          "base_uri": "https://localhost:8080/",
          "height": 799
        }
      },
      "source": [
        "movie_list.isnull().any()"
      ],
      "execution_count": 0,
      "outputs": [
        {
          "output_type": "execute_result",
          "data": {
            "text/plain": [
              "imdb_rating                    False\n",
              "imdb_votes                     False\n",
              "movie_id                       False\n",
              "movie_year_netflix             False\n",
              "rated                          False\n",
              "runtime                        False\n",
              "Documentary                    False\n",
              "Crime                          False\n",
              "Musical                        False\n",
              "Sci-Fi                         False\n",
              "Comedy                         False\n",
              "Talk-Show                      False\n",
              "History                        False\n",
              "Game-Show                      False\n",
              "Music                          False\n",
              "Short                          False\n",
              "Reality-TV                     False\n",
              "News                           False\n",
              "Adult                          False\n",
              "Family                         False\n",
              "Biography                      False\n",
              "Western                        False\n",
              "War                            False\n",
              "Horror                         False\n",
              "Sport                          False\n",
              "Adventure                      False\n",
              "Romance                        False\n",
              "Action                         False\n",
              "Thriller                       False\n",
              "Drama                          False\n",
              "Film-Noir                      False\n",
              "Fantasy                        False\n",
              "Animation                      False\n",
              "Mystery                        False\n",
              "Primetime Emmy Won             False\n",
              "Primetime Emmy Nomination      False\n",
              "Oscar Won                      False\n",
              "Oscar Nomination               False\n",
              "Golden Globe Won               False\n",
              "Golden Globe Nomination        False\n",
              "BAFTA Film Award Won           False\n",
              "BAFTA Film Award Nomination    False\n",
              "Other wins                     False\n",
              "Other nominations              False\n",
              "Rating                         False\n",
              "dtype: bool"
            ]
          },
          "metadata": {
            "tags": []
          },
          "execution_count": 87
        }
      ]
    },
    {
      "cell_type": "code",
      "metadata": {
        "id": "mLUZofffImtT",
        "colab_type": "code",
        "colab": {}
      },
      "source": [
        "movie_list.to_csv('/content/gdrive/My Drive/Reccommendation System/classifier_final_df.csv')"
      ],
      "execution_count": 0,
      "outputs": []
    },
    {
      "cell_type": "code",
      "metadata": {
        "id": "RCoEnF_aJ_nF",
        "colab_type": "code",
        "outputId": "ed33fa7b-2df5-4ad0-9688-7eff616384cb",
        "colab": {
          "base_uri": "https://localhost:8080/",
          "height": 204
        }
      },
      "source": [
        "movie_list.columns"
      ],
      "execution_count": 0,
      "outputs": [
        {
          "output_type": "execute_result",
          "data": {
            "text/plain": [
              "Index(['imdb_rating', 'imdb_votes', 'movie_id', 'movie_year_netflix', 'rated',\n",
              "       'runtime', 'Documentary', 'Crime', 'Musical', 'Sci-Fi', 'Comedy',\n",
              "       'Talk-Show', 'History', 'Game-Show', 'Music', 'Short', 'Reality-TV',\n",
              "       'News', 'Adult', 'Family', 'Biography', 'Western', 'War', 'Horror',\n",
              "       'Sport', 'Adventure', 'Romance', 'Action', 'Thriller', 'Drama',\n",
              "       'Film-Noir', 'Fantasy', 'Animation', 'Mystery', 'Primetime Emmy Won',\n",
              "       'Primetime Emmy Nomination', 'Oscar Won', 'Oscar Nomination',\n",
              "       'Golden Globe Won', 'Golden Globe Nomination', 'BAFTA Film Award Won',\n",
              "       'BAFTA Film Award Nomination', 'Other wins', 'Other nominations',\n",
              "       'Rating'],\n",
              "      dtype='object')"
            ]
          },
          "metadata": {
            "tags": []
          },
          "execution_count": 90
        }
      ]
    },
    {
      "cell_type": "code",
      "metadata": {
        "id": "oSpjtkEDKXvr",
        "colab_type": "code",
        "colab": {}
      },
      "source": [
        "drop=['Primetime Emmy Won',\n",
        "       'Primetime Emmy Nomination', 'Oscar Won', 'Oscar Nomination',\n",
        "       'Golden Globe Won', 'Golden Globe Nomination', 'BAFTA Film Award Won',\n",
        "       'BAFTA Film Award Nomination', 'Other wins', 'Other nominations']\n",
        "       "
      ],
      "execution_count": 0,
      "outputs": []
    },
    {
      "cell_type": "code",
      "metadata": {
        "id": "KOslWatgLKTX",
        "colab_type": "code",
        "colab": {}
      },
      "source": [
        "movie_list=movie_list.drop(drop,axis=1)"
      ],
      "execution_count": 0,
      "outputs": []
    },
    {
      "cell_type": "code",
      "metadata": {
        "id": "vRTY0MRCLzHD",
        "colab_type": "code",
        "colab": {}
      },
      "source": [
        "#movie_list.head()\n",
        "ls=['Documentary', 'Crime', 'Musical', 'Sci-Fi', 'Comedy',\n",
        "       'Talk-Show', 'History', 'Game-Show', 'Music', 'Short', 'Reality-TV',\n",
        "       'News', 'Adult', 'Family', 'Biography', 'Western', 'War', 'Horror',\n",
        "       'Sport', 'Adventure', 'Romance', 'Action', 'Thriller', 'Drama',\n",
        "       'Film-Noir', 'Fantasy', 'Animation', 'Mystery']\n",
        "movie_list[ls]=movie_list.iloc[:,6:-1].replace({True:1,False:0})"
      ],
      "execution_count": 0,
      "outputs": []
    },
    {
      "cell_type": "code",
      "metadata": {
        "id": "_CucbtedNXt7",
        "colab_type": "code",
        "outputId": "f60380af-6e93-4994-d4c6-ab6c54c25140",
        "colab": {
          "base_uri": "https://localhost:8080/",
          "height": 241
        }
      },
      "source": [
        "movie_list.head()"
      ],
      "execution_count": 0,
      "outputs": [
        {
          "output_type": "execute_result",
          "data": {
            "text/html": [
              "<div>\n",
              "<style scoped>\n",
              "    .dataframe tbody tr th:only-of-type {\n",
              "        vertical-align: middle;\n",
              "    }\n",
              "\n",
              "    .dataframe tbody tr th {\n",
              "        vertical-align: top;\n",
              "    }\n",
              "\n",
              "    .dataframe thead th {\n",
              "        text-align: right;\n",
              "    }\n",
              "</style>\n",
              "<table border=\"1\" class=\"dataframe\">\n",
              "  <thead>\n",
              "    <tr style=\"text-align: right;\">\n",
              "      <th></th>\n",
              "      <th>imdb_rating</th>\n",
              "      <th>imdb_votes</th>\n",
              "      <th>movie_id</th>\n",
              "      <th>movie_year_netflix</th>\n",
              "      <th>rated</th>\n",
              "      <th>runtime</th>\n",
              "      <th>Documentary</th>\n",
              "      <th>Crime</th>\n",
              "      <th>Musical</th>\n",
              "      <th>Sci-Fi</th>\n",
              "      <th>Comedy</th>\n",
              "      <th>Talk-Show</th>\n",
              "      <th>History</th>\n",
              "      <th>Game-Show</th>\n",
              "      <th>Music</th>\n",
              "      <th>Short</th>\n",
              "      <th>Reality-TV</th>\n",
              "      <th>News</th>\n",
              "      <th>Adult</th>\n",
              "      <th>Family</th>\n",
              "      <th>Biography</th>\n",
              "      <th>Western</th>\n",
              "      <th>War</th>\n",
              "      <th>Horror</th>\n",
              "      <th>Sport</th>\n",
              "      <th>Adventure</th>\n",
              "      <th>Romance</th>\n",
              "      <th>Action</th>\n",
              "      <th>Thriller</th>\n",
              "      <th>Drama</th>\n",
              "      <th>Film-Noir</th>\n",
              "      <th>Fantasy</th>\n",
              "      <th>Animation</th>\n",
              "      <th>Mystery</th>\n",
              "      <th>Rating</th>\n",
              "    </tr>\n",
              "  </thead>\n",
              "  <tbody>\n",
              "    <tr>\n",
              "      <th>0</th>\n",
              "      <td>7.7</td>\n",
              "      <td>410.0</td>\n",
              "      <td>1</td>\n",
              "      <td>2003</td>\n",
              "      <td>R</td>\n",
              "      <td>50.0</td>\n",
              "      <td>1</td>\n",
              "      <td>0</td>\n",
              "      <td>0</td>\n",
              "      <td>0</td>\n",
              "      <td>0</td>\n",
              "      <td>0</td>\n",
              "      <td>0</td>\n",
              "      <td>0</td>\n",
              "      <td>0</td>\n",
              "      <td>0</td>\n",
              "      <td>0</td>\n",
              "      <td>0</td>\n",
              "      <td>0</td>\n",
              "      <td>1</td>\n",
              "      <td>0</td>\n",
              "      <td>0</td>\n",
              "      <td>0</td>\n",
              "      <td>0</td>\n",
              "      <td>0</td>\n",
              "      <td>0</td>\n",
              "      <td>0</td>\n",
              "      <td>0</td>\n",
              "      <td>0</td>\n",
              "      <td>0</td>\n",
              "      <td>0</td>\n",
              "      <td>0</td>\n",
              "      <td>1</td>\n",
              "      <td>0</td>\n",
              "      <td>3.749543</td>\n",
              "    </tr>\n",
              "    <tr>\n",
              "      <th>1</th>\n",
              "      <td>7.7</td>\n",
              "      <td>10015.0</td>\n",
              "      <td>3</td>\n",
              "      <td>1997</td>\n",
              "      <td>R</td>\n",
              "      <td>122.0</td>\n",
              "      <td>0</td>\n",
              "      <td>1</td>\n",
              "      <td>0</td>\n",
              "      <td>0</td>\n",
              "      <td>0</td>\n",
              "      <td>0</td>\n",
              "      <td>0</td>\n",
              "      <td>0</td>\n",
              "      <td>0</td>\n",
              "      <td>0</td>\n",
              "      <td>0</td>\n",
              "      <td>0</td>\n",
              "      <td>0</td>\n",
              "      <td>0</td>\n",
              "      <td>0</td>\n",
              "      <td>0</td>\n",
              "      <td>0</td>\n",
              "      <td>0</td>\n",
              "      <td>0</td>\n",
              "      <td>0</td>\n",
              "      <td>0</td>\n",
              "      <td>0</td>\n",
              "      <td>0</td>\n",
              "      <td>1</td>\n",
              "      <td>0</td>\n",
              "      <td>0</td>\n",
              "      <td>0</td>\n",
              "      <td>1</td>\n",
              "      <td>3.641153</td>\n",
              "    </tr>\n",
              "    <tr>\n",
              "      <th>2</th>\n",
              "      <td>6.2</td>\n",
              "      <td>39.0</td>\n",
              "      <td>6</td>\n",
              "      <td>1997</td>\n",
              "      <td>R</td>\n",
              "      <td>15.0</td>\n",
              "      <td>0</td>\n",
              "      <td>0</td>\n",
              "      <td>0</td>\n",
              "      <td>0</td>\n",
              "      <td>0</td>\n",
              "      <td>0</td>\n",
              "      <td>0</td>\n",
              "      <td>0</td>\n",
              "      <td>0</td>\n",
              "      <td>1</td>\n",
              "      <td>0</td>\n",
              "      <td>0</td>\n",
              "      <td>0</td>\n",
              "      <td>0</td>\n",
              "      <td>0</td>\n",
              "      <td>0</td>\n",
              "      <td>0</td>\n",
              "      <td>0</td>\n",
              "      <td>0</td>\n",
              "      <td>0</td>\n",
              "      <td>0</td>\n",
              "      <td>0</td>\n",
              "      <td>0</td>\n",
              "      <td>1</td>\n",
              "      <td>0</td>\n",
              "      <td>0</td>\n",
              "      <td>0</td>\n",
              "      <td>0</td>\n",
              "      <td>3.084396</td>\n",
              "    </tr>\n",
              "    <tr>\n",
              "      <th>3</th>\n",
              "      <td>5.0</td>\n",
              "      <td>62.0</td>\n",
              "      <td>7</td>\n",
              "      <td>1992</td>\n",
              "      <td>R</td>\n",
              "      <td>83.0</td>\n",
              "      <td>0</td>\n",
              "      <td>0</td>\n",
              "      <td>0</td>\n",
              "      <td>1</td>\n",
              "      <td>0</td>\n",
              "      <td>0</td>\n",
              "      <td>0</td>\n",
              "      <td>0</td>\n",
              "      <td>0</td>\n",
              "      <td>0</td>\n",
              "      <td>0</td>\n",
              "      <td>0</td>\n",
              "      <td>0</td>\n",
              "      <td>0</td>\n",
              "      <td>0</td>\n",
              "      <td>0</td>\n",
              "      <td>0</td>\n",
              "      <td>0</td>\n",
              "      <td>0</td>\n",
              "      <td>0</td>\n",
              "      <td>0</td>\n",
              "      <td>1</td>\n",
              "      <td>0</td>\n",
              "      <td>0</td>\n",
              "      <td>0</td>\n",
              "      <td>0</td>\n",
              "      <td>0</td>\n",
              "      <td>0</td>\n",
              "      <td>2.129032</td>\n",
              "    </tr>\n",
              "    <tr>\n",
              "      <th>4</th>\n",
              "      <td>6.5</td>\n",
              "      <td>1394.0</td>\n",
              "      <td>10</td>\n",
              "      <td>2001</td>\n",
              "      <td>R</td>\n",
              "      <td>100.0</td>\n",
              "      <td>0</td>\n",
              "      <td>0</td>\n",
              "      <td>0</td>\n",
              "      <td>0</td>\n",
              "      <td>0</td>\n",
              "      <td>0</td>\n",
              "      <td>0</td>\n",
              "      <td>0</td>\n",
              "      <td>0</td>\n",
              "      <td>0</td>\n",
              "      <td>0</td>\n",
              "      <td>0</td>\n",
              "      <td>0</td>\n",
              "      <td>0</td>\n",
              "      <td>0</td>\n",
              "      <td>0</td>\n",
              "      <td>0</td>\n",
              "      <td>0</td>\n",
              "      <td>0</td>\n",
              "      <td>0</td>\n",
              "      <td>0</td>\n",
              "      <td>1</td>\n",
              "      <td>0</td>\n",
              "      <td>1</td>\n",
              "      <td>0</td>\n",
              "      <td>0</td>\n",
              "      <td>0</td>\n",
              "      <td>0</td>\n",
              "      <td>3.180723</td>\n",
              "    </tr>\n",
              "  </tbody>\n",
              "</table>\n",
              "</div>"
            ],
            "text/plain": [
              "   imdb_rating  imdb_votes  movie_id  ... Animation Mystery    Rating\n",
              "0          7.7       410.0         1  ...         1       0  3.749543\n",
              "1          7.7     10015.0         3  ...         0       1  3.641153\n",
              "2          6.2        39.0         6  ...         0       0  3.084396\n",
              "3          5.0        62.0         7  ...         0       0  2.129032\n",
              "4          6.5      1394.0        10  ...         0       0  3.180723\n",
              "\n",
              "[5 rows x 35 columns]"
            ]
          },
          "metadata": {
            "tags": []
          },
          "execution_count": 98
        }
      ]
    },
    {
      "cell_type": "markdown",
      "metadata": {
        "id": "zxt5azhWh10_",
        "colab_type": "text"
      },
      "source": [
        ""
      ]
    },
    {
      "cell_type": "code",
      "metadata": {
        "id": "gttfzBIEOGfo",
        "colab_type": "code",
        "colab": {}
      },
      "source": [
        "movie_list.to_csv('/content/gdrive/My Drive/Reccommendation System/classifier_final_df.csv')"
      ],
      "execution_count": 0,
      "outputs": []
    },
    {
      "cell_type": "code",
      "metadata": {
        "id": "VVaOlEXYzx7g",
        "colab_type": "code",
        "outputId": "0330bfd7-9c09-48f9-a78e-150910e96e68",
        "colab": {
          "base_uri": "https://localhost:8080/",
          "height": 63
        }
      },
      "source": [
        "import pandas as pd\n",
        "import tensorflow as tf\n",
        "from tensorflow.keras.layers import Dense, Activation\n",
        "from tensorflow.keras.models import Sequential\n",
        "from sklearn.model_selection import train_test_split"
      ],
      "execution_count": 0,
      "outputs": [
        {
          "output_type": "display_data",
          "data": {
            "text/html": [
              "<p style=\"color: red;\">\n",
              "The default version of TensorFlow in Colab will soon switch to TensorFlow 2.x.<br>\n",
              "We recommend you <a href=\"https://www.tensorflow.org/guide/migrate\" target=\"_blank\">upgrade</a> now \n",
              "or ensure your notebook will continue to use TensorFlow 1.x via the <code>%tensorflow_version 1.x</code> magic:\n",
              "<a href=\"https://colab.research.google.com/notebooks/tensorflow_version.ipynb\" target=\"_blank\">more info</a>.</p>\n"
            ],
            "text/plain": [
              "<IPython.core.display.HTML object>"
            ]
          },
          "metadata": {
            "tags": []
          }
        }
      ]
    },
    {
      "cell_type": "code",
      "metadata": {
        "id": "qYGznUHi1FYf",
        "colab_type": "code",
        "outputId": "3d3ec2fd-c736-45e1-a40f-4ea66d07ff6e",
        "colab": {
          "base_uri": "https://localhost:8080/",
          "height": 714
        }
      },
      "source": [
        "movie_list=pd.read_csv('/content/gdrive/My Drive/Reccommendation System/final_dataset.csv')\n",
        "xtrain, xtest, ytrain, ytest = train_test_split(movie_list.iloc[:,:-1].values,movie_list.iloc[:,-1].values, test_size=0.3)\n",
        "xtrain, xval, ytrain, yval=train_test_split(xtrain,ytrain,test_size=0.2)\n",
        "print(type(xtrain))\n",
        "print(xtrain.shape)\n",
        "print(xval.shape)\n",
        "print(ytrain.shape)\n",
        "print(yval.shape)\n",
        "model=Sequential() #sequential type model is used here for the feedforward network\n",
        "model.add(Dense(30,input_shape=xtrain[0].shape,activation='sigmoid')) #This is the first hidden layer, here the input shape is mentioned\n",
        "model.add(Dense(30,activation='sigmoid')) #In each dense layer, the seed is kept at 30,for reproducability\n",
        "model.add(Dense(1,activation='linear')) #For the output layer , the activation function is sigmoid and the output neuron is 1 for binary classification\n",
        "model.summary()   #This gives the summary of the model\n",
        "model.compile(loss='mse',optimizer='adam',metrics=['mse']) #here  metrics and the optimizer are defined\n",
        "model.fit(xtrain,ytrain,batch_size=4,epochs=10,verbose=2,validation_data=(xval,yval))"
      ],
      "execution_count": 0,
      "outputs": [
        {
          "output_type": "stream",
          "text": [
            "<class 'numpy.ndarray'>\n",
            "(7043, 54)\n",
            "(1761, 54)\n",
            "(7043,)\n",
            "(1761,)\n",
            "Model: \"sequential_16\"\n",
            "_________________________________________________________________\n",
            "Layer (type)                 Output Shape              Param #   \n",
            "=================================================================\n",
            "dense_43 (Dense)             (None, 30)                1650      \n",
            "_________________________________________________________________\n",
            "dense_44 (Dense)             (None, 30)                930       \n",
            "_________________________________________________________________\n",
            "dense_45 (Dense)             (None, 1)                 31        \n",
            "=================================================================\n",
            "Total params: 2,611\n",
            "Trainable params: 2,611\n",
            "Non-trainable params: 0\n",
            "_________________________________________________________________\n",
            "Train on 7043 samples, validate on 1761 samples\n",
            "Epoch 1/10\n",
            "7043/7043 - 4s - loss: 0.6223 - mean_squared_error: 0.6223 - val_loss: 0.2135 - val_mean_squared_error: 0.2135\n",
            "Epoch 2/10\n",
            "7043/7043 - 4s - loss: 0.2187 - mean_squared_error: 0.2187 - val_loss: 0.2070 - val_mean_squared_error: 0.2070\n",
            "Epoch 3/10\n",
            "7043/7043 - 4s - loss: 0.2156 - mean_squared_error: 0.2156 - val_loss: 0.2105 - val_mean_squared_error: 0.2105\n",
            "Epoch 4/10\n",
            "7043/7043 - 4s - loss: 0.2138 - mean_squared_error: 0.2138 - val_loss: 0.2060 - val_mean_squared_error: 0.2060\n",
            "Epoch 5/10\n",
            "7043/7043 - 4s - loss: 0.2129 - mean_squared_error: 0.2129 - val_loss: 0.2017 - val_mean_squared_error: 0.2017\n",
            "Epoch 6/10\n",
            "7043/7043 - 4s - loss: 0.2129 - mean_squared_error: 0.2129 - val_loss: 0.2064 - val_mean_squared_error: 0.2064\n",
            "Epoch 7/10\n",
            "7043/7043 - 4s - loss: 0.2108 - mean_squared_error: 0.2108 - val_loss: 0.2005 - val_mean_squared_error: 0.2005\n",
            "Epoch 8/10\n",
            "7043/7043 - 4s - loss: 0.2106 - mean_squared_error: 0.2106 - val_loss: 0.1986 - val_mean_squared_error: 0.1986\n",
            "Epoch 9/10\n",
            "7043/7043 - 4s - loss: 0.2090 - mean_squared_error: 0.2090 - val_loss: 0.2156 - val_mean_squared_error: 0.2156\n",
            "Epoch 10/10\n",
            "7043/7043 - 4s - loss: 0.2078 - mean_squared_error: 0.2078 - val_loss: 0.1964 - val_mean_squared_error: 0.1964\n"
          ],
          "name": "stdout"
        },
        {
          "output_type": "execute_result",
          "data": {
            "text/plain": [
              "<tensorflow.python.keras.callbacks.History at 0x7fc0103114a8>"
            ]
          },
          "metadata": {
            "tags": []
          },
          "execution_count": 73
        }
      ]
    },
    {
      "cell_type": "code",
      "metadata": {
        "id": "SAOHR0yZEBP_",
        "colab_type": "code",
        "colab": {}
      },
      "source": [
        "ypred=model.predict(xtest)"
      ],
      "execution_count": 0,
      "outputs": []
    },
    {
      "cell_type": "code",
      "metadata": {
        "id": "ItqLolkGEwXN",
        "colab_type": "code",
        "outputId": "e09b3a5c-3bd2-496d-c897-3eb224ab29c0",
        "colab": {
          "base_uri": "https://localhost:8080/",
          "height": 357
        }
      },
      "source": [
        "import numpy as np\n",
        "print(xtest)\n",
        "print(ypred)"
      ],
      "execution_count": 0,
      "outputs": [
        {
          "output_type": "stream",
          "text": [
            "[[9.86951505e-03 2.19934280e-05 8.93599237e-03 ... 0.00000000e+00\n",
            "  0.00000000e+00 0.00000000e+00]\n",
            " [7.97673134e-03 1.90518070e-04 8.93599237e-03 ... 0.00000000e+00\n",
            "  0.00000000e+00 0.00000000e+00]\n",
            " [1.13567022e-02 9.80540333e-05 8.98089686e-03 ... 0.00000000e+00\n",
            "  0.00000000e+00 0.00000000e+00]\n",
            " ...\n",
            " [7.70633367e-03 1.86362229e-02 8.80127892e-03 ... 0.00000000e+00\n",
            "  0.00000000e+00 0.00000000e+00]\n",
            " [8.11193017e-03 2.73515769e-03 8.89108789e-03 ... 0.00000000e+00\n",
            "  0.00000000e+00 0.00000000e+00]\n",
            " [7.03033948e-03 1.29761225e-04 8.93599237e-03 ... 0.00000000e+00\n",
            "  0.00000000e+00 0.00000000e+00]]\n",
            "[[3.031009 ]\n",
            " [3.0046377]\n",
            " [3.4075005]\n",
            " ...\n",
            " [3.181159 ]\n",
            " [3.1704838]\n",
            " [3.217109 ]]\n"
          ],
          "name": "stdout"
        }
      ]
    },
    {
      "cell_type": "code",
      "metadata": {
        "id": "36D4SKtrsI7C",
        "colab_type": "code",
        "outputId": "54fc1395-ce6f-48fb-8b6f-0cdf29a9c54a",
        "colab": {
          "base_uri": "https://localhost:8080/",
          "height": 221
        }
      },
      "source": [
        "movie_list.isnull().any()"
      ],
      "execution_count": 0,
      "outputs": [
        {
          "output_type": "execute_result",
          "data": {
            "text/plain": [
              "imdb_rating           False\n",
              "imdb_votes            False\n",
              "movie_id              False\n",
              "movie_year_netflix     True\n",
              "runtime               False\n",
              "                      ...  \n",
              "TV-Y7-FV              False\n",
              "UNRATED               False\n",
              "Unrated               False\n",
              "X                     False\n",
              "Rating                False\n",
              "Length: 61, dtype: bool"
            ]
          },
          "metadata": {
            "tags": []
          },
          "execution_count": 64
        }
      ]
    },
    {
      "cell_type": "code",
      "metadata": {
        "id": "sUmjmGFMHkNH",
        "colab_type": "code",
        "outputId": "c01b3d9a-b59d-4673-b8d8-2c5e9af07937",
        "colab": {
          "base_uri": "https://localhost:8080/",
          "height": 272
        }
      },
      "source": [
        "print(ypred.shape)\n",
        "ytest=ytest.reshape((ytest.shape[0],1))\n",
        "print(ytest.shape)\n",
        "print(ypred,ytest)\n",
        "data=np.hstack((ypred,ytest))\n",
        "data_predicted_actual=pd.DataFrame(data,columns=['Predicted','Actual'])\n",
        "data_predicted_actual.to_csv('/content/gdrive/My Drive/Reccommendation System/nnpred.csv',index=None)"
      ],
      "execution_count": 0,
      "outputs": [
        {
          "output_type": "stream",
          "text": [
            "(3774, 1)\n",
            "(3774, 1)\n",
            "[[3.031009 ]\n",
            " [3.0046377]\n",
            " [3.4075005]\n",
            " ...\n",
            " [3.181159 ]\n",
            " [3.1704838]\n",
            " [3.217109 ]] [[3.04195804]\n",
            " [3.15544872]\n",
            " [3.92191977]\n",
            " ...\n",
            " [3.56069555]\n",
            " [3.140625  ]\n",
            " [2.91212121]]\n"
          ],
          "name": "stdout"
        }
      ]
    },
    {
      "cell_type": "code",
      "metadata": {
        "id": "sU74Zm8XTqPe",
        "colab_type": "code",
        "outputId": "651cd43e-3e94-4738-c8dd-75476a90dffb",
        "colab": {
          "base_uri": "https://localhost:8080/",
          "height": 68
        }
      },
      "source": [
        "import xgboost as xgb\n",
        "from sklearn.metrics import mean_squared_error\n",
        "import numpy as np\n",
        "xg_reg = xgb.XGBRegressor(objective ='reg:linear', colsample_bytree = 0.5, learning_rate = 0.5,\n",
        "                max_depth = 5, alpha = 10, n_estimators = 50)\n",
        "\n",
        "xg_reg.fit(xtrain,ytrain)\n",
        "preds = xg_reg.predict(xtest)\n",
        "preds_train = xg_reg.predict(xtrain)\n",
        "\n",
        "rmse = np.sqrt(mean_squared_error(ytest, preds))\n",
        "rmse_train = np.sqrt(mean_squared_error(ytrain, preds_train))\n",
        "print(\"RMSE: %f\" % (rmse))\n",
        "print(\"RMSE_TRAIN: %f\" % (rmse_train))\n",
        "ytest=ytest.reshape((ytest.shape[0],1))\n",
        "data_xg=np.hstack((ypred,ytest))\n",
        "data_predicted_actual=pd.DataFrame(data_xg,columns=['Predicted','Actual'])\n",
        "\n",
        "data_predicted_actual.to_csv('/content/gdrive/My Drive/Reccommendation System/xgpred.csv',index=None)\n"
      ],
      "execution_count": 0,
      "outputs": [
        {
          "output_type": "stream",
          "text": [
            "[07:00:29] WARNING: /workspace/src/objective/regression_obj.cu:152: reg:linear is now deprecated in favor of reg:squarederror.\n",
            "RMSE: 0.335943\n",
            "RMSE_TRAIN: 0.261801\n"
          ],
          "name": "stdout"
        }
      ]
    },
    {
      "cell_type": "code",
      "metadata": {
        "id": "3dvjx04dYEMG",
        "colab_type": "code",
        "colab": {}
      },
      "source": [
        "\n",
        "from sklearn.cluster import KMeans\n",
        "\n",
        "# TODO: Create an instance of KMeans to find two clusters\n",
        "kmeans_1 = KMeans(n_clusters=4)\n",
        "arr=kmeans_1.fit_predict(movie_list.iloc[:,:-1].values)"
      ],
      "execution_count": 0,
      "outputs": []
    },
    {
      "cell_type": "code",
      "metadata": {
        "id": "9We6-XXvly-X",
        "colab_type": "code",
        "colab": {}
      },
      "source": [
        "len(arr)\n",
        "np.savetxt(\"/content/gdrive/My Drive/Reccommendation System/cluster.csv\", arr)"
      ],
      "execution_count": 0,
      "outputs": []
    },
    {
      "cell_type": "code",
      "metadata": {
        "id": "BzyDS_ZytPZa",
        "colab_type": "code",
        "outputId": "a6df7141-2f64-4c06-8ee8-7ff2b2b6427a",
        "colab": {
          "base_uri": "https://localhost:8080/",
          "height": 221
        }
      },
      "source": [
        "movie_list.isnull().any()"
      ],
      "execution_count": 0,
      "outputs": [
        {
          "output_type": "execute_result",
          "data": {
            "text/plain": [
              "imdb_rating           False\n",
              "imdb_votes            False\n",
              "movie_id              False\n",
              "movie_year_netflix     True\n",
              "runtime               False\n",
              "                      ...  \n",
              "TV-Y7-FV              False\n",
              "UNRATED               False\n",
              "Unrated               False\n",
              "X                     False\n",
              "Rating                False\n",
              "Length: 61, dtype: bool"
            ]
          },
          "metadata": {
            "tags": []
          },
          "execution_count": 65
        }
      ]
    },
    {
      "cell_type": "code",
      "metadata": {
        "id": "LA8ZDIgrskG4",
        "colab_type": "code",
        "colab": {}
      },
      "source": [
        "movie_list['movie_year_netflix']=movie_list['movie_year_netflix'].fillna(method='ffill')"
      ],
      "execution_count": 0,
      "outputs": []
    },
    {
      "cell_type": "code",
      "metadata": {
        "id": "A5b7pXSK3anI",
        "colab_type": "code",
        "outputId": "1c6f42bb-038e-4761-ccf2-d227415a0b33",
        "colab": {
          "base_uri": "https://localhost:8080/",
          "height": 258
        }
      },
      "source": [
        "movie_list.head()"
      ],
      "execution_count": 0,
      "outputs": [
        {
          "output_type": "execute_result",
          "data": {
            "text/html": [
              "<div>\n",
              "<style scoped>\n",
              "    .dataframe tbody tr th:only-of-type {\n",
              "        vertical-align: middle;\n",
              "    }\n",
              "\n",
              "    .dataframe tbody tr th {\n",
              "        vertical-align: top;\n",
              "    }\n",
              "\n",
              "    .dataframe thead th {\n",
              "        text-align: right;\n",
              "    }\n",
              "</style>\n",
              "<table border=\"1\" class=\"dataframe\">\n",
              "  <thead>\n",
              "    <tr style=\"text-align: right;\">\n",
              "      <th></th>\n",
              "      <th>imdb_rating</th>\n",
              "      <th>imdb_votes</th>\n",
              "      <th>movie_id</th>\n",
              "      <th>movie_year_netflix</th>\n",
              "      <th>runtime</th>\n",
              "      <th>Documentary</th>\n",
              "      <th>Crime</th>\n",
              "      <th>Musical</th>\n",
              "      <th>Sci-Fi</th>\n",
              "      <th>Comedy</th>\n",
              "      <th>Talk-Show</th>\n",
              "      <th>History</th>\n",
              "      <th>Game-Show</th>\n",
              "      <th>Music</th>\n",
              "      <th>Short</th>\n",
              "      <th>Reality-TV</th>\n",
              "      <th>News</th>\n",
              "      <th>Adult</th>\n",
              "      <th>Family</th>\n",
              "      <th>Biography</th>\n",
              "      <th>Western</th>\n",
              "      <th>War</th>\n",
              "      <th>Horror</th>\n",
              "      <th>Sport</th>\n",
              "      <th>Adventure</th>\n",
              "      <th>Romance</th>\n",
              "      <th>Action</th>\n",
              "      <th>Thriller</th>\n",
              "      <th>Drama</th>\n",
              "      <th>Film-Noir</th>\n",
              "      <th>Fantasy</th>\n",
              "      <th>Animation</th>\n",
              "      <th>Mystery</th>\n",
              "      <th>APPROVED</th>\n",
              "      <th>Approved</th>\n",
              "      <th>E</th>\n",
              "      <th>G</th>\n",
              "      <th>GP</th>\n",
              "      <th>M</th>\n",
              "      <th>M/PG</th>\n",
              "      <th>NC-17</th>\n",
              "      <th>NOT RATED</th>\n",
              "      <th>NR</th>\n",
              "      <th>Not Rated</th>\n",
              "      <th>PASSED</th>\n",
              "      <th>PG</th>\n",
              "      <th>PG-13</th>\n",
              "      <th>Passed</th>\n",
              "      <th>R</th>\n",
              "      <th>TV-13</th>\n",
              "      <th>TV-14</th>\n",
              "      <th>TV-G</th>\n",
              "      <th>TV-MA</th>\n",
              "      <th>TV-PG</th>\n",
              "      <th>TV-Y</th>\n",
              "      <th>TV-Y7</th>\n",
              "      <th>TV-Y7-FV</th>\n",
              "      <th>UNRATED</th>\n",
              "      <th>Unrated</th>\n",
              "      <th>X</th>\n",
              "      <th>Rating</th>\n",
              "    </tr>\n",
              "  </thead>\n",
              "  <tbody>\n",
              "    <tr>\n",
              "      <th>0</th>\n",
              "      <td>7.7</td>\n",
              "      <td>410.0</td>\n",
              "      <td>1</td>\n",
              "      <td>2000.0</td>\n",
              "      <td>50.0</td>\n",
              "      <td>1</td>\n",
              "      <td>0</td>\n",
              "      <td>0</td>\n",
              "      <td>0</td>\n",
              "      <td>0</td>\n",
              "      <td>0</td>\n",
              "      <td>0</td>\n",
              "      <td>0</td>\n",
              "      <td>0</td>\n",
              "      <td>0</td>\n",
              "      <td>0</td>\n",
              "      <td>0</td>\n",
              "      <td>0</td>\n",
              "      <td>1</td>\n",
              "      <td>0</td>\n",
              "      <td>0</td>\n",
              "      <td>0</td>\n",
              "      <td>0</td>\n",
              "      <td>0</td>\n",
              "      <td>0</td>\n",
              "      <td>0</td>\n",
              "      <td>0</td>\n",
              "      <td>0</td>\n",
              "      <td>0</td>\n",
              "      <td>0</td>\n",
              "      <td>0</td>\n",
              "      <td>1</td>\n",
              "      <td>0</td>\n",
              "      <td>0</td>\n",
              "      <td>0</td>\n",
              "      <td>0</td>\n",
              "      <td>0</td>\n",
              "      <td>0</td>\n",
              "      <td>0</td>\n",
              "      <td>0</td>\n",
              "      <td>0</td>\n",
              "      <td>0</td>\n",
              "      <td>0</td>\n",
              "      <td>0</td>\n",
              "      <td>0</td>\n",
              "      <td>0</td>\n",
              "      <td>0</td>\n",
              "      <td>0</td>\n",
              "      <td>1</td>\n",
              "      <td>0</td>\n",
              "      <td>0</td>\n",
              "      <td>0</td>\n",
              "      <td>0</td>\n",
              "      <td>0</td>\n",
              "      <td>0</td>\n",
              "      <td>0</td>\n",
              "      <td>0</td>\n",
              "      <td>0</td>\n",
              "      <td>0</td>\n",
              "      <td>0</td>\n",
              "      <td>3.749543</td>\n",
              "    </tr>\n",
              "    <tr>\n",
              "      <th>1</th>\n",
              "      <td>7.7</td>\n",
              "      <td>10015.0</td>\n",
              "      <td>3</td>\n",
              "      <td>1990.0</td>\n",
              "      <td>122.0</td>\n",
              "      <td>0</td>\n",
              "      <td>1</td>\n",
              "      <td>0</td>\n",
              "      <td>0</td>\n",
              "      <td>0</td>\n",
              "      <td>0</td>\n",
              "      <td>0</td>\n",
              "      <td>0</td>\n",
              "      <td>0</td>\n",
              "      <td>0</td>\n",
              "      <td>0</td>\n",
              "      <td>0</td>\n",
              "      <td>0</td>\n",
              "      <td>0</td>\n",
              "      <td>0</td>\n",
              "      <td>0</td>\n",
              "      <td>0</td>\n",
              "      <td>0</td>\n",
              "      <td>0</td>\n",
              "      <td>0</td>\n",
              "      <td>0</td>\n",
              "      <td>0</td>\n",
              "      <td>0</td>\n",
              "      <td>1</td>\n",
              "      <td>0</td>\n",
              "      <td>0</td>\n",
              "      <td>0</td>\n",
              "      <td>1</td>\n",
              "      <td>0</td>\n",
              "      <td>0</td>\n",
              "      <td>0</td>\n",
              "      <td>0</td>\n",
              "      <td>0</td>\n",
              "      <td>0</td>\n",
              "      <td>0</td>\n",
              "      <td>0</td>\n",
              "      <td>0</td>\n",
              "      <td>0</td>\n",
              "      <td>0</td>\n",
              "      <td>0</td>\n",
              "      <td>0</td>\n",
              "      <td>0</td>\n",
              "      <td>0</td>\n",
              "      <td>1</td>\n",
              "      <td>0</td>\n",
              "      <td>0</td>\n",
              "      <td>0</td>\n",
              "      <td>0</td>\n",
              "      <td>0</td>\n",
              "      <td>0</td>\n",
              "      <td>0</td>\n",
              "      <td>0</td>\n",
              "      <td>0</td>\n",
              "      <td>0</td>\n",
              "      <td>0</td>\n",
              "      <td>3.641153</td>\n",
              "    </tr>\n",
              "    <tr>\n",
              "      <th>2</th>\n",
              "      <td>6.2</td>\n",
              "      <td>39.0</td>\n",
              "      <td>6</td>\n",
              "      <td>1990.0</td>\n",
              "      <td>15.0</td>\n",
              "      <td>0</td>\n",
              "      <td>0</td>\n",
              "      <td>0</td>\n",
              "      <td>0</td>\n",
              "      <td>0</td>\n",
              "      <td>0</td>\n",
              "      <td>0</td>\n",
              "      <td>0</td>\n",
              "      <td>0</td>\n",
              "      <td>1</td>\n",
              "      <td>0</td>\n",
              "      <td>0</td>\n",
              "      <td>0</td>\n",
              "      <td>0</td>\n",
              "      <td>0</td>\n",
              "      <td>0</td>\n",
              "      <td>0</td>\n",
              "      <td>0</td>\n",
              "      <td>0</td>\n",
              "      <td>0</td>\n",
              "      <td>0</td>\n",
              "      <td>0</td>\n",
              "      <td>0</td>\n",
              "      <td>1</td>\n",
              "      <td>0</td>\n",
              "      <td>0</td>\n",
              "      <td>0</td>\n",
              "      <td>0</td>\n",
              "      <td>0</td>\n",
              "      <td>0</td>\n",
              "      <td>0</td>\n",
              "      <td>0</td>\n",
              "      <td>0</td>\n",
              "      <td>0</td>\n",
              "      <td>0</td>\n",
              "      <td>0</td>\n",
              "      <td>0</td>\n",
              "      <td>0</td>\n",
              "      <td>0</td>\n",
              "      <td>0</td>\n",
              "      <td>0</td>\n",
              "      <td>0</td>\n",
              "      <td>0</td>\n",
              "      <td>1</td>\n",
              "      <td>0</td>\n",
              "      <td>0</td>\n",
              "      <td>0</td>\n",
              "      <td>0</td>\n",
              "      <td>0</td>\n",
              "      <td>0</td>\n",
              "      <td>0</td>\n",
              "      <td>0</td>\n",
              "      <td>0</td>\n",
              "      <td>0</td>\n",
              "      <td>0</td>\n",
              "      <td>3.084396</td>\n",
              "    </tr>\n",
              "    <tr>\n",
              "      <th>3</th>\n",
              "      <td>5.0</td>\n",
              "      <td>62.0</td>\n",
              "      <td>7</td>\n",
              "      <td>1990.0</td>\n",
              "      <td>83.0</td>\n",
              "      <td>0</td>\n",
              "      <td>0</td>\n",
              "      <td>0</td>\n",
              "      <td>1</td>\n",
              "      <td>0</td>\n",
              "      <td>0</td>\n",
              "      <td>0</td>\n",
              "      <td>0</td>\n",
              "      <td>0</td>\n",
              "      <td>0</td>\n",
              "      <td>0</td>\n",
              "      <td>0</td>\n",
              "      <td>0</td>\n",
              "      <td>0</td>\n",
              "      <td>0</td>\n",
              "      <td>0</td>\n",
              "      <td>0</td>\n",
              "      <td>0</td>\n",
              "      <td>0</td>\n",
              "      <td>0</td>\n",
              "      <td>0</td>\n",
              "      <td>1</td>\n",
              "      <td>0</td>\n",
              "      <td>0</td>\n",
              "      <td>0</td>\n",
              "      <td>0</td>\n",
              "      <td>0</td>\n",
              "      <td>0</td>\n",
              "      <td>0</td>\n",
              "      <td>0</td>\n",
              "      <td>0</td>\n",
              "      <td>0</td>\n",
              "      <td>0</td>\n",
              "      <td>0</td>\n",
              "      <td>0</td>\n",
              "      <td>0</td>\n",
              "      <td>0</td>\n",
              "      <td>0</td>\n",
              "      <td>0</td>\n",
              "      <td>0</td>\n",
              "      <td>0</td>\n",
              "      <td>0</td>\n",
              "      <td>0</td>\n",
              "      <td>1</td>\n",
              "      <td>0</td>\n",
              "      <td>0</td>\n",
              "      <td>0</td>\n",
              "      <td>0</td>\n",
              "      <td>0</td>\n",
              "      <td>0</td>\n",
              "      <td>0</td>\n",
              "      <td>0</td>\n",
              "      <td>0</td>\n",
              "      <td>0</td>\n",
              "      <td>0</td>\n",
              "      <td>2.129032</td>\n",
              "    </tr>\n",
              "    <tr>\n",
              "      <th>4</th>\n",
              "      <td>6.5</td>\n",
              "      <td>1394.0</td>\n",
              "      <td>10</td>\n",
              "      <td>2000.0</td>\n",
              "      <td>100.0</td>\n",
              "      <td>0</td>\n",
              "      <td>0</td>\n",
              "      <td>0</td>\n",
              "      <td>0</td>\n",
              "      <td>0</td>\n",
              "      <td>0</td>\n",
              "      <td>0</td>\n",
              "      <td>0</td>\n",
              "      <td>0</td>\n",
              "      <td>0</td>\n",
              "      <td>0</td>\n",
              "      <td>0</td>\n",
              "      <td>0</td>\n",
              "      <td>0</td>\n",
              "      <td>0</td>\n",
              "      <td>0</td>\n",
              "      <td>0</td>\n",
              "      <td>0</td>\n",
              "      <td>0</td>\n",
              "      <td>0</td>\n",
              "      <td>0</td>\n",
              "      <td>1</td>\n",
              "      <td>0</td>\n",
              "      <td>1</td>\n",
              "      <td>0</td>\n",
              "      <td>0</td>\n",
              "      <td>0</td>\n",
              "      <td>0</td>\n",
              "      <td>0</td>\n",
              "      <td>0</td>\n",
              "      <td>0</td>\n",
              "      <td>0</td>\n",
              "      <td>0</td>\n",
              "      <td>0</td>\n",
              "      <td>0</td>\n",
              "      <td>0</td>\n",
              "      <td>0</td>\n",
              "      <td>0</td>\n",
              "      <td>0</td>\n",
              "      <td>0</td>\n",
              "      <td>0</td>\n",
              "      <td>0</td>\n",
              "      <td>0</td>\n",
              "      <td>1</td>\n",
              "      <td>0</td>\n",
              "      <td>0</td>\n",
              "      <td>0</td>\n",
              "      <td>0</td>\n",
              "      <td>0</td>\n",
              "      <td>0</td>\n",
              "      <td>0</td>\n",
              "      <td>0</td>\n",
              "      <td>0</td>\n",
              "      <td>0</td>\n",
              "      <td>0</td>\n",
              "      <td>3.180723</td>\n",
              "    </tr>\n",
              "  </tbody>\n",
              "</table>\n",
              "</div>"
            ],
            "text/plain": [
              "   imdb_rating  imdb_votes  movie_id  ...  Unrated  X    Rating\n",
              "0          7.7       410.0         1  ...        0  0  3.749543\n",
              "1          7.7     10015.0         3  ...        0  0  3.641153\n",
              "2          6.2        39.0         6  ...        0  0  3.084396\n",
              "3          5.0        62.0         7  ...        0  0  2.129032\n",
              "4          6.5      1394.0        10  ...        0  0  3.180723\n",
              "\n",
              "[5 rows x 61 columns]"
            ]
          },
          "metadata": {
            "tags": []
          },
          "execution_count": 67
        }
      ]
    },
    {
      "cell_type": "code",
      "metadata": {
        "id": "90bFNxKHwG0v",
        "colab_type": "code",
        "colab": {}
      },
      "source": [
        "arr=movie_list['Unrated'].values\n",
        "arr=arr+movie_list['Not Rated'].values+ movie_list['UNRATED'].values+movie_list['NOT RATED'].values\n",
        "movie_list['Unrated']=arr\n",
        "arr1=movie_list['Approved'].values\n",
        "arr1+=movie_list['APPROVED'].values\n",
        "movie_list['Approved']=arr1\n",
        "arr2=movie_list['Passed'].values\n",
        "arr2+=movie_list['PASSED'].values\n",
        "movie_list['Passed']=arr2\n",
        "r=['UNRATED','Not Rated','NOT RATED','APPROVED','PASSED']\n",
        "movie_list=movie_list.drop(r,axis=1)"
      ],
      "execution_count": 0,
      "outputs": []
    },
    {
      "cell_type": "code",
      "metadata": {
        "id": "PTTxBozc3yNa",
        "colab_type": "code",
        "colab": {}
      },
      "source": [
        "movie_list=movie_list.drop(['movie_id'],axis=1)"
      ],
      "execution_count": 0,
      "outputs": []
    },
    {
      "cell_type": "code",
      "metadata": {
        "id": "4_seXBc-6esH",
        "colab_type": "code",
        "outputId": "9837304f-31e4-4a34-adf2-2d2c1420055b",
        "colab": {
          "base_uri": "https://localhost:8080/",
          "height": 187
        }
      },
      "source": [
        "movie_list.columns"
      ],
      "execution_count": 0,
      "outputs": [
        {
          "output_type": "execute_result",
          "data": {
            "text/plain": [
              "Index(['imdb_rating', 'imdb_votes', 'movie_year_netflix', 'runtime',\n",
              "       'Documentary', 'Crime', 'Musical', 'Sci-Fi', 'Comedy', 'Talk-Show',\n",
              "       'History', 'Game-Show', 'Music', 'Short', 'Reality-TV', 'News', 'Adult',\n",
              "       'Family', 'Biography', 'Western', 'War', 'Horror', 'Sport', 'Adventure',\n",
              "       'Romance', 'Action', 'Thriller', 'Drama', 'Film-Noir', 'Fantasy',\n",
              "       'Animation', 'Mystery', 'Approved', 'E', 'G', 'GP', 'M', 'M/PG',\n",
              "       'NC-17', 'NR', 'PG', 'PG-13', 'Passed', 'R', 'TV-13', 'TV-14', 'TV-G',\n",
              "       'TV-MA', 'TV-PG', 'TV-Y', 'TV-Y7', 'TV-Y7-FV', 'Unrated', 'X',\n",
              "       'Rating'],\n",
              "      dtype='object')"
            ]
          },
          "metadata": {
            "tags": []
          },
          "execution_count": 70
        }
      ]
    },
    {
      "cell_type": "code",
      "metadata": {
        "id": "jIOyFrDK6v4I",
        "colab_type": "code",
        "outputId": "fc9348c1-6dbe-4279-dbc6-5a04a4f87f05",
        "colab": {
          "base_uri": "https://localhost:8080/",
          "height": 969
        }
      },
      "source": [
        "movie_list.isnull().any()"
      ],
      "execution_count": 0,
      "outputs": [
        {
          "output_type": "execute_result",
          "data": {
            "text/plain": [
              "imdb_rating           False\n",
              "imdb_votes            False\n",
              "movie_year_netflix    False\n",
              "runtime               False\n",
              "Documentary           False\n",
              "Crime                 False\n",
              "Musical               False\n",
              "Sci-Fi                False\n",
              "Comedy                False\n",
              "Talk-Show             False\n",
              "History               False\n",
              "Game-Show             False\n",
              "Music                 False\n",
              "Short                 False\n",
              "Reality-TV            False\n",
              "News                  False\n",
              "Adult                 False\n",
              "Family                False\n",
              "Biography             False\n",
              "Western               False\n",
              "War                   False\n",
              "Horror                False\n",
              "Sport                 False\n",
              "Adventure             False\n",
              "Romance               False\n",
              "Action                False\n",
              "Thriller              False\n",
              "Drama                 False\n",
              "Film-Noir             False\n",
              "Fantasy               False\n",
              "Animation             False\n",
              "Mystery               False\n",
              "Approved              False\n",
              "E                     False\n",
              "G                     False\n",
              "GP                    False\n",
              "M                     False\n",
              "M/PG                  False\n",
              "NC-17                 False\n",
              "NR                    False\n",
              "PG                    False\n",
              "PG-13                 False\n",
              "Passed                False\n",
              "R                     False\n",
              "TV-13                 False\n",
              "TV-14                 False\n",
              "TV-G                  False\n",
              "TV-MA                 False\n",
              "TV-PG                 False\n",
              "TV-Y                  False\n",
              "TV-Y7                 False\n",
              "TV-Y7-FV              False\n",
              "Unrated               False\n",
              "X                     False\n",
              "Rating                False\n",
              "dtype: bool"
            ]
          },
          "metadata": {
            "tags": []
          },
          "execution_count": 71
        }
      ]
    },
    {
      "cell_type": "code",
      "metadata": {
        "id": "FYXX1Odf7Ur1",
        "colab_type": "code",
        "colab": {}
      },
      "source": [
        "movie_list.to_csv('/content/gdrive/My Drive/Reccommendation System/final_dataset_unnormalized.csv',index=None)"
      ],
      "execution_count": 0,
      "outputs": []
    },
    {
      "cell_type": "code",
      "metadata": {
        "id": "1gLAYyj8-5LK",
        "colab_type": "code",
        "colab": {}
      },
      "source": [
        ""
      ],
      "execution_count": 0,
      "outputs": []
    },
    {
      "cell_type": "code",
      "metadata": {
        "id": "kzDuuOdnudnV",
        "colab_type": "code",
        "colab": {}
      },
      "source": [
        "df['rated']=df['rated'].replace({'NOT RATED': 'Unrated', 'Not Rated': 'Unrated', 'UNRATED':'Unrated', 'APPROVED':'Approved', 'PASSED':'Passed'})"
      ],
      "execution_count": 0,
      "outputs": []
    },
    {
      "cell_type": "code",
      "metadata": {
        "id": "HbpyUMwSsX96",
        "colab_type": "code",
        "colab": {}
      },
      "source": [
        "df_all_cust = pd.read_csv('/content/gdrive/My Drive/combined_data_all.csv',header=0,encoding='latin-1')"
      ],
      "execution_count": 0,
      "outputs": []
    },
    {
      "cell_type": "code",
      "metadata": {
        "id": "tlLSPufltgM2",
        "colab_type": "code",
        "colab": {}
      },
      "source": [
        "def user_movies(cust_id):\n",
        "  if cust_id in df_all_cust.Cust_Id.values:\n",
        "    x = df_all_cust[df_all_cust['Cust_Id']==cust_id]\n",
        "   \n",
        "  return x"
      ],
      "execution_count": 0,
      "outputs": []
    },
    {
      "cell_type": "code",
      "metadata": {
        "id": "YOdvon_Wu3Ve",
        "colab_type": "code",
        "outputId": "6cc994ba-8a65-4e0d-8531-39631d190746",
        "colab": {
          "base_uri": "https://localhost:8080/",
          "height": 34
        }
      },
      "source": [
        "x=df_all_cust['Cust_Id'].unique()\n",
        "print(x.shape)\n",
        "\n",
        "df_all_cust.sort_values(by='Cust_Id',inplace=True)"
      ],
      "execution_count": 0,
      "outputs": [
        {
          "output_type": "stream",
          "text": [
            "(480189,)\n"
          ],
          "name": "stdout"
        }
      ]
    },
    {
      "cell_type": "code",
      "metadata": {
        "id": "KOKmFjENFXu0",
        "colab_type": "code",
        "colab": {}
      },
      "source": [
        "import pandas as pd\n",
        "df_rating = pd.read_csv('/content/gdrive/My Drive/Reccommendation System/avg_rat_movie.csv',header = 0, names = ['Movie_ID', 'Rating'],encoding='latin-1')\n",
        "\n"
      ],
      "execution_count": 0,
      "outputs": []
    },
    {
      "cell_type": "code",
      "metadata": {
        "id": "BVDGU9eEq30G",
        "colab_type": "code",
        "colab": {}
      },
      "source": [
        "df_rating.shape\n",
        "df_cluster = pd.read_csv('/content/gdrive/My Drive/Reccommendation System/cluster_movie.csv',header=None,names = ['Movie_ID', 'Cluster_ID'],encoding='latin-1')"
      ],
      "execution_count": 0,
      "outputs": []
    },
    {
      "cell_type": "code",
      "metadata": {
        "id": "uyTgFWGzxupm",
        "colab_type": "code",
        "colab": {}
      },
      "source": [
        "from scipy import stats\n",
        "import scipy\n",
        "\n"
      ],
      "execution_count": 0,
      "outputs": []
    },
    {
      "cell_type": "code",
      "metadata": {
        "id": "2B3qfzdsxe9t",
        "colab_type": "code",
        "outputId": "584fa393-6a22-4cca-f783-908d9faf2616",
        "colab": {
          "base_uri": "https://localhost:8080/",
          "height": 238
        }
      },
      "source": [
        "\n",
        "se=0\n",
        "for i,k in enumerate(list(x[:1000])):\n",
        "  userid=k\n",
        "  df_user_movies = user_movies(userid)\n",
        "  r=df_user_movies.iloc[-1,:]\n",
        "  df_user_movies=df_user_movies.iloc[:-1,:]\n",
        "  movie_id = r['movie_id']\n",
        "  df_x = df_cluster.loc[df_cluster['Movie_ID'] == movie_id]\n",
        "  if not df_x.empty:\n",
        "    cluster_id =df_x['Cluster_ID'].values[0]\n",
        "  \n",
        "    \n",
        "    mov_list=[]\n",
        "\n",
        "    for index, row in df_user_movies.iterrows():\n",
        "        df_clus = df_cluster.loc[df_cluster['Movie_ID'] == row['movie_id']]\n",
        "        cluster_id_cur = df_clus['Cluster_ID']\n",
        "        if len(cluster_id_cur.values) != 0:\n",
        "          if cluster_id_cur.values[0]==cluster_id:\n",
        "            mov_list.append(row['movie_id'])\n",
        "    df_user_movies_new = df_user_movies[df_user_movies['movie_id'].isin(mov_list)]\n",
        "\n",
        "\n",
        "    #avg rating of input movie \n",
        "    average_rating_ip_mov = df_rating.loc[df_rating['Movie_ID'] == movie_id]\n",
        "    \n",
        "\n",
        "    for index, row in df_user_movies_new.iterrows():\n",
        "        df_movie_rat = df_rating[df_rating['Movie_ID'] == row['movie_id']]\n",
        "        df_rating_mov = df_movie_rat['Rating']\n",
        "        df_user_movies_new.loc[index, 'Average Rating'] = df_rating_mov.values[0]\n",
        "  \n",
        "    diff = 0\n",
        "    count = 1\n",
        "    mean = 1;\n",
        "\n",
        "    for index, row in df_user_movies_new.iterrows():\n",
        "      user_rat = row['Rating']\n",
        "      avg_rat = row['Average Rating']\n",
        "      diff = abs(avg_rat - user_rat) + diff\n",
        "      count = count + 1\n",
        "\n",
        "    mean = diff/count\n",
        "    if i==0:\n",
        "      correlation_user = scipy.stats.pearsonr(df_user_movies_new['Rating'], df_user_movies_new['Average Rating'].astype(int))\n",
        "\n",
        "    val = average_rating_ip_mov['Rating'].values[0] + (mean * correlation_user[0])\n",
        "    se+=(val-r['Rating'])**2\n",
        "\n",
        "\n",
        "rmse=(se/len(x))**0.5\n",
        "print(rmse)"
      ],
      "execution_count": 0,
      "outputs": [
        {
          "output_type": "stream",
          "text": [
            "/usr/local/lib/python3.6/dist-packages/pandas/core/indexing.py:376: SettingWithCopyWarning: \n",
            "A value is trying to be set on a copy of a slice from a DataFrame.\n",
            "Try using .loc[row_indexer,col_indexer] = value instead\n",
            "\n",
            "See the caveats in the documentation: http://pandas.pydata.org/pandas-docs/stable/user_guide/indexing.html#returning-a-view-versus-a-copy\n",
            "  self.obj[key] = _infer_fill_value(value)\n",
            "/usr/local/lib/python3.6/dist-packages/pandas/core/indexing.py:494: SettingWithCopyWarning: \n",
            "A value is trying to be set on a copy of a slice from a DataFrame.\n",
            "Try using .loc[row_indexer,col_indexer] = value instead\n",
            "\n",
            "See the caveats in the documentation: http://pandas.pydata.org/pandas-docs/stable/user_guide/indexing.html#returning-a-view-versus-a-copy\n",
            "  self.obj[item] = s\n"
          ],
          "name": "stderr"
        },
        {
          "output_type": "stream",
          "text": [
            "0.04570830026271424\n"
          ],
          "name": "stdout"
        }
      ]
    }
  ]
}